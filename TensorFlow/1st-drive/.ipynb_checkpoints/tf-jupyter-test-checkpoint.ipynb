{
 "cells": [
  {
   "cell_type": "markdown",
   "metadata": {},
   "source": [
    "### You can not activate/deactive an environment in jupyter\n",
    "##### because the jupyter runs with-in powershell and powershell has issue with conda for activating an environment.\n",
    "<ul> \n",
    "            <li><code>activate tf-test</code></li>\n",
    "            <li><code>deactivate</code></li>            \n",
    "        </ul> \n",
    "\n",
    "##### Perform these commands in cmd prompt to open up Notebook in an environment (i.e. tf-test)\n",
    "<ul> \n",
    "            <li><code>(tf-test) > conda install jupyter</code></li>\n",
    "            <li><code>(tf-test) > jupyter notebook</code></li>            \n",
    "        </ul> \n",
    "\n"
   ]
  },
  {
   "cell_type": "markdown",
   "metadata": {},
   "source": [
    "### Check env and libs for TensorFlow\n",
    "\n",
    "<ul> \n",
    "    <li>As of today TensorFlow works fine with Python 3.5</li>\n",
    "    <li>Need to install TensorFlow from pip; NOT from conda repository.</li>\n",
    "    <li>Do all this with cmd prompt.\n",
    "        <ul> \n",
    "            <li><code>conda create -n tf-test pip python=3.5</code></li>\n",
    "            <li><code>activate tf-test </code></li>\n",
    "            <li><code>pip install --upgrade tensorflow</code></li>\n",
    "        </ul>            \n",
    "    </li>\n",
    "</ul>"
   ]
  },
  {
   "cell_type": "code",
   "execution_count": 6,
   "metadata": {},
   "outputs": [
    {
     "name": "stdout",
     "output_type": "stream",
     "text": [
      "# conda environments:\n",
      "#\n",
      "base                     C:\\ProgramData\\Anaconda3\n",
      "tf-test               *  C:\\ProgramData\\Anaconda3\\envs\\tf-test\n",
      "\n"
     ]
    }
   ],
   "source": [
    "# Check the current environment\n",
    "!conda info --envs"
   ]
  },
  {
   "cell_type": "code",
   "execution_count": 1,
   "metadata": {},
   "outputs": [
    {
     "name": "stdout",
     "output_type": "stream",
     "text": [
      "C:\\ProgramData\\Anaconda3\\envs\\tf-test\\python.exe\n"
     ]
    }
   ],
   "source": [
    "import sys\n",
    "print(sys.executable)"
   ]
  },
  {
   "cell_type": "code",
   "execution_count": 8,
   "metadata": {},
   "outputs": [
    {
     "name": "stdout",
     "output_type": "stream",
     "text": [
      "# packages in environment at C:\\ProgramData\\Anaconda3\\envs\\tf-test:\n",
      "#\n",
      "# Name                    Version                   Build  Channel\n",
      "absl-py                   0.4.0                     <pip>\n",
      "alabaster                 0.7.11                   py35_0  \n",
      "appdirs                   1.4.3            py35h28b3542_0  \n",
      "asn1crypto                0.24.0                   py35_0  \n",
      "astor                     0.7.1                     <pip>\n",
      "astroid                   2.0.4                    py35_0  \n",
      "attrs                     18.1.0                   py35_0  \n",
      "automat                   0.7.0                    py35_0  \n",
      "babel                     2.6.0                    py35_0  \n",
      "backcall                  0.1.0                    py35_0  \n",
      "blas                      1.0                         mkl  \n",
      "bleach                    2.1.3                    py35_0  \n",
      "ca-certificates           2018.03.07                    0  \n",
      "certifi                   2018.8.24                py35_1  \n",
      "cffi                      1.11.5           py35h945400d_0  \n",
      "chardet                   3.0.4                    py35_1  \n",
      "cloudpickle               0.5.3                    py35_0  \n",
      "colorama                  0.3.9            py35h32a752f_0  \n",
      "constantly                15.1.0           py35h28b3542_0  \n",
      "cryptography              2.3              py35h74b6da3_0  \n",
      "cryptography-vectors      2.3                      py35_0  \n",
      "decorator                 4.3.0                    py35_0  \n",
      "docutils                  0.14             py35h8ccb97f_0  \n",
      "entrypoints               0.2.3            py35hb91ced9_2  \n",
      "gast                      0.2.0                     <pip>\n",
      "grpcio                    1.14.1                    <pip>\n",
      "html5lib                  1.0.1            py35h047fa9f_0  \n",
      "hyperlink                 18.0.0                   py35_0  \n",
      "icc_rt                    2017.0.4             h97af966_0  \n",
      "icu                       58.2                 ha66f8fd_1  \n",
      "idna                      2.7                      py35_0  \n",
      "imagesize                 1.0.0                    py35_0  \n",
      "incremental               17.5.0                   py35_0  \n",
      "intel-openmp              2018.0.3                      0  \n",
      "ipykernel                 4.8.2                    py35_0  \n",
      "ipython                   6.5.0                    py35_0  \n",
      "ipython_genutils          0.2.0            py35ha709e79_0  \n",
      "ipywidgets                7.4.0            py35h28b3542_0  \n",
      "isort                     4.3.4                    py35_0  \n",
      "jedi                      0.12.1                   py35_0  \n",
      "jinja2                    2.10                     py35_0  \n",
      "jpeg                      9b                   hb83a4c4_2  \n",
      "jsonschema                2.6.0            py35h27d56d3_0  \n",
      "jupyter                   1.0.0                    py35_5  \n",
      "jupyter_client            5.2.3                    py35_0  \n",
      "jupyter_console           5.2.0                    py35_1  \n",
      "jupyter_core              4.4.0            py35h629ba7f_0  \n",
      "keyring                   13.2.1                   py35_0  \n",
      "lazy-object-proxy         1.3.1            py35he996729_0  \n",
      "libpng                    1.6.34               h79bbb47_0  \n",
      "libsodium                 1.0.16               h9d3ae62_0  \n",
      "m2w64-gcc-libgfortran     5.3.0                         6  \n",
      "m2w64-gcc-libs            5.3.0                         7  \n",
      "m2w64-gcc-libs-core       5.3.0                         7  \n",
      "m2w64-gmp                 6.1.0                         2  \n",
      "m2w64-libwinpthread-git   5.0.0.4634.697f757               2  \n",
      "Markdown                  2.6.11                    <pip>\n",
      "markupsafe                1.0              py35hc253e08_1  \n",
      "mccabe                    0.6.1                    py35_1  \n",
      "mistune                   0.8.3            py35hfa6e2cd_1  \n",
      "mkl                       2018.0.3                      1  \n",
      "mkl_fft                   1.0.4            py35h1e22a9b_1  \n",
      "mkl_random                1.0.1            py35h9258bd6_0  \n",
      "msys2-conda-epoch         20160418                      1  \n",
      "nbconvert                 5.3.1            py35h98d6c46_0  \n",
      "nbformat                  4.4.0            py35h908c9d9_0  \n",
      "notebook                  5.6.0                    py35_0  \n",
      "numpy                     1.14.5                    <pip>\n",
      "numpy                     1.15.0           py35h9fa60d3_0  \n",
      "numpy-base                1.15.0           py35h4a99626_0  \n",
      "numpydoc                  0.8.0                    py35_0  \n",
      "openssl                   1.0.2p               hfa6e2cd_0  \n",
      "packaging                 17.1                     py35_0  \n",
      "pandas                    0.23.4           py35h830ac7b_0  \n",
      "pandoc                    2.2.1                h1a437c5_0  \n",
      "pandocfilters             1.4.2            py35h978f723_1  \n",
      "parso                     0.3.1                    py35_0  \n",
      "pickleshare               0.7.4            py35h2f9f535_0  \n",
      "pip                       10.0.1                   py35_0  \n",
      "prometheus_client         0.3.1            py35h28b3542_0  \n",
      "prompt_toolkit            1.0.15           py35h89c7cb4_0  \n",
      "protobuf                  3.6.1                     <pip>\n",
      "psutil                    5.4.6            py35hfa6e2cd_0  \n",
      "pyasn1                    0.4.4            py35h28b3542_0  \n",
      "pyasn1-modules            0.2.2                    py35_0  \n",
      "pycodestyle               2.4.0                    py35_0  \n",
      "pycparser                 2.18             py35h15a15da_1  \n",
      "pyflakes                  2.0.0                    py35_0  \n",
      "pygments                  2.2.0            py35h24c0941_0  \n",
      "pylint                    2.1.1                    py35_0  \n",
      "pyopenssl                 18.0.0                   py35_0  \n",
      "pyparsing                 2.2.0            py35hcabcaab_1  \n",
      "pyqt                      5.9.2            py35ha878b3d_0  \n",
      "pysocks                   1.6.8                    py35_0  \n",
      "python                    3.5.5                h0c2934d_2  \n",
      "python-dateutil           2.7.3                    py35_0  \n",
      "pytz                      2018.5                   py35_0  \n",
      "pywin32                   223              py35hfa6e2cd_1  \n",
      "pywinpty                  0.5.4                    py35_0  \n",
      "pyzmq                     17.1.2           py35hfa6e2cd_0  \n",
      "qt                        5.9.6            vc14h62aca36_0  \n",
      "qtawesome                 0.4.4            py35h639d0ff_0  \n",
      "qtconsole                 4.3.1            py35hc47b0dd_0  \n",
      "qtpy                      1.4.2                    py35_1  \n",
      "requests                  2.19.1                   py35_0  \n",
      "rope                      0.11.0                   py35_0  \n",
      "send2trash                1.5.0                    py35_0  \n",
      "service_identity          17.0.0           py35h28b3542_0  \n",
      "setuptools                40.0.0                   py35_0  \n",
      "setuptools                39.1.0                    <pip>\n",
      "simplegeneric             0.8.1                    py35_2  \n",
      "sip                       4.19.8           py35h6538335_0  \n",
      "six                       1.11.0                    <pip>\n",
      "six                       1.11.0                   py35_1  \n",
      "snowballstemmer           1.2.1            py35h4c55bfa_0  \n",
      "sphinx                    1.7.6                    py35_0  \n",
      "sphinxcontrib             1.0              py35h45f5ca3_1  \n",
      "sphinxcontrib-websupport  1.1.0                    py35_1  \n",
      "spyder                    3.3.1                    py35_1  \n",
      "spyder-kernels            0.2.6                    py35_0  \n",
      "sqlite                    3.24.0               h7602738_0  \n",
      "tensorboard               1.10.0                    <pip>\n",
      "tensorflow                1.10.0                    <pip>\n",
      "termcolor                 1.1.0                     <pip>\n",
      "terminado                 0.8.1                    py35_1  \n",
      "testpath                  0.3.1            py35h06cf69e_0  \n",
      "tornado                   5.1              py35hfa6e2cd_0  \n",
      "traitlets                 4.3.2            py35h09b975b_0  \n",
      "twisted                   18.7.0           py35hfa6e2cd_1  \n",
      "typed-ast                 1.1.0            py35hfa6e2cd_0  \n",
      "urllib3                   1.23                     py35_0  \n",
      "vc                        14.1                 h0510ff6_3  \n",
      "vs2015_runtime            15.5.2                        3  \n",
      "wcwidth                   0.1.7            py35h6e80d8a_0  \n",
      "webencodings              0.5.1            py35h5d527fb_1  \n",
      "Werkzeug                  0.14.1                    <pip>\n",
      "wheel                     0.31.1                   py35_0  \n",
      "widgetsnbextension        3.4.0                    py35_0  \n",
      "win_inet_pton             1.0.1            py35hbef1270_1  \n",
      "win_unicode_console       0.5              py35h56988b5_0  \n",
      "wincertstore              0.2              py35hfebbdb8_0  \n",
      "winpty                    0.4.3                         4  \n",
      "wrapt                     1.10.11          py35h54666f7_0  \n",
      "zeromq                    4.2.5                he025d50_1  \n",
      "zlib                      1.2.11               h8395fce_2  \n",
      "zope                      1.0                      py35_0  \n",
      "zope.interface            4.5.0            py35hfa6e2cd_0  \n"
     ]
    }
   ],
   "source": [
    "# Check the installed package in the current environment\n",
    "!conda list"
   ]
  },
  {
   "cell_type": "code",
   "execution_count": 9,
   "metadata": {},
   "outputs": [
    {
     "name": "stderr",
     "output_type": "stream",
     "text": [
      "Python 3.5.5 :: Anaconda, Inc.\n"
     ]
    }
   ],
   "source": [
    "!python --version"
   ]
  },
  {
   "cell_type": "markdown",
   "metadata": {},
   "source": [
    "### Test Tensorflow"
   ]
  },
  {
   "cell_type": "code",
   "execution_count": 4,
   "metadata": {},
   "outputs": [
    {
     "name": "stdout",
     "output_type": "stream",
     "text": [
      "b'Hello, TensorFlow!'\n"
     ]
    }
   ],
   "source": [
    "import tensorflow as tf\n",
    "hello = tf.constant('Hello, TensorFlow!')\n",
    "sess = tf.Session()\n",
    "print(sess.run(hello))"
   ]
  },
  {
   "cell_type": "code",
   "execution_count": 3,
   "metadata": {},
   "outputs": [],
   "source": [
    "# Place this before directly or indirectly importing tensorflow\n",
    "import logging\n",
    "logging.getLogger(\"tensorflow\").setLevel(logging.INFO)"
   ]
  },
  {
   "cell_type": "code",
   "execution_count": 36,
   "metadata": {},
   "outputs": [],
   "source": [
    "import os\n",
    "os.environ['TF_CPP_MIN_LOG_LEVEL'] = '0'  # or any {'0', '1', '2'}"
   ]
  },
  {
   "cell_type": "code",
   "execution_count": null,
   "metadata": {},
   "outputs": [],
   "source": []
  }
 ],
 "metadata": {
  "kernelspec": {
   "display_name": "Python 3",
   "language": "python",
   "name": "python3"
  },
  "language_info": {
   "codemirror_mode": {
    "name": "ipython",
    "version": 3
   },
   "file_extension": ".py",
   "mimetype": "text/x-python",
   "name": "python",
   "nbconvert_exporter": "python",
   "pygments_lexer": "ipython3",
   "version": "3.5.5"
  }
 },
 "nbformat": 4,
 "nbformat_minor": 2
}

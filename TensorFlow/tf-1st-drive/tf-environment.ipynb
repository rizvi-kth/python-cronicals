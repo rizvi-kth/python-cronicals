{
 "cells": [
  {
   "cell_type": "markdown",
   "metadata": {},
   "source": [
    "### Check env and libs for TensorFlow\n",
    "\n",
    "<ul> \n",
    "    <li>As of today TensorFlow works fine with Python 3.5</li>\n",
    "    <li>Need to install TensorFlow from pip; NOT from conda repository.</li>\n",
    "    <li>Do all this with cmd prompt.\n",
    "        <ul> \n",
    "            <li><code>conda create -n tf-test pip python=3.5</code></li>\n",
    "            <li><code>activate tf-test </code></li>\n",
    "            <li><code>pip install --upgrade tensorflow</code></li>\n",
    "        </ul>            \n",
    "    </li>\n",
    "</ul>"
   ]
  },
  {
   "cell_type": "code",
   "execution_count": 4,
   "metadata": {},
   "outputs": [
    {
     "name": "stdout",
     "output_type": "stream",
     "text": [
      "# conda environments:\n",
      "#\n",
      "base                     C:\\ProgramData\\Anaconda3\n",
      "tf-test               *  C:\\ProgramData\\Anaconda3\\envs\\tf-test\n",
      "\n"
     ]
    }
   ],
   "source": [
    "# Check the current environment\n",
    "!conda info --envs"
   ]
  },
  {
   "cell_type": "code",
   "execution_count": 5,
   "metadata": {},
   "outputs": [
    {
     "name": "stdout",
     "output_type": "stream",
     "text": [
      "# packages in environment at C:\\ProgramData\\Anaconda3\\envs\\tf-test:\n",
      "#\n",
      "# Name                    Version                   Build  Channel\n",
      "absl-py                   0.4.0                     <pip>\n",
      "astor                     0.7.1                     <pip>\n",
      "certifi                   2018.8.13                py35_0  \n",
      "gast                      0.2.0                     <pip>\n",
      "grpcio                    1.14.1                    <pip>\n",
      "Markdown                  2.6.11                    <pip>\n",
      "numpy                     1.14.5                    <pip>\n",
      "pip                       10.0.1                   py35_0  \n",
      "protobuf                  3.6.1                     <pip>\n",
      "python                    3.5.5                h0c2934d_2  \n",
      "setuptools                40.0.0                   py35_0  \n",
      "setuptools                39.1.0                    <pip>\n",
      "six                       1.11.0                    <pip>\n",
      "tensorboard               1.10.0                    <pip>\n",
      "tensorflow                1.10.0                    <pip>\n",
      "termcolor                 1.1.0                     <pip>\n",
      "vc                        14.1                 h0510ff6_3  \n",
      "vs2015_runtime            15.5.2                        3  \n",
      "Werkzeug                  0.14.1                    <pip>\n",
      "wheel                     0.31.1                   py35_0  \n",
      "wincertstore              0.2              py35hfebbdb8_0  \n"
     ]
    }
   ],
   "source": [
    "# Check the installed package in the current environment\n",
    "!conda list"
   ]
  },
  {
   "cell_type": "code",
   "execution_count": 8,
   "metadata": {},
   "outputs": [
    {
     "name": "stderr",
     "output_type": "stream",
     "text": [
      "Python 3.5.5 :: Anaconda, Inc.\n"
     ]
    }
   ],
   "source": [
    "!python --version"
   ]
  },
  {
   "cell_type": "markdown",
   "metadata": {},
   "source": [
    "### Test Tensorflow"
   ]
  },
  {
   "cell_type": "code",
   "execution_count": 9,
   "metadata": {},
   "outputs": [
    {
     "ename": "ModuleNotFoundError",
     "evalue": "No module named 'tensorflow'",
     "output_type": "error",
     "traceback": [
      "\u001b[1;31m---------------------------------------------------------------------------\u001b[0m",
      "\u001b[1;31mModuleNotFoundError\u001b[0m                       Traceback (most recent call last)",
      "\u001b[1;32m<ipython-input-9-64156d691fe5>\u001b[0m in \u001b[0;36m<module>\u001b[1;34m()\u001b[0m\n\u001b[1;32m----> 1\u001b[1;33m \u001b[1;32mimport\u001b[0m \u001b[0mtensorflow\u001b[0m \u001b[1;32mas\u001b[0m \u001b[0mtf\u001b[0m\u001b[1;33m\u001b[0m\u001b[0m\n\u001b[0m",
      "\u001b[1;31mModuleNotFoundError\u001b[0m: No module named 'tensorflow'"
     ]
    }
   ],
   "source": [
    "import tensorflow as tf\n",
    "hello = tf.constant('Hello, TensorFlow!')\n",
    "sess = tf.Session()\n",
    "print(sess.run(hello))"
   ]
  },
  {
   "cell_type": "markdown",
   "metadata": {},
   "source": [
    "### You can not activate/deactive an environment in jupyter\n",
    "##### because the jupyter runs with-in powershell and powershell has issue with conda for activating an environment.\n",
    "<ul> \n",
    "            <li><code>activate tf-test</code></li>\n",
    "            <li><code>deactivate</code></li>            \n",
    "        </ul> \n",
    "\n",
    "##### Perform these commands in cmd prompt"
   ]
  }
 ],
 "metadata": {
  "kernelspec": {
   "display_name": "Python 3",
   "language": "python",
   "name": "python3"
  },
  "language_info": {
   "codemirror_mode": {
    "name": "ipython",
    "version": 3
   },
   "file_extension": ".py",
   "mimetype": "text/x-python",
   "name": "python",
   "nbconvert_exporter": "python",
   "pygments_lexer": "ipython3",
   "version": "3.6.3"
  }
 },
 "nbformat": 4,
 "nbformat_minor": 2
}

{
 "cells": [
  {
   "cell_type": "markdown",
   "metadata": {},
   "source": [
    "### Import Tensorflow and Numpy packages"
   ]
  },
  {
   "cell_type": "code",
   "execution_count": 12,
   "metadata": {},
   "outputs": [
    {
     "name": "stdout",
     "output_type": "stream",
     "text": [
      "Tensorflow version:  1.10.0\n",
      "Numpy version     :  1.15.2\n"
     ]
    }
   ],
   "source": [
    "import tensorflow as tf\n",
    "import numpy as np\n",
    "print(\"Tensorflow version: \", tf.__version__)\n",
    "print(\"Numpy version     : \", np.__version__)"
   ]
  },
  {
   "cell_type": "markdown",
   "metadata": {},
   "source": [
    "### Download MNIST digit dataset\n",
    "The MNIST database of handwritten digits, available from this page, has a training set of 60,000 examples, and a test set of 10,000 examples. It is a subset of a larger set available from NIST. The digits have been size-normalized and centered in a fixed-size image."
   ]
  },
  {
   "cell_type": "code",
   "execution_count": 2,
   "metadata": {},
   "outputs": [],
   "source": [
    "(x_train, y_train), (x_test, y_test) = tf.keras.datasets.mnist.load_data(path='mnist.npz')"
   ]
  },
  {
   "cell_type": "markdown",
   "metadata": {},
   "source": [
    "##### Process Data - Reshape mnist dataset for input node."
   ]
  },
  {
   "cell_type": "code",
   "execution_count": 3,
   "metadata": {},
   "outputs": [],
   "source": [
    "x_train = x_train.reshape([-1, 784])\n",
    "x_train = x_train.astype(float)\n",
    "y_train = y_train.astype(np.int32)\n",
    "\n",
    "x_test = x_test.reshape([-1, 784])\n",
    "x_test = x_test.astype(float)\n",
    "y_test = y_test.astype(np.int32)"
   ]
  },
  {
   "cell_type": "markdown",
   "metadata": {},
   "source": [
    "##### Check the data"
   ]
  },
  {
   "cell_type": "code",
   "execution_count": 4,
   "metadata": {},
   "outputs": [
    {
     "name": "stdout",
     "output_type": "stream",
     "text": [
      "Train Samples: (60000, 784)\n",
      "Train Outputs: (60000,)\n",
      "Eval Samples: (10000, 784)\n",
      "Eval Outputs: (10000,)\n"
     ]
    }
   ],
   "source": [
    "# 60000 data samples\n",
    "print(\"Train Samples: {}\".format(x_train.shape))\n",
    "print(\"Train Outputs: {}\".format(y_train.shape))\n",
    "\n",
    "# Sample size 28x28\n",
    "# 10000 test samples\n",
    "print(\"Eval Samples: {}\".format(x_test.shape))\n",
    "print(\"Eval Outputs: {}\".format(y_test.shape))"
   ]
  },
  {
   "cell_type": "markdown",
   "metadata": {},
   "source": [
    "### Write a model function\n",
    "###### Model function runs in 3 different modes: Train, Evaluate and Test.\n",
    "To implement a typical model function, you must do the following:\n",
    "  - Define the model.\n",
    "  - Specify additional calculations for each of the three different modes:\n",
    "      - Predict\n",
    "      - Evaluate\n",
    "      - Train"
   ]
  },
  {
   "cell_type": "code",
   "execution_count": 5,
   "metadata": {},
   "outputs": [],
   "source": [
    "def cnn_model_fn(features, labels, mode):\n",
    "    \n",
    "    input_layer = features[\"x\"]\n",
    "    fc1 = tf.layers.dense(input_layer, 256, activation=tf.nn.relu, name=\"Hidden-1\")\n",
    "    fc2 = tf.layers.dense(fc1, 128, activation=tf.nn.relu, name=\"Hidden-2\")\n",
    "    dropout = tf.layers.dropout(inputs=fc2, rate=0.4, training=mode == tf.estimator.ModeKeys.TRAIN)\n",
    "\n",
    "    # Logits Layer\n",
    "    logits = tf.layers.dense(inputs=dropout, units=10)\n",
    "\n",
    "    predictions = {\n",
    "        # Generate predictions (for PREDICT and EVAL mode)\n",
    "        \"classes\": tf.argmax(input=logits, axis=1, name=\"classes_op\"),\n",
    "        # Add `softmax_tensor` to the graph. It is used for PREDICT and by the\n",
    "        # `logging_hook`.\n",
    "        \"probabilities\": tf.nn.softmax(logits, name=\"softmax_tensor\")\n",
    "    }\n",
    "\n",
    "    # Compute evaluation metrics.\n",
    "    accuracy = tf.metrics.accuracy(labels=labels, predictions= predictions[\"classes\"], name='acc_op')\n",
    "    metrics = {'accuracy': accuracy}\n",
    "\n",
    "    # merging and saving them every 100 steps by default for Tensorboard\n",
    "    tf.summary.scalar('accuracy', accuracy[1])\n",
    "\n",
    "    if mode == tf.estimator.ModeKeys.PREDICT:\n",
    "        return tf.estimator.EstimatorSpec(mode=mode, predictions=predictions)\n",
    "\n",
    "    # Calculate Loss (for both TRAIN and EVAL modes)\n",
    "    loss = tf.losses.sparse_softmax_cross_entropy(labels=labels, logits=logits)\n",
    "    tf.summary.scalar('loss', loss)\n",
    "\n",
    "    internal_logging_hook = tf.train.LoggingTensorHook({\"1_loss\": loss, \"2_accuracy\": accuracy[1]}, every_n_iter=10 )\n",
    "\n",
    "    # Configure the Training Op (for TRAIN mode)\n",
    "    if mode == tf.estimator.ModeKeys.TRAIN:\n",
    "        optimizer = tf.train.GradientDescentOptimizer(learning_rate=0.001)\n",
    "        train_op = optimizer.minimize(loss=loss, global_step=tf.train.get_global_step())\n",
    "        return tf.estimator.EstimatorSpec(mode=mode, loss=loss, train_op=train_op, training_hooks = [internal_logging_hook])\n",
    "\n",
    "    # Add evaluation metrics (for EVAL mode)\n",
    "    eval_metric_ops = {\"accuracy\": tf.metrics.accuracy(labels=labels, predictions=predictions[\"classes\"])}\n",
    "    return tf.estimator.EstimatorSpec(mode=mode, loss=loss, eval_metric_ops=eval_metric_ops)\n"
   ]
  },
  {
   "cell_type": "markdown",
   "metadata": {},
   "source": [
    "##### Create the Estimator"
   ]
  },
  {
   "cell_type": "code",
   "execution_count": 6,
   "metadata": {},
   "outputs": [
    {
     "name": "stdout",
     "output_type": "stream",
     "text": [
      "INFO:tensorflow:Using config: {'_model_dir': './checkpoints/log2jupyter', '_tf_random_seed': None, '_save_summary_steps': 50, '_save_checkpoints_steps': None, '_save_checkpoints_secs': 600, '_session_config': None, '_keep_checkpoint_max': 5, '_keep_checkpoint_every_n_hours': 10000, '_log_step_count_steps': 50, '_train_distribute': None, '_device_fn': None, '_service': None, '_cluster_spec': <tensorflow.python.training.server_lib.ClusterSpec object at 0x00000232B140B908>, '_task_type': 'worker', '_task_id': 0, '_global_id_in_cluster': 0, '_master': '', '_evaluation_master': '', '_is_chief': True, '_num_ps_replicas': 0, '_num_worker_replicas': 1}\n"
     ]
    }
   ],
   "source": [
    "mnist_classifier = tf.estimator.Estimator(model_fn=cnn_model_fn,\n",
    "                                          model_dir=\"./checkpoints/log2jupyter\",\n",
    "                                          config=tf.estimator.RunConfig(log_step_count_steps=50,\n",
    "                                                                        save_summary_steps=50),)\n"
   ]
  },
  {
   "cell_type": "markdown",
   "metadata": {},
   "source": [
    "##### Prepare input function for Training"
   ]
  },
  {
   "cell_type": "code",
   "execution_count": 7,
   "metadata": {},
   "outputs": [],
   "source": [
    "train_input_fn = tf.estimator.inputs.numpy_input_fn(x={\"x\": x_train},\n",
    "                                                    y=y_train,\n",
    "                                                    batch_size=100,\n",
    "                                                    num_epochs=None,\n",
    "                                                    shuffle=True)\n"
   ]
  },
  {
   "cell_type": "markdown",
   "metadata": {},
   "source": [
    "##### Train .. Train .. Train .."
   ]
  },
  {
   "cell_type": "code",
   "execution_count": 8,
   "metadata": {},
   "outputs": [
    {
     "name": "stdout",
     "output_type": "stream",
     "text": [
      "INFO:tensorflow:Calling model_fn.\n",
      "INFO:tensorflow:Done calling model_fn.\n",
      "INFO:tensorflow:Create CheckpointSaverHook.\n",
      "INFO:tensorflow:Graph was finalized.\n",
      "INFO:tensorflow:Restoring parameters from ./checkpoints/log2jupyter\\model.ckpt-65000\n",
      "INFO:tensorflow:Running local_init_op.\n",
      "INFO:tensorflow:Done running local_init_op.\n",
      "INFO:tensorflow:Saving checkpoints for 65000 into ./checkpoints/log2jupyter\\model.ckpt.\n",
      "INFO:tensorflow:loss = 0.08926447480916977, step = 65001\n",
      "INFO:tensorflow:1_loss = 0.08926447480916977, 2_accuracy = 0.97\n",
      "INFO:tensorflow:1_loss = 0.0753067210316658, 2_accuracy = 0.97 (0.213 sec)\n",
      "INFO:tensorflow:1_loss = 0.061375636607408524, 2_accuracy = 0.9766667 (0.060 sec)\n",
      "INFO:tensorflow:1_loss = 0.1067533865571022, 2_accuracy = 0.9725 (0.054 sec)\n",
      "INFO:tensorflow:1_loss = 0.09109072387218475, 2_accuracy = 0.974 (0.067 sec)\n",
      "INFO:tensorflow:global_step/sec: 112.454\n",
      "INFO:tensorflow:loss = 0.11332997679710388, step = 65051 (0.445 sec)\n",
      "INFO:tensorflow:1_loss = 0.11332997679710388, 2_accuracy = 0.97 (0.065 sec)\n",
      "INFO:tensorflow:1_loss = 0.05597974732518196, 2_accuracy = 0.9728571 (0.066 sec)\n",
      "INFO:tensorflow:1_loss = 0.12649495899677277, 2_accuracy = 0.97 (0.052 sec)\n",
      "INFO:tensorflow:1_loss = 0.1282728612422943, 2_accuracy = 0.96666664 (0.072 sec)\n",
      "INFO:tensorflow:1_loss = 0.06211354583501816, 2_accuracy = 0.967 (0.058 sec)\n",
      "INFO:tensorflow:global_step/sec: 149.605\n",
      "INFO:tensorflow:loss = 0.11398979276418686, step = 65101 (0.337 sec)\n",
      "INFO:tensorflow:1_loss = 0.11398979276418686, 2_accuracy = 0.9663636 (0.078 sec)\n",
      "INFO:tensorflow:1_loss = 0.054499901831150055, 2_accuracy = 0.9683333 (0.070 sec)\n",
      "INFO:tensorflow:1_loss = 0.07095878571271896, 2_accuracy = 0.9676923 (0.080 sec)\n",
      "INFO:tensorflow:1_loss = 0.10199322551488876, 2_accuracy = 0.9671429 (0.073 sec)\n",
      "INFO:tensorflow:1_loss = 0.08510269969701767, 2_accuracy = 0.9673333 (0.074 sec)\n",
      "INFO:tensorflow:global_step/sec: 137.745\n",
      "INFO:tensorflow:loss = 0.07366880029439926, step = 65151 (0.363 sec)\n",
      "INFO:tensorflow:1_loss = 0.07366880029439926, 2_accuracy = 0.966875 (0.065 sec)\n",
      "INFO:tensorflow:1_loss = 0.04041176661849022, 2_accuracy = 0.9676471 (0.069 sec)\n",
      "INFO:tensorflow:1_loss = 0.11580867320299149, 2_accuracy = 0.9672222 (0.060 sec)\n",
      "INFO:tensorflow:1_loss = 0.10002819448709488, 2_accuracy = 0.9673684 (0.069 sec)\n",
      "INFO:tensorflow:1_loss = 0.12648919224739075, 2_accuracy = 0.9665 (0.061 sec)\n",
      "INFO:tensorflow:global_step/sec: 143.869\n",
      "INFO:tensorflow:loss = 0.0647486224770546, step = 65201 (0.348 sec)\n",
      "INFO:tensorflow:1_loss = 0.0647486224770546, 2_accuracy = 0.9671429 (0.089 sec)\n",
      "INFO:tensorflow:1_loss = 0.25997158885002136, 2_accuracy = 0.9654545 (0.078 sec)\n",
      "INFO:tensorflow:1_loss = 0.12952810525894165, 2_accuracy = 0.9647826 (0.073 sec)\n",
      "INFO:tensorflow:1_loss = 0.10945436358451843, 2_accuracy = 0.96458334 (0.076 sec)\n",
      "INFO:tensorflow:1_loss = 0.1672256588935852, 2_accuracy = 0.9636 (0.078 sec)\n",
      "INFO:tensorflow:global_step/sec: 132.629\n",
      "INFO:tensorflow:loss = 0.09702739864587784, step = 65251 (0.377 sec)\n",
      "INFO:tensorflow:1_loss = 0.09702739864587784, 2_accuracy = 0.9634615 (0.071 sec)\n",
      "INFO:tensorflow:1_loss = 0.2029038518667221, 2_accuracy = 0.9622222 (0.074 sec)\n",
      "INFO:tensorflow:1_loss = 0.08182118833065033, 2_accuracy = 0.9621429 (0.062 sec)\n",
      "INFO:tensorflow:1_loss = 0.12413765490055084, 2_accuracy = 0.962069 (0.052 sec)\n",
      "INFO:tensorflow:1_loss = 0.1036391407251358, 2_accuracy = 0.962 (0.082 sec)\n",
      "INFO:tensorflow:global_step/sec: 147.174\n",
      "INFO:tensorflow:loss = 0.0548834502696991, step = 65301 (0.339 sec)\n",
      "INFO:tensorflow:1_loss = 0.0548834502696991, 2_accuracy = 0.9629032 (0.069 sec)\n",
      "INFO:tensorflow:1_loss = 0.11730777472257614, 2_accuracy = 0.9621875 (0.077 sec)\n",
      "INFO:tensorflow:1_loss = 0.07597708702087402, 2_accuracy = 0.9624242 (0.072 sec)\n",
      "INFO:tensorflow:1_loss = 0.06085764616727829, 2_accuracy = 0.9632353 (0.075 sec)\n",
      "INFO:tensorflow:1_loss = 0.07309569418430328, 2_accuracy = 0.96342856 (0.072 sec)\n",
      "INFO:tensorflow:global_step/sec: 133.336\n",
      "INFO:tensorflow:loss = 0.09789390116930008, step = 65351 (0.376 sec)\n",
      "INFO:tensorflow:1_loss = 0.09789390116930008, 2_accuracy = 0.96305555 (0.080 sec)\n",
      "INFO:tensorflow:1_loss = 0.13882841169834137, 2_accuracy = 0.96243244 (0.071 sec)\n",
      "INFO:tensorflow:1_loss = 0.02353295311331749, 2_accuracy = 0.96342105 (0.062 sec)\n",
      "INFO:tensorflow:1_loss = 0.04641224443912506, 2_accuracy = 0.96410257 (0.055 sec)\n",
      "INFO:tensorflow:1_loss = 0.11696544289588928, 2_accuracy = 0.96425 (0.088 sec)\n",
      "INFO:tensorflow:global_step/sec: 146.663\n",
      "INFO:tensorflow:loss = 0.07457596808671951, step = 65401 (0.341 sec)\n",
      "INFO:tensorflow:1_loss = 0.07457596808671951, 2_accuracy = 0.9643902 (0.064 sec)\n",
      "INFO:tensorflow:1_loss = 0.08545637875795364, 2_accuracy = 0.9645238 (0.074 sec)\n",
      "INFO:tensorflow:1_loss = 0.04684373736381531, 2_accuracy = 0.96511626 (0.059 sec)\n",
      "INFO:tensorflow:1_loss = 0.12259871512651443, 2_accuracy = 0.9645454 (0.098 sec)\n",
      "INFO:tensorflow:1_loss = 0.05963939428329468, 2_accuracy = 0.9648889 (0.098 sec)\n",
      "INFO:tensorflow:global_step/sec: 109.035\n",
      "INFO:tensorflow:loss = 0.07698457688093185, step = 65451 (0.459 sec)\n",
      "INFO:tensorflow:1_loss = 0.07698457688093185, 2_accuracy = 0.965 (0.131 sec)\n",
      "INFO:tensorflow:1_loss = 0.16615544259548187, 2_accuracy = 0.96404254 (0.070 sec)\n",
      "INFO:tensorflow:1_loss = 0.10014895349740982, 2_accuracy = 0.9639583 (0.060 sec)\n",
      "INFO:tensorflow:1_loss = 0.1195908933877945, 2_accuracy = 0.9636735 (0.063 sec)\n",
      "INFO:tensorflow:1_loss = 0.04578948765993118, 2_accuracy = 0.964 (0.062 sec)\n",
      "INFO:tensorflow:global_step/sec: 152.788\n",
      "INFO:tensorflow:loss = 0.04368767514824867, step = 65501 (0.326 sec)\n",
      "INFO:tensorflow:1_loss = 0.04368767514824867, 2_accuracy = 0.9645098 (0.071 sec)\n",
      "INFO:tensorflow:1_loss = 0.1105337142944336, 2_accuracy = 0.9640385 (0.070 sec)\n",
      "INFO:tensorflow:1_loss = 0.054996736347675323, 2_accuracy = 0.9645283 (0.059 sec)\n",
      "INFO:tensorflow:1_loss = 0.18751977384090424, 2_accuracy = 0.96425927 (0.066 sec)\n",
      "INFO:tensorflow:1_loss = 0.08657615631818771, 2_accuracy = 0.9645454 (0.061 sec)\n",
      "INFO:tensorflow:global_step/sec: 151.033\n",
      "INFO:tensorflow:loss = 0.09964846074581146, step = 65551 (0.334 sec)\n",
      "INFO:tensorflow:1_loss = 0.09964846074581146, 2_accuracy = 0.9644643 (0.076 sec)\n",
      "INFO:tensorflow:1_loss = 0.1326291561126709, 2_accuracy = 0.9642105 (0.071 sec)\n",
      "INFO:tensorflow:1_loss = 0.11225575953722, 2_accuracy = 0.9641379 (0.070 sec)\n",
      "INFO:tensorflow:1_loss = 0.14102128148078918, 2_accuracy = 0.9642373 (0.073 sec)\n",
      "INFO:tensorflow:1_loss = 0.10871713608503342, 2_accuracy = 0.96433336 (0.063 sec)\n",
      "INFO:tensorflow:global_step/sec: 142.864\n",
      "INFO:tensorflow:loss = 0.06343968212604523, step = 65601 (0.349 sec)\n",
      "INFO:tensorflow:1_loss = 0.06343968212604523, 2_accuracy = 0.9647541 (0.072 sec)\n",
      "INFO:tensorflow:1_loss = 0.04688745364546776, 2_accuracy = 0.965 (0.070 sec)\n",
      "INFO:tensorflow:1_loss = 0.08265086263418198, 2_accuracy = 0.96492064 (0.069 sec)\n",
      "INFO:tensorflow:1_loss = 0.09172405302524567, 2_accuracy = 0.96453124 (0.064 sec)\n",
      "INFO:tensorflow:1_loss = 0.027038993313908577, 2_accuracy = 0.96476924 (0.089 sec)\n",
      "INFO:tensorflow:global_step/sec: 130.551\n",
      "INFO:tensorflow:loss = 0.10761841386556625, step = 65651 (0.385 sec)\n",
      "INFO:tensorflow:1_loss = 0.10761841386556625, 2_accuracy = 0.96484846 (0.093 sec)\n",
      "INFO:tensorflow:1_loss = 0.0933539941906929, 2_accuracy = 0.96462685 (0.088 sec)\n",
      "INFO:tensorflow:1_loss = 0.0804089829325676, 2_accuracy = 0.96455884 (0.086 sec)\n",
      "INFO:tensorflow:1_loss = 0.131333589553833, 2_accuracy = 0.96434784 (0.073 sec)\n",
      "INFO:tensorflow:1_loss = 0.09107770770788193, 2_accuracy = 0.96428573 (0.074 sec)\n",
      "INFO:tensorflow:global_step/sec: 126.267\n",
      "INFO:tensorflow:loss = 0.15658169984817505, step = 65701 (0.394 sec)\n",
      "INFO:tensorflow:1_loss = 0.15658169984817505, 2_accuracy = 0.96394366 (0.075 sec)\n",
      "INFO:tensorflow:1_loss = 0.10256645828485489, 2_accuracy = 0.96375 (0.071 sec)\n",
      "INFO:tensorflow:1_loss = 0.12914925813674927, 2_accuracy = 0.9634247 (0.070 sec)\n",
      "INFO:tensorflow:1_loss = 0.04504240304231644, 2_accuracy = 0.9636487 (0.070 sec)\n",
      "INFO:tensorflow:1_loss = 0.2221439629793167, 2_accuracy = 0.96346664 (0.069 sec)\n",
      "INFO:tensorflow:global_step/sec: 140.453\n",
      "INFO:tensorflow:loss = 0.07888483256101608, step = 65751 (0.355 sec)\n",
      "INFO:tensorflow:1_loss = 0.07888483256101608, 2_accuracy = 0.9636842 (0.075 sec)\n"
     ]
    },
    {
     "name": "stdout",
     "output_type": "stream",
     "text": [
      "INFO:tensorflow:1_loss = 0.14945606887340546, 2_accuracy = 0.9635065 (0.077 sec)\n",
      "INFO:tensorflow:1_loss = 0.0657038539648056, 2_accuracy = 0.96371794 (0.070 sec)\n",
      "INFO:tensorflow:1_loss = 0.20590510964393616, 2_accuracy = 0.96303797 (0.056 sec)\n",
      "INFO:tensorflow:1_loss = 0.04821448400616646, 2_accuracy = 0.96325 (0.058 sec)\n",
      "INFO:tensorflow:global_step/sec: 152.441\n",
      "INFO:tensorflow:loss = 0.10304991155862808, step = 65801 (0.329 sec)\n",
      "INFO:tensorflow:1_loss = 0.10304991155862808, 2_accuracy = 0.9633333 (0.066 sec)\n",
      "INFO:tensorflow:1_loss = 0.12054808437824249, 2_accuracy = 0.9634146 (0.062 sec)\n",
      "INFO:tensorflow:1_loss = 0.10004724562168121, 2_accuracy = 0.9633735 (0.064 sec)\n",
      "INFO:tensorflow:1_loss = 0.11485181748867035, 2_accuracy = 0.9632143 (0.059 sec)\n",
      "INFO:tensorflow:1_loss = 0.06084318459033966, 2_accuracy = 0.9632941 (0.059 sec)\n",
      "INFO:tensorflow:global_step/sec: 163.404\n",
      "INFO:tensorflow:loss = 0.1444626897573471, step = 65851 (0.305 sec)\n",
      "INFO:tensorflow:1_loss = 0.1444626897573471, 2_accuracy = 0.9632558 (0.062 sec)\n",
      "INFO:tensorflow:1_loss = 0.14190971851348877, 2_accuracy = 0.9628736 (0.060 sec)\n",
      "INFO:tensorflow:1_loss = 0.16116070747375488, 2_accuracy = 0.96261364 (0.062 sec)\n",
      "INFO:tensorflow:1_loss = 0.077943354845047, 2_accuracy = 0.9626966 (0.054 sec)\n",
      "INFO:tensorflow:1_loss = 0.1662471741437912, 2_accuracy = 0.9624444 (0.066 sec)\n",
      "INFO:tensorflow:global_step/sec: 167.57\n",
      "INFO:tensorflow:loss = 0.08569834381341934, step = 65901 (0.312 sec)\n",
      "INFO:tensorflow:1_loss = 0.08569834381341934, 2_accuracy = 0.96252745 (0.070 sec)\n",
      "INFO:tensorflow:1_loss = 0.09299278259277344, 2_accuracy = 0.9625 (0.073 sec)\n",
      "INFO:tensorflow:1_loss = 0.11495944857597351, 2_accuracy = 0.9624731 (0.057 sec)\n",
      "INFO:tensorflow:1_loss = 0.054464492946863174, 2_accuracy = 0.96276593 (0.066 sec)\n",
      "INFO:tensorflow:1_loss = 0.1230715662240982, 2_accuracy = 0.9626316 (0.065 sec)\n",
      "INFO:tensorflow:global_step/sec: 141.67\n",
      "INFO:tensorflow:loss = 0.11619763821363449, step = 65951 (0.340 sec)\n",
      "INFO:tensorflow:1_loss = 0.11619763821363449, 2_accuracy = 0.9625 (0.077 sec)\n",
      "INFO:tensorflow:1_loss = 0.08044557273387909, 2_accuracy = 0.96257734 (0.069 sec)\n",
      "INFO:tensorflow:1_loss = 0.08908195048570633, 2_accuracy = 0.96244895 (0.067 sec)\n",
      "INFO:tensorflow:1_loss = 0.10156701505184174, 2_accuracy = 0.96252525 (0.068 sec)\n",
      "INFO:tensorflow:1_loss = 0.08816737681627274, 2_accuracy = 0.9625 (0.069 sec)\n",
      "INFO:tensorflow:global_step/sec: 142.859\n",
      "INFO:tensorflow:loss = 0.05171605572104454, step = 66001 (0.350 sec)\n",
      "INFO:tensorflow:1_loss = 0.05171605572104454, 2_accuracy = 0.96267325 (0.078 sec)\n",
      "INFO:tensorflow:1_loss = 0.09237775951623917, 2_accuracy = 0.9627451 (0.068 sec)\n",
      "INFO:tensorflow:1_loss = 0.0809151902794838, 2_accuracy = 0.9629126 (0.069 sec)\n",
      "INFO:tensorflow:1_loss = 0.12415481358766556, 2_accuracy = 0.9628846 (0.069 sec)\n",
      "INFO:tensorflow:1_loss = 0.06254635006189346, 2_accuracy = 0.9630476 (0.067 sec)\n",
      "INFO:tensorflow:global_step/sec: 143.687\n",
      "INFO:tensorflow:loss = 0.11430404335260391, step = 66051 (0.348 sec)\n",
      "INFO:tensorflow:1_loss = 0.11430404335260391, 2_accuracy = 0.9631132 (0.075 sec)\n",
      "INFO:tensorflow:1_loss = 0.0972168892621994, 2_accuracy = 0.96317756 (0.064 sec)\n",
      "INFO:tensorflow:1_loss = 0.0802052840590477, 2_accuracy = 0.96324074 (0.064 sec)\n",
      "INFO:tensorflow:1_loss = 0.10819008946418762, 2_accuracy = 0.96330273 (0.069 sec)\n",
      "INFO:tensorflow:1_loss = 0.1066877543926239, 2_accuracy = 0.9631818 (0.067 sec)\n",
      "INFO:tensorflow:global_step/sec: 148.372\n",
      "INFO:tensorflow:loss = 0.10371474176645279, step = 66101 (0.336 sec)\n",
      "INFO:tensorflow:1_loss = 0.10371474176645279, 2_accuracy = 0.9631531 (0.072 sec)\n",
      "INFO:tensorflow:1_loss = 0.1474016308784485, 2_accuracy = 0.963125 (0.066 sec)\n",
      "INFO:tensorflow:1_loss = 0.020523319020867348, 2_accuracy = 0.9633628 (0.067 sec)\n",
      "INFO:tensorflow:1_loss = 0.0354837030172348, 2_accuracy = 0.96359646 (0.068 sec)\n",
      "INFO:tensorflow:1_loss = 0.08658872544765472, 2_accuracy = 0.9636522 (0.072 sec)\n",
      "INFO:tensorflow:global_step/sec: 145.35\n",
      "INFO:tensorflow:loss = 0.036335647106170654, step = 66151 (0.345 sec)\n",
      "INFO:tensorflow:1_loss = 0.036335647106170654, 2_accuracy = 0.9637931 (0.073 sec)\n",
      "INFO:tensorflow:1_loss = 0.10720618814229965, 2_accuracy = 0.9637607 (0.065 sec)\n",
      "INFO:tensorflow:1_loss = 0.06207398325204849, 2_accuracy = 0.9638983 (0.066 sec)\n",
      "INFO:tensorflow:1_loss = 0.06788818538188934, 2_accuracy = 0.96411765 (0.067 sec)\n",
      "INFO:tensorflow:1_loss = 0.09863143414258957, 2_accuracy = 0.964 (0.090 sec)\n",
      "INFO:tensorflow:global_step/sec: 129.539\n",
      "INFO:tensorflow:loss = 0.18020324409008026, step = 66201 (0.387 sec)\n",
      "INFO:tensorflow:1_loss = 0.18020324409008026, 2_accuracy = 0.9638017 (0.098 sec)\n",
      "INFO:tensorflow:1_loss = 0.07076837122440338, 2_accuracy = 0.9637705 (0.098 sec)\n",
      "INFO:tensorflow:1_loss = 0.13354767858982086, 2_accuracy = 0.9635772 (0.106 sec)\n",
      "INFO:tensorflow:1_loss = 0.060975320637226105, 2_accuracy = 0.96370965 (0.061 sec)\n",
      "INFO:tensorflow:1_loss = 0.05477447435259819, 2_accuracy = 0.96384 (0.068 sec)\n",
      "INFO:tensorflow:global_step/sec: 123.154\n",
      "INFO:tensorflow:loss = 0.12998011708259583, step = 66251 (0.405 sec)\n",
      "INFO:tensorflow:1_loss = 0.12998011708259583, 2_accuracy = 0.96373016 (0.073 sec)\n",
      "INFO:tensorflow:1_loss = 0.2024519443511963, 2_accuracy = 0.96362203 (0.073 sec)\n",
      "INFO:tensorflow:1_loss = 0.1996929943561554, 2_accuracy = 0.96351564 (0.060 sec)\n",
      "INFO:tensorflow:1_loss = 0.17450840771198273, 2_accuracy = 0.9632558 (0.079 sec)\n",
      "INFO:tensorflow:1_loss = 0.09557342529296875, 2_accuracy = 0.9633077 (0.054 sec)\n",
      "INFO:tensorflow:global_step/sec: 141.508\n",
      "INFO:tensorflow:loss = 0.011266786605119705, step = 66301 (0.353 sec)\n",
      "INFO:tensorflow:1_loss = 0.011266786605119705, 2_accuracy = 0.96358776 (0.086 sec)\n",
      "INFO:tensorflow:1_loss = 0.11494813859462738, 2_accuracy = 0.9634848 (0.076 sec)\n",
      "INFO:tensorflow:1_loss = 0.13072572648525238, 2_accuracy = 0.96323305 (0.063 sec)\n",
      "INFO:tensorflow:1_loss = 0.10420840978622437, 2_accuracy = 0.96313435 (0.057 sec)\n",
      "INFO:tensorflow:1_loss = 0.05837656930088997, 2_accuracy = 0.9631852 (0.068 sec)\n",
      "INFO:tensorflow:global_step/sec: 144.133\n",
      "INFO:tensorflow:loss = 0.12631112337112427, step = 66351 (0.347 sec)\n",
      "INFO:tensorflow:1_loss = 0.12631112337112427, 2_accuracy = 0.96316177 (0.083 sec)\n",
      "INFO:tensorflow:1_loss = 0.07911041378974915, 2_accuracy = 0.96321166 (0.074 sec)\n",
      "INFO:tensorflow:1_loss = 0.10647429525852203, 2_accuracy = 0.96311593 (0.070 sec)\n",
      "INFO:tensorflow:1_loss = 0.12782897055149078, 2_accuracy = 0.9630935 (0.065 sec)\n",
      "INFO:tensorflow:1_loss = 0.19243957102298737, 2_accuracy = 0.9628571 (0.065 sec)\n",
      "INFO:tensorflow:global_step/sec: 141.237\n",
      "INFO:tensorflow:loss = 0.06782257556915283, step = 66401 (0.354 sec)\n",
      "INFO:tensorflow:1_loss = 0.06782257556915283, 2_accuracy = 0.9629787 (0.079 sec)\n",
      "INFO:tensorflow:1_loss = 0.13165774941444397, 2_accuracy = 0.96288735 (0.074 sec)\n",
      "INFO:tensorflow:1_loss = 0.06814109534025192, 2_accuracy = 0.963007 (0.068 sec)\n",
      "INFO:tensorflow:1_loss = 0.21744468808174133, 2_accuracy = 0.96270835 (0.069 sec)\n",
      "INFO:tensorflow:1_loss = 0.17753012478351593, 2_accuracy = 0.9627586 (0.065 sec)\n",
      "INFO:tensorflow:global_step/sec: 142.569\n",
      "INFO:tensorflow:loss = 0.09255572408437729, step = 66451 (0.348 sec)\n",
      "INFO:tensorflow:1_loss = 0.09255572408437729, 2_accuracy = 0.9627397 (0.074 sec)\n",
      "INFO:tensorflow:1_loss = 0.02505585551261902, 2_accuracy = 0.9629252 (0.070 sec)\n",
      "INFO:tensorflow:1_loss = 0.08026614785194397, 2_accuracy = 0.962973 (0.062 sec)\n",
      "INFO:tensorflow:1_loss = 0.13206186890602112, 2_accuracy = 0.9628188 (0.068 sec)\n",
      "INFO:tensorflow:1_loss = 0.06253155320882797, 2_accuracy = 0.963 (0.067 sec)\n",
      "INFO:tensorflow:global_step/sec: 147.836\n",
      "INFO:tensorflow:loss = 0.07550772279500961, step = 66501 (0.341 sec)\n",
      "INFO:tensorflow:1_loss = 0.07550772279500961, 2_accuracy = 0.9631788 (0.073 sec)\n",
      "INFO:tensorflow:1_loss = 0.12388450652360916, 2_accuracy = 0.9631579 (0.070 sec)\n",
      "INFO:tensorflow:1_loss = 0.08537622541189194, 2_accuracy = 0.96313727 (0.066 sec)\n",
      "INFO:tensorflow:1_loss = 0.15319398045539856, 2_accuracy = 0.963052 (0.071 sec)\n",
      "INFO:tensorflow:1_loss = 0.07975251227617264, 2_accuracy = 0.96303225 (0.072 sec)\n",
      "INFO:tensorflow:global_step/sec: 141.643\n",
      "INFO:tensorflow:loss = 0.12299594283103943, step = 66551 (0.353 sec)\n",
      "INFO:tensorflow:1_loss = 0.12299594283103943, 2_accuracy = 0.96307695 (0.074 sec)\n"
     ]
    },
    {
     "name": "stdout",
     "output_type": "stream",
     "text": [
      "INFO:tensorflow:1_loss = 0.0928867906332016, 2_accuracy = 0.963121 (0.091 sec)\n",
      "INFO:tensorflow:1_loss = 0.09521424770355225, 2_accuracy = 0.96303797 (0.045 sec)\n",
      "INFO:tensorflow:1_loss = 0.04264884814620018, 2_accuracy = 0.96320754 (0.076 sec)\n",
      "INFO:tensorflow:1_loss = 0.11551745235919952, 2_accuracy = 0.9631875 (0.059 sec)\n",
      "INFO:tensorflow:global_step/sec: 149.411\n",
      "INFO:tensorflow:loss = 0.10982440412044525, step = 66601 (0.334 sec)\n",
      "INFO:tensorflow:1_loss = 0.10982440412044525, 2_accuracy = 0.9631056 (0.062 sec)\n",
      "INFO:tensorflow:1_loss = 0.03110559470951557, 2_accuracy = 0.96320987 (0.062 sec)\n",
      "INFO:tensorflow:1_loss = 0.1814202070236206, 2_accuracy = 0.96300614 (0.076 sec)\n",
      "INFO:tensorflow:1_loss = 0.12711142003536224, 2_accuracy = 0.9629878 (0.063 sec)\n",
      "INFO:tensorflow:1_loss = 0.06910046190023422, 2_accuracy = 0.9630303 (0.051 sec)\n",
      "INFO:tensorflow:global_step/sec: 153.813\n",
      "INFO:tensorflow:loss = 0.11660802364349365, step = 66651 (0.326 sec)\n",
      "INFO:tensorflow:1_loss = 0.11660802364349365, 2_accuracy = 0.9630723 (0.075 sec)\n",
      "INFO:tensorflow:1_loss = 0.0747976079583168, 2_accuracy = 0.9630539 (0.057 sec)\n",
      "INFO:tensorflow:1_loss = 0.09658730030059814, 2_accuracy = 0.96315473 (0.069 sec)\n",
      "INFO:tensorflow:1_loss = 0.0978422611951828, 2_accuracy = 0.96319526 (0.059 sec)\n",
      "INFO:tensorflow:1_loss = 0.20885096490383148, 2_accuracy = 0.9631765 (0.060 sec)\n",
      "INFO:tensorflow:global_step/sec: 168.541\n",
      "INFO:tensorflow:loss = 0.10374410450458527, step = 66701 (0.294 sec)\n",
      "INFO:tensorflow:1_loss = 0.10374410450458527, 2_accuracy = 0.96321636 (0.062 sec)\n",
      "INFO:tensorflow:1_loss = 0.039405547082424164, 2_accuracy = 0.9633721 (0.066 sec)\n",
      "INFO:tensorflow:1_loss = 0.03937889635562897, 2_accuracy = 0.9634682 (0.067 sec)\n",
      "INFO:tensorflow:1_loss = 0.0798095092177391, 2_accuracy = 0.96350574 (0.067 sec)\n",
      "INFO:tensorflow:1_loss = 0.08695857971906662, 2_accuracy = 0.9634857 (0.072 sec)\n",
      "INFO:tensorflow:global_step/sec: 132.486\n",
      "INFO:tensorflow:loss = 0.05677793547511101, step = 66751 (0.381 sec)\n",
      "INFO:tensorflow:1_loss = 0.05677793547511101, 2_accuracy = 0.96363634 (0.097 sec)\n",
      "INFO:tensorflow:1_loss = 0.10746453702449799, 2_accuracy = 0.96361583 (0.103 sec)\n",
      "INFO:tensorflow:1_loss = 0.14352025091648102, 2_accuracy = 0.9635955 (0.091 sec)\n",
      "INFO:tensorflow:1_loss = 0.09060179442167282, 2_accuracy = 0.9636313 (0.082 sec)\n",
      "INFO:tensorflow:1_loss = 0.12633192539215088, 2_accuracy = 0.9636111 (0.072 sec)\n",
      "INFO:tensorflow:global_step/sec: 117.65\n",
      "INFO:tensorflow:loss = 0.10793546587228775, step = 66801 (0.424 sec)\n",
      "INFO:tensorflow:1_loss = 0.10793546587228775, 2_accuracy = 0.9635359 (0.074 sec)\n",
      "INFO:tensorflow:1_loss = 0.13344471156597137, 2_accuracy = 0.9634066 (0.067 sec)\n",
      "INFO:tensorflow:1_loss = 0.09610508382320404, 2_accuracy = 0.9634426 (0.065 sec)\n",
      "INFO:tensorflow:1_loss = 0.05948014184832573, 2_accuracy = 0.96347827 (0.065 sec)\n",
      "INFO:tensorflow:1_loss = 0.052824635058641434, 2_accuracy = 0.9636216 (0.069 sec)\n",
      "INFO:tensorflow:global_step/sec: 147.495\n",
      "INFO:tensorflow:loss = 0.036743100732564926, step = 66851 (0.339 sec)\n",
      "INFO:tensorflow:1_loss = 0.036743100732564926, 2_accuracy = 0.96370965 (0.073 sec)\n",
      "INFO:tensorflow:1_loss = 0.07224125415086746, 2_accuracy = 0.9637968 (0.076 sec)\n",
      "INFO:tensorflow:1_loss = 0.19904190301895142, 2_accuracy = 0.9636702 (0.066 sec)\n",
      "INFO:tensorflow:1_loss = 0.06794055551290512, 2_accuracy = 0.9637037 (0.069 sec)\n",
      "INFO:tensorflow:1_loss = 0.047606341540813446, 2_accuracy = 0.96378946 (0.069 sec)\n",
      "INFO:tensorflow:global_step/sec: 141.249\n",
      "INFO:tensorflow:loss = 0.05050891637802124, step = 66901 (0.355 sec)\n",
      "INFO:tensorflow:1_loss = 0.05050891637802124, 2_accuracy = 0.9639267 (0.075 sec)\n",
      "INFO:tensorflow:1_loss = 0.10270169377326965, 2_accuracy = 0.9638542 (0.067 sec)\n",
      "INFO:tensorflow:1_loss = 0.03347790986299515, 2_accuracy = 0.9639896 (0.064 sec)\n",
      "INFO:tensorflow:1_loss = 0.08206149935722351, 2_accuracy = 0.9640206 (0.066 sec)\n",
      "INFO:tensorflow:1_loss = 0.08626224100589752, 2_accuracy = 0.9640513 (0.069 sec)\n",
      "INFO:tensorflow:global_step/sec: 135.138\n",
      "INFO:tensorflow:loss = 0.09543668478727341, step = 66951 (0.369 sec)\n",
      "INFO:tensorflow:1_loss = 0.09543668478727341, 2_accuracy = 0.9640306 (0.104 sec)\n",
      "INFO:tensorflow:1_loss = 0.07486851513385773, 2_accuracy = 0.9640609 (0.093 sec)\n",
      "INFO:tensorflow:1_loss = 0.06480194628238678, 2_accuracy = 0.9640909 (0.083 sec)\n",
      "INFO:tensorflow:1_loss = 0.04167928546667099, 2_accuracy = 0.9642211 (0.101 sec)\n",
      "INFO:tensorflow:1_loss = 0.11766951531171799, 2_accuracy = 0.96415 (0.066 sec)\n",
      "INFO:tensorflow:Saving checkpoints for 67000 into ./checkpoints/log2jupyter\\model.ckpt.\n",
      "INFO:tensorflow:Loss for final step: 0.11947580426931381.\n"
     ]
    },
    {
     "data": {
      "text/plain": [
       "<tensorflow.python.estimator.estimator.Estimator at 0x232b140b8d0>"
      ]
     },
     "execution_count": 8,
     "metadata": {},
     "output_type": "execute_result"
    }
   ],
   "source": [
    "# Train the model with external logging hook\n",
    "mnist_classifier.train(input_fn=train_input_fn, steps=2000)\n"
   ]
  },
  {
   "cell_type": "markdown",
   "metadata": {},
   "source": [
    "##### Prepare input function for Evaluation"
   ]
  },
  {
   "cell_type": "code",
   "execution_count": 9,
   "metadata": {},
   "outputs": [],
   "source": [
    "# Evaluate the model and print results\n",
    "eval_input_fn = tf.estimator.inputs.numpy_input_fn(x={\"x\": x_test},\n",
    "                                                   y=y_test,\n",
    "                                                   num_epochs=1,\n",
    "                                                   shuffle=False)"
   ]
  },
  {
   "cell_type": "markdown",
   "metadata": {},
   "source": [
    "##### Evaluate"
   ]
  },
  {
   "cell_type": "code",
   "execution_count": 10,
   "metadata": {},
   "outputs": [
    {
     "name": "stdout",
     "output_type": "stream",
     "text": [
      "INFO:tensorflow:Calling model_fn.\n",
      "INFO:tensorflow:Done calling model_fn.\n",
      "INFO:tensorflow:Starting evaluation at 2018-10-18-08:42:07\n",
      "INFO:tensorflow:Graph was finalized.\n",
      "INFO:tensorflow:Restoring parameters from ./checkpoints/log2jupyter\\model.ckpt-67000\n",
      "INFO:tensorflow:Running local_init_op.\n",
      "INFO:tensorflow:Done running local_init_op.\n",
      "INFO:tensorflow:Finished evaluation at 2018-10-18-08:42:08\n",
      "INFO:tensorflow:Saving dict for global step 67000: accuracy = 0.9662, global_step = 67000, loss = 0.18059248\n",
      "INFO:tensorflow:Saving 'checkpoint_path' summary for global step 67000: ./checkpoints/log2jupyter\\model.ckpt-67000\n"
     ]
    }
   ],
   "source": [
    "eval_results = mnist_classifier.evaluate(input_fn=eval_input_fn)"
   ]
  },
  {
   "cell_type": "markdown",
   "metadata": {},
   "source": [
    "### Final result"
   ]
  },
  {
   "cell_type": "code",
   "execution_count": 11,
   "metadata": {},
   "outputs": [
    {
     "name": "stdout",
     "output_type": "stream",
     "text": [
      "{'accuracy': 0.9662, 'loss': 0.18059248, 'global_step': 67000}\n"
     ]
    }
   ],
   "source": [
    "print(eval_results)"
   ]
  },
  {
   "cell_type": "code",
   "execution_count": null,
   "metadata": {},
   "outputs": [],
   "source": []
  }
 ],
 "metadata": {
  "kernelspec": {
   "display_name": "Python 3",
   "language": "python",
   "name": "python3"
  },
  "language_info": {
   "codemirror_mode": {
    "name": "ipython",
    "version": 3
   },
   "file_extension": ".py",
   "mimetype": "text/x-python",
   "name": "python",
   "nbconvert_exporter": "python",
   "pygments_lexer": "ipython3",
   "version": "3.6.6"
  }
 },
 "nbformat": 4,
 "nbformat_minor": 2
}

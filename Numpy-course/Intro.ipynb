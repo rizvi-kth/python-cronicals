{
 "cells": [
  {
   "cell_type": "markdown",
   "metadata": {},
   "source": [
    "### Upgrage numpy"
   ]
  },
  {
   "cell_type": "markdown",
   "metadata": {},
   "source": [
    "!pip install numpy --upgrade"
   ]
  },
  {
   "cell_type": "code",
   "execution_count": 4,
   "metadata": {
    "collapsed": true
   },
   "outputs": [],
   "source": [
    "import numpy as np"
   ]
  },
  {
   "cell_type": "markdown",
   "metadata": {},
   "source": [
    "### Array Handling\n"
   ]
  },
  {
   "cell_type": "code",
   "execution_count": 114,
   "metadata": {},
   "outputs": [
    {
     "name": "stdout",
     "output_type": "stream",
     "text": [
      "[1 2 3 4 5 6 7 8 9]\n"
     ]
    }
   ],
   "source": [
    "a = np.array([1,2,3,4,5,6,7,8,9])\n",
    "print(a)"
   ]
  },
  {
   "cell_type": "code",
   "execution_count": 93,
   "metadata": {},
   "outputs": [
    {
     "name": "stdout",
     "output_type": "stream",
     "text": [
      "First element 1\n",
      "Last element 9\n",
      "Second to last element 8\n",
      "A slice indx 1 to 3:  [2 3 4]\n",
      "A slice indx 1 to 4 FROM LAST:  [2 3 4 5]\n"
     ]
    }
   ],
   "source": [
    "print('First element %i' %a[0])\n",
    "print('Last element %i' %a[-1])\n",
    "print('Second to last element %i' %a[-2])\n",
    "print('A slice indx 1 to 3: ', a[1:4])\n",
    "print('A slice indx 1 to 4 FROM LAST: ', a[1:-4])\n",
    "\n"
   ]
  },
  {
   "cell_type": "code",
   "execution_count": 69,
   "metadata": {},
   "outputs": [
    {
     "name": "stdout",
     "output_type": "stream",
     "text": [
      "[0 2 4 6 8]\n"
     ]
    }
   ],
   "source": [
    "a = np.arange(0,10,2)\n",
    "print(a)"
   ]
  },
  {
   "cell_type": "code",
   "execution_count": 71,
   "metadata": {},
   "outputs": [
    {
     "data": {
      "text/plain": [
       "20"
      ]
     },
     "execution_count": 71,
     "metadata": {},
     "output_type": "execute_result"
    }
   ],
   "source": [
    "a.sum()"
   ]
  },
  {
   "cell_type": "code",
   "execution_count": 73,
   "metadata": {},
   "outputs": [
    {
     "data": {
      "text/plain": [
       "4.0"
      ]
     },
     "execution_count": 73,
     "metadata": {},
     "output_type": "execute_result"
    }
   ],
   "source": [
    "a.mean()"
   ]
  },
  {
   "cell_type": "markdown",
   "metadata": {},
   "source": [
    "#### Split in equal portion "
   ]
  },
  {
   "cell_type": "code",
   "execution_count": 115,
   "metadata": {},
   "outputs": [
    {
     "data": {
      "text/plain": [
       "[array([1, 2, 3]), array([4, 5, 6]), array([7, 8, 9])]"
      ]
     },
     "execution_count": 115,
     "metadata": {},
     "output_type": "execute_result"
    }
   ],
   "source": [
    "\n",
    "np.split(a,3)"
   ]
  },
  {
   "cell_type": "markdown",
   "metadata": {},
   "source": [
    "#### Split at indexes "
   ]
  },
  {
   "cell_type": "code",
   "execution_count": 116,
   "metadata": {},
   "outputs": [
    {
     "data": {
      "text/plain": [
       "[array([1, 2]), array([3, 4, 5, 6]), array([7, 8, 9])]"
      ]
     },
     "execution_count": 116,
     "metadata": {},
     "output_type": "execute_result"
    }
   ],
   "source": [
    "np.split(a,[2,6])"
   ]
  },
  {
   "cell_type": "markdown",
   "metadata": {},
   "source": [
    "#### Converting python list to Numpy array"
   ]
  },
  {
   "cell_type": "code",
   "execution_count": 111,
   "metadata": {},
   "outputs": [
    {
     "name": "stdout",
     "output_type": "stream",
     "text": [
      "[2 3 4 5 6]\n"
     ]
    }
   ],
   "source": [
    "numbers = [2,3,4,5,6]\n",
    "a = np.array(numbers)\n",
    "print(a)"
   ]
  },
  {
   "cell_type": "markdown",
   "metadata": {},
   "source": [
    "### Matrix operations"
   ]
  },
  {
   "cell_type": "code",
   "execution_count": 11,
   "metadata": {},
   "outputs": [
    {
     "data": {
      "text/plain": [
       "array([[ 0.,  0.,  0.],\n",
       "       [ 0.,  0.,  0.]])"
      ]
     },
     "execution_count": 11,
     "metadata": {},
     "output_type": "execute_result"
    }
   ],
   "source": [
    "np.zeros((2,3))"
   ]
  },
  {
   "cell_type": "code",
   "execution_count": 12,
   "metadata": {},
   "outputs": [
    {
     "data": {
      "text/plain": [
       "array([[ 1.,  1.,  1.],\n",
       "       [ 1.,  1.,  1.]])"
      ]
     },
     "execution_count": 12,
     "metadata": {},
     "output_type": "execute_result"
    }
   ],
   "source": [
    "np.ones((2,3))"
   ]
  },
  {
   "cell_type": "code",
   "execution_count": 138,
   "metadata": {},
   "outputs": [
    {
     "name": "stdout",
     "output_type": "stream",
     "text": [
      "[[2 3 4]\n",
      " [5 6 7]\n",
      " [8 9 1]\n",
      " [2 3 4]]\n"
     ]
    }
   ],
   "source": [
    "a = np.array([(2,3,4),(5,6,7),(8,9,1),(2,3,4)])\n",
    "print(a)"
   ]
  },
  {
   "cell_type": "code",
   "execution_count": 130,
   "metadata": {},
   "outputs": [
    {
     "data": {
      "text/plain": [
       "array([[2, 3, 4],\n",
       "       [5, 6, 7]])"
      ]
     },
     "execution_count": 130,
     "metadata": {},
     "output_type": "execute_result"
    }
   ],
   "source": [
    "a = np.array([[2,3,4],[5,6,7]])\n",
    "a"
   ]
  },
  {
   "cell_type": "code",
   "execution_count": 129,
   "metadata": {},
   "outputs": [
    {
     "name": "stdout",
     "output_type": "stream",
     "text": [
      "(2, 3)\n",
      "Reshape the 2D array\n",
      "[[2 3]\n",
      " [4 5]\n",
      " [6 7]]\n"
     ]
    }
   ],
   "source": [
    "print(a)\n",
    "print(a.shape)\n",
    "print('Reshape the 2D array')\n",
    "print(a.reshape(3,2))"
   ]
  },
  {
   "cell_type": "code",
   "execution_count": 131,
   "metadata": {},
   "outputs": [
    {
     "data": {
      "text/plain": [
       "(2, 3)"
      ]
     },
     "execution_count": 131,
     "metadata": {},
     "output_type": "execute_result"
    }
   ],
   "source": [
    "a.shape"
   ]
  },
  {
   "cell_type": "code",
   "execution_count": 139,
   "metadata": {},
   "outputs": [
    {
     "name": "stdout",
     "output_type": "stream",
     "text": [
      "[[2 3 4]\n",
      " [5 6 7]]\n",
      "[[8 9 1]\n",
      " [2 3 4]]\n"
     ]
    }
   ],
   "source": [
    "p1, p2 = np.vsplit(a,2)\n",
    "print(p1)\n",
    "print(p2)"
   ]
  },
  {
   "cell_type": "markdown",
   "metadata": {},
   "source": [
    "### Element wise operation(add,multiply...) or scelar operation"
   ]
  },
  {
   "cell_type": "code",
   "execution_count": 48,
   "metadata": {},
   "outputs": [
    {
     "name": "stdout",
     "output_type": "stream",
     "text": [
      "[5 7 9]\n",
      "[-3 -3 -3]\n",
      "[ 4 10 18]\n"
     ]
    }
   ],
   "source": [
    "a = np.array([1,2,3])\n",
    "b = np.array([4,5,6])\n",
    "print(a+b)\n",
    "print(a-b)\n",
    "print(a*b)\n"
   ]
  },
  {
   "cell_type": "code",
   "execution_count": 54,
   "metadata": {},
   "outputs": [
    {
     "name": "stdout",
     "output_type": "stream",
     "text": [
      "A:\n",
      " [[10 20 30]\n",
      " [40 50 60]]\n",
      "B:\n",
      " [[1 2 3]\n",
      " [4 5 5]]\n"
     ]
    }
   ],
   "source": [
    "a = np.array([[10,20,30],\n",
    "              [40,50,60]])\n",
    "b = np.array([[1,2,3],\n",
    "              [4,5,5]])\n",
    "print('A:\\n',a)\n",
    "print('B:\\n',b)"
   ]
  },
  {
   "cell_type": "code",
   "execution_count": 55,
   "metadata": {},
   "outputs": [
    {
     "data": {
      "text/plain": [
       "array([[ 10,  40,  90],\n",
       "       [160, 250, 300]])"
      ]
     },
     "execution_count": 55,
     "metadata": {},
     "output_type": "execute_result"
    }
   ],
   "source": [
    "a*b"
   ]
  },
  {
   "cell_type": "code",
   "execution_count": 56,
   "metadata": {},
   "outputs": [
    {
     "data": {
      "text/plain": [
       "array([[ 10,  40,  90],\n",
       "       [160, 250, 300]])"
      ]
     },
     "execution_count": 56,
     "metadata": {},
     "output_type": "execute_result"
    }
   ],
   "source": [
    "np.multiply(a,b)"
   ]
  },
  {
   "cell_type": "markdown",
   "metadata": {},
   "source": [
    "### Dot operation or matrix operation \n",
    "#### To do such operation between matrix mxn and mxn we need to transpose one of the metrix to make nxm."
   ]
  },
  {
   "cell_type": "code",
   "execution_count": 61,
   "metadata": {},
   "outputs": [
    {
     "data": {
      "text/plain": [
       "array([[10, 20, 30],\n",
       "       [40, 50, 60]])"
      ]
     },
     "execution_count": 61,
     "metadata": {},
     "output_type": "execute_result"
    }
   ],
   "source": [
    "a"
   ]
  },
  {
   "cell_type": "markdown",
   "metadata": {},
   "source": [
    "#### Transpose "
   ]
  },
  {
   "cell_type": "code",
   "execution_count": 62,
   "metadata": {},
   "outputs": [
    {
     "data": {
      "text/plain": [
       "array([[1, 4],\n",
       "       [2, 5],\n",
       "       [3, 5]])"
      ]
     },
     "execution_count": 62,
     "metadata": {},
     "output_type": "execute_result"
    }
   ],
   "source": [
    "b.T"
   ]
  },
  {
   "cell_type": "code",
   "execution_count": 63,
   "metadata": {},
   "outputs": [
    {
     "data": {
      "text/plain": [
       "array([[140, 290],\n",
       "       [320, 710]])"
      ]
     },
     "execution_count": 63,
     "metadata": {},
     "output_type": "execute_result"
    }
   ],
   "source": [
    "a.dot(b.T)"
   ]
  },
  {
   "cell_type": "code",
   "execution_count": 64,
   "metadata": {},
   "outputs": [
    {
     "data": {
      "text/plain": [
       "array([[140, 290],\n",
       "       [320, 710]])"
      ]
     },
     "execution_count": 64,
     "metadata": {},
     "output_type": "execute_result"
    }
   ],
   "source": [
    "np.dot(a, b.T)"
   ]
  },
  {
   "cell_type": "code",
   "execution_count": 65,
   "metadata": {
    "scrolled": false
   },
   "outputs": [
    {
     "data": {
      "text/plain": [
       "array([[10, 40],\n",
       "       [20, 50],\n",
       "       [30, 60]])"
      ]
     },
     "execution_count": 65,
     "metadata": {},
     "output_type": "execute_result"
    }
   ],
   "source": [
    "a.T"
   ]
  },
  {
   "cell_type": "code",
   "execution_count": 66,
   "metadata": {},
   "outputs": [
    {
     "data": {
      "text/plain": [
       "array([[1, 2, 3],\n",
       "       [4, 5, 5]])"
      ]
     },
     "execution_count": 66,
     "metadata": {},
     "output_type": "execute_result"
    }
   ],
   "source": [
    "b"
   ]
  },
  {
   "cell_type": "code",
   "execution_count": 67,
   "metadata": {},
   "outputs": [
    {
     "data": {
      "text/plain": [
       "array([[170, 220, 230],\n",
       "       [220, 290, 310],\n",
       "       [270, 360, 390]])"
      ]
     },
     "execution_count": 67,
     "metadata": {},
     "output_type": "execute_result"
    }
   ],
   "source": [
    "np.dot(a.T, b)"
   ]
  },
  {
   "cell_type": "code",
   "execution_count": 68,
   "metadata": {},
   "outputs": [
    {
     "data": {
      "text/plain": [
       "array([[170, 220, 230],\n",
       "       [220, 290, 310],\n",
       "       [270, 360, 390]])"
      ]
     },
     "execution_count": 68,
     "metadata": {},
     "output_type": "execute_result"
    }
   ],
   "source": [
    "a.T.dot(b)"
   ]
  },
  {
   "cell_type": "markdown",
   "metadata": {},
   "source": [
    "## Read from file\n"
   ]
  },
  {
   "cell_type": "code",
   "execution_count": 107,
   "metadata": {},
   "outputs": [
    {
     "name": "stdout",
     "output_type": "stream",
     "text": [
      "[( 5.1,  7. ,   2.8,  0.6, 'Iris-set')\n",
      " ( 4.9,  6. ,   2.8,  0.6, 'Iris-set')\n",
      " ( 4.7,  6.4,   2.6,  0.6, 'Iris-set')\n",
      " ( 4.6,  6.2,   3. ,  0.6, 'Iris-set')\n",
      " ( 5. ,  7.2,   2.8,  0.6, 'Iris-set')\n",
      " ( 5.4,  7.8,   3.4,  1.2, 'Iris-set')\n",
      " ( 4.6,  6.8,   2.8,  0.9, 'Iris-set')\n",
      " ( 5. ,  6.8,   3. ,  0.6, 'Iris-set')\n",
      " ( 4.4,  5.8,   2.8,  0.6, 'Iris-set')\n",
      " ( 4.9,  6.2,   3. ,  0.3, 'Iris-set')\n",
      " ( 5.4,  7.4,   3. ,  0.6, 'Iris-set')\n",
      " ( 4.8,  6.8,   3.2,  0.6, 'Iris-set')\n",
      " ( 4.8,  6. ,   2.8,  0.3, 'Iris-set')\n",
      " ( 4.3,  6. ,   2.2,  0.3, 'Iris-set')\n",
      " ( 5.8,  8. ,   2.4,  0.6, 'Iris-set')\n",
      " ( 5.7,  8.8,   3. ,  1.2, 'Iris-set')\n",
      " ( 5.4,  7.8,   2.6,  1.2, 'Iris-set')\n",
      " ( 5.1,  7. ,   2.8,  0.9, 'Iris-set')\n",
      " ( 5.7,  7.6,   3.4,  0.9, 'Iris-set')\n",
      " ( 5.1,  7.6,   3. ,  0.9, 'Iris-set')\n",
      " ( 5.4,  6.8,   3.4,  0.6, 'Iris-set')\n",
      " ( 5.1,  7.4,   3. ,  1.2, 'Iris-set')\n",
      " ( 4.6,  7.2,   2. ,  0.6, 'Iris-set')\n",
      " ( 5.1,  6.6,   3.4,  1.5, 'Iris-set')\n",
      " ( 4.8,  6.8,   3.8,  0.6, 'Iris-set')\n",
      " ( 5. ,  6. ,   3.2,  0.6, 'Iris-set')\n",
      " ( 5. ,  6.8,   3.2,  1.2, 'Iris-set')\n",
      " ( 5.2,  7. ,   3. ,  0.6, 'Iris-set')\n",
      " ( 5.2,  6.8,   2.8,  0.6, 'Iris-set')\n",
      " ( 4.7,  6.4,   3.2,  0.6, 'Iris-set')\n",
      " ( 4.8,  6.2,   3.2,  0.6, 'Iris-set')\n",
      " ( 5.4,  6.8,   3. ,  1.2, 'Iris-set')\n",
      " ( 5.2,  8.2,   3. ,  0.3, 'Iris-set')\n",
      " ( 5.5,  8.4,   2.8,  0.6, 'Iris-set')\n",
      " ( 4.9,  6.2,   3. ,  0.3, 'Iris-set')\n",
      " ( 5. ,  6.4,   2.4,  0.6, 'Iris-set')\n",
      " ( 5.5,  7. ,   2.6,  0.6, 'Iris-set')\n",
      " ( 4.9,  6.2,   3. ,  0.3, 'Iris-set')\n",
      " ( 4.4,  6. ,   2.6,  0.6, 'Iris-set')\n",
      " ( 5.1,  6.8,   3. ,  0.6, 'Iris-set')\n",
      " ( 5. ,  7. ,   2.6,  0.9, 'Iris-set')\n",
      " ( 4.5,  4.6,   2.6,  0.9, 'Iris-set')\n",
      " ( 4.4,  6.4,   2.6,  0.6, 'Iris-set')\n",
      " ( 5. ,  7. ,   3.2,  1.8, 'Iris-set')\n",
      " ( 5.1,  7.6,   3.8,  1.2, 'Iris-set')\n",
      " ( 4.8,  6. ,   2.8,  0.9, 'Iris-set')\n",
      " ( 5.1,  7.6,   3.2,  0.6, 'Iris-set')\n",
      " ( 4.6,  6.4,   2.8,  0.6, 'Iris-set')\n",
      " ( 5.3,  7.4,   3. ,  0.6, 'Iris-set')\n",
      " ( 5. ,  6.6,   2.8,  0.6, 'Iris-set')\n",
      " ( 7. ,  6.4,   9.4,  4.2, 'Iris-ver')\n",
      " ( 6.4,  6.4,   9. ,  4.5, 'Iris-ver')\n",
      " ( 6.9,  6.2,   9.8,  4.5, 'Iris-ver')\n",
      " ( 5.5,  4.6,   8. ,  3.9, 'Iris-ver')\n",
      " ( 6.5,  5.6,   9.2,  4.5, 'Iris-ver')\n",
      " ( 5.7,  5.6,   9. ,  3.9, 'Iris-ver')\n",
      " ( 6.3,  6.6,   9.4,  4.8, 'Iris-ver')\n",
      " ( 4.9,  4.8,   6.6,  3. , 'Iris-ver')\n",
      " ( 6.6,  5.8,   9.2,  3.9, 'Iris-ver')\n",
      " ( 5.2,  5.4,   7.8,  4.2, 'Iris-ver')\n",
      " ( 5. ,  4. ,   7. ,  3. , 'Iris-ver')\n",
      " ( 5.9,  6. ,   8.4,  4.5, 'Iris-ver')\n",
      " ( 6. ,  4.4,   8. ,  3. , 'Iris-ver')\n",
      " ( 6.1,  5.8,   9.4,  4.2, 'Iris-ver')\n",
      " ( 5.6,  5.8,   7.2,  3.9, 'Iris-ver')\n",
      " ( 6.7,  6.2,   8.8,  4.2, 'Iris-ver')\n",
      " ( 5.6,  6. ,   9. ,  4.5, 'Iris-ver')\n",
      " ( 5.8,  5.4,   8.2,  3. , 'Iris-ver')\n",
      " ( 6.2,  4.4,   9. ,  4.5, 'Iris-ver')\n",
      " ( 5.6,  5. ,   7.8,  3.3, 'Iris-ver')\n",
      " ( 5.9,  6.4,   9.6,  5.4, 'Iris-ver')\n",
      " ( 6.1,  5.6,   8. ,  3.9, 'Iris-ver')\n",
      " ( 6.3,  5. ,   9.8,  4.5, 'Iris-ver')\n",
      " ( 6.1,  5.6,   9.4,  3.6, 'Iris-ver')\n",
      " ( 6.4,  5.8,   8.6,  3.9, 'Iris-ver')\n",
      " ( 6.6,  6. ,   8.8,  4.2, 'Iris-ver')\n",
      " ( 6.8,  5.6,   9.6,  4.2, 'Iris-ver')\n",
      " ( 6.7,  6. ,  10. ,  5.1, 'Iris-ver')\n",
      " ( 6. ,  5.8,   9. ,  4.5, 'Iris-ver')\n",
      " ( 5.7,  5.2,   7. ,  3. , 'Iris-ver')\n",
      " ( 5.5,  4.8,   7.6,  3.3, 'Iris-ver')\n",
      " ( 5.5,  4.8,   7.4,  3. , 'Iris-ver')\n",
      " ( 5.8,  5.4,   7.8,  3.6, 'Iris-ver')\n",
      " ( 6. ,  5.4,  10.2,  4.8, 'Iris-ver')\n",
      " ( 5.4,  6. ,   9. ,  4.5, 'Iris-ver')\n",
      " ( 6. ,  6.8,   9. ,  4.8, 'Iris-ver')\n",
      " ( 6.7,  6.2,   9.4,  4.5, 'Iris-ver')\n",
      " ( 6.3,  4.6,   8.8,  3.9, 'Iris-ver')\n",
      " ( 5.6,  6. ,   8.2,  3.9, 'Iris-ver')\n",
      " ( 5.5,  5. ,   8. ,  3.9, 'Iris-ver')\n",
      " ( 5.5,  5.2,   8.8,  3.6, 'Iris-ver')\n",
      " ( 6.1,  6. ,   9.2,  4.2, 'Iris-ver')\n",
      " ( 5.8,  5.2,   8. ,  3.6, 'Iris-ver')\n",
      " ( 5. ,  4.6,   6.6,  3. , 'Iris-ver')\n",
      " ( 5.6,  5.4,   8.4,  3.9, 'Iris-ver')\n",
      " ( 5.7,  6. ,   8.4,  3.6, 'Iris-ver')\n",
      " ( 5.7,  5.8,   8.4,  3.9, 'Iris-ver')\n",
      " ( 6.2,  5.8,   8.6,  3.9, 'Iris-ver')\n",
      " ( 5.1,  5. ,   6. ,  3.3, 'Iris-ver')\n",
      " ( 5.7,  5.6,   8.2,  3.9, 'Iris-ver')\n",
      " ( 6.3,  6.6,  12. ,  7.5, 'Iris-vir')\n",
      " ( 5.8,  5.4,  10.2,  5.7, 'Iris-vir')\n",
      " ( 7.1,  6. ,  11.8,  6.3, 'Iris-vir')\n",
      " ( 6.3,  5.8,  11.2,  5.4, 'Iris-vir')\n",
      " ( 6.5,  6. ,  11.6,  6.6, 'Iris-vir')]\n"
     ]
    }
   ],
   "source": [
    "data = np.genfromtxt('data/iris.txt', delimiter=',',dtype=( float, float, float, float, '|U8'))\n",
    "print(data)"
   ]
  },
  {
   "cell_type": "code",
   "execution_count": 80,
   "metadata": {},
   "outputs": [
    {
     "name": "stdout",
     "output_type": "stream",
     "text": [
      "There are 105 samples in the file\n"
     ]
    }
   ],
   "source": [
    "print('There are %i samples in the file' %data.shape[0])"
   ]
  },
  {
   "cell_type": "markdown",
   "metadata": {},
   "source": [
    "### Iterate all the rows"
   ]
  },
  {
   "cell_type": "code",
   "execution_count": 103,
   "metadata": {},
   "outputs": [
    {
     "name": "stdout",
     "output_type": "stream",
     "text": [
      "r =  [ 5.1  7.   2.8  0.6  nan]\n",
      "r =  [ 4.9  6.   2.8  0.6  nan]\n",
      "r =  [ 4.7  6.4  2.6  0.6  nan]\n",
      "r =  [ 4.6  6.2  3.   0.6  nan]\n",
      "r =  [ 5.   7.2  2.8  0.6  nan]\n",
      "r =  [ 5.4  7.8  3.4  1.2  nan]\n",
      "r =  [ 4.6  6.8  2.8  0.9  nan]\n",
      "r =  [ 5.   6.8  3.   0.6  nan]\n",
      "r =  [ 4.4  5.8  2.8  0.6  nan]\n",
      "r =  [ 4.9  6.2  3.   0.3  nan]\n",
      "r =  [ 5.4  7.4  3.   0.6  nan]\n",
      "r =  [ 4.8  6.8  3.2  0.6  nan]\n",
      "r =  [ 4.8  6.   2.8  0.3  nan]\n",
      "r =  [ 4.3  6.   2.2  0.3  nan]\n",
      "r =  [ 5.8  8.   2.4  0.6  nan]\n",
      "r =  [ 5.7  8.8  3.   1.2  nan]\n",
      "r =  [ 5.4  7.8  2.6  1.2  nan]\n",
      "r =  [ 5.1  7.   2.8  0.9  nan]\n",
      "r =  [ 5.7  7.6  3.4  0.9  nan]\n",
      "r =  [ 5.1  7.6  3.   0.9  nan]\n",
      "r =  [ 5.4  6.8  3.4  0.6  nan]\n",
      "r =  [ 5.1  7.4  3.   1.2  nan]\n",
      "r =  [ 4.6  7.2  2.   0.6  nan]\n",
      "r =  [ 5.1  6.6  3.4  1.5  nan]\n",
      "r =  [ 4.8  6.8  3.8  0.6  nan]\n",
      "r =  [ 5.   6.   3.2  0.6  nan]\n",
      "r =  [ 5.   6.8  3.2  1.2  nan]\n",
      "r =  [ 5.2  7.   3.   0.6  nan]\n",
      "r =  [ 5.2  6.8  2.8  0.6  nan]\n",
      "r =  [ 4.7  6.4  3.2  0.6  nan]\n",
      "r =  [ 4.8  6.2  3.2  0.6  nan]\n",
      "r =  [ 5.4  6.8  3.   1.2  nan]\n",
      "r =  [ 5.2  8.2  3.   0.3  nan]\n",
      "r =  [ 5.5  8.4  2.8  0.6  nan]\n",
      "r =  [ 4.9  6.2  3.   0.3  nan]\n",
      "r =  [ 5.   6.4  2.4  0.6  nan]\n",
      "r =  [ 5.5  7.   2.6  0.6  nan]\n",
      "r =  [ 4.9  6.2  3.   0.3  nan]\n",
      "r =  [ 4.4  6.   2.6  0.6  nan]\n",
      "r =  [ 5.1  6.8  3.   0.6  nan]\n",
      "r =  [ 5.   7.   2.6  0.9  nan]\n",
      "r =  [ 4.5  4.6  2.6  0.9  nan]\n",
      "r =  [ 4.4  6.4  2.6  0.6  nan]\n",
      "r =  [ 5.   7.   3.2  1.8  nan]\n",
      "r =  [ 5.1  7.6  3.8  1.2  nan]\n",
      "r =  [ 4.8  6.   2.8  0.9  nan]\n",
      "r =  [ 5.1  7.6  3.2  0.6  nan]\n",
      "r =  [ 4.6  6.4  2.8  0.6  nan]\n",
      "r =  [ 5.3  7.4  3.   0.6  nan]\n",
      "r =  [ 5.   6.6  2.8  0.6  nan]\n",
      "r =  [ 7.   6.4  9.4  4.2  nan]\n",
      "r =  [ 6.4  6.4  9.   4.5  nan]\n",
      "r =  [ 6.9  6.2  9.8  4.5  nan]\n",
      "r =  [ 5.5  4.6  8.   3.9  nan]\n",
      "r =  [ 6.5  5.6  9.2  4.5  nan]\n",
      "r =  [ 5.7  5.6  9.   3.9  nan]\n",
      "r =  [ 6.3  6.6  9.4  4.8  nan]\n",
      "r =  [ 4.9  4.8  6.6  3.   nan]\n",
      "r =  [ 6.6  5.8  9.2  3.9  nan]\n",
      "r =  [ 5.2  5.4  7.8  4.2  nan]\n",
      "r =  [  5.   4.   7.   3.  nan]\n",
      "r =  [ 5.9  6.   8.4  4.5  nan]\n",
      "r =  [ 6.   4.4  8.   3.   nan]\n",
      "r =  [ 6.1  5.8  9.4  4.2  nan]\n",
      "r =  [ 5.6  5.8  7.2  3.9  nan]\n",
      "r =  [ 6.7  6.2  8.8  4.2  nan]\n",
      "r =  [ 5.6  6.   9.   4.5  nan]\n",
      "r =  [ 5.8  5.4  8.2  3.   nan]\n",
      "r =  [ 6.2  4.4  9.   4.5  nan]\n",
      "r =  [ 5.6  5.   7.8  3.3  nan]\n",
      "r =  [ 5.9  6.4  9.6  5.4  nan]\n",
      "r =  [ 6.1  5.6  8.   3.9  nan]\n",
      "r =  [ 6.3  5.   9.8  4.5  nan]\n",
      "r =  [ 6.1  5.6  9.4  3.6  nan]\n",
      "r =  [ 6.4  5.8  8.6  3.9  nan]\n",
      "r =  [ 6.6  6.   8.8  4.2  nan]\n",
      "r =  [ 6.8  5.6  9.6  4.2  nan]\n",
      "r =  [  6.7   6.   10.    5.1   nan]\n",
      "r =  [ 6.   5.8  9.   4.5  nan]\n",
      "r =  [ 5.7  5.2  7.   3.   nan]\n",
      "r =  [ 5.5  4.8  7.6  3.3  nan]\n",
      "r =  [ 5.5  4.8  7.4  3.   nan]\n",
      "r =  [ 5.8  5.4  7.8  3.6  nan]\n",
      "r =  [  6.    5.4  10.2   4.8   nan]\n",
      "r =  [ 5.4  6.   9.   4.5  nan]\n",
      "r =  [ 6.   6.8  9.   4.8  nan]\n",
      "r =  [ 6.7  6.2  9.4  4.5  nan]\n",
      "r =  [ 6.3  4.6  8.8  3.9  nan]\n",
      "r =  [ 5.6  6.   8.2  3.9  nan]\n",
      "r =  [ 5.5  5.   8.   3.9  nan]\n",
      "r =  [ 5.5  5.2  8.8  3.6  nan]\n",
      "r =  [ 6.1  6.   9.2  4.2  nan]\n",
      "r =  [ 5.8  5.2  8.   3.6  nan]\n",
      "r =  [ 5.   4.6  6.6  3.   nan]\n",
      "r =  [ 5.6  5.4  8.4  3.9  nan]\n",
      "r =  [ 5.7  6.   8.4  3.6  nan]\n",
      "r =  [ 5.7  5.8  8.4  3.9  nan]\n",
      "r =  [ 6.2  5.8  8.6  3.9  nan]\n",
      "r =  [ 5.1  5.   6.   3.3  nan]\n",
      "r =  [ 5.7  5.6  8.2  3.9  nan]\n",
      "r =  [  6.3   6.6  12.    7.5   nan]\n",
      "r =  [  5.8   5.4  10.2   5.7   nan]\n",
      "r =  [  7.1   6.   11.8   6.3   nan]\n",
      "r =  [  6.3   5.8  11.2   5.4   nan]\n",
      "r =  [  6.5   6.   11.6   6.6   nan]\n"
     ]
    }
   ],
   "source": [
    "for i in data:\n",
    "    print('r = ', i)"
   ]
  },
  {
   "cell_type": "markdown",
   "metadata": {},
   "source": [
    "### Get all the elements individually "
   ]
  },
  {
   "cell_type": "code",
   "execution_count": 101,
   "metadata": {},
   "outputs": [
    {
     "name": "stdout",
     "output_type": "stream",
     "text": [
      "element =  5.1\n",
      "element =  7.0\n",
      "element =  2.8\n",
      "element =  0.6\n",
      "element =  nan\n",
      "element =  4.9\n",
      "element =  6.0\n",
      "element =  2.8\n",
      "element =  0.6\n",
      "element =  nan\n",
      "element =  4.7\n",
      "element =  6.4\n",
      "element =  2.6\n",
      "element =  0.6\n",
      "element =  nan\n",
      "element =  4.6\n",
      "element =  6.2\n",
      "element =  3.0\n",
      "element =  0.6\n",
      "element =  nan\n",
      "element =  5.0\n",
      "element =  7.2\n",
      "element =  2.8\n",
      "element =  0.6\n",
      "element =  nan\n",
      "element =  5.4\n",
      "element =  7.8\n",
      "element =  3.4\n",
      "element =  1.2\n",
      "element =  nan\n",
      "element =  4.6\n",
      "element =  6.8\n",
      "element =  2.8\n",
      "element =  0.9\n",
      "element =  nan\n",
      "element =  5.0\n",
      "element =  6.8\n",
      "element =  3.0\n",
      "element =  0.6\n",
      "element =  nan\n",
      "element =  4.4\n",
      "element =  5.8\n",
      "element =  2.8\n",
      "element =  0.6\n",
      "element =  nan\n",
      "element =  4.9\n",
      "element =  6.2\n",
      "element =  3.0\n",
      "element =  0.3\n",
      "element =  nan\n",
      "element =  5.4\n",
      "element =  7.4\n",
      "element =  3.0\n",
      "element =  0.6\n",
      "element =  nan\n",
      "element =  4.8\n",
      "element =  6.8\n",
      "element =  3.2\n",
      "element =  0.6\n",
      "element =  nan\n",
      "element =  4.8\n",
      "element =  6.0\n",
      "element =  2.8\n",
      "element =  0.3\n",
      "element =  nan\n",
      "element =  4.3\n",
      "element =  6.0\n",
      "element =  2.2\n",
      "element =  0.3\n",
      "element =  nan\n",
      "element =  5.8\n",
      "element =  8.0\n",
      "element =  2.4\n",
      "element =  0.6\n",
      "element =  nan\n",
      "element =  5.7\n",
      "element =  8.8\n",
      "element =  3.0\n",
      "element =  1.2\n",
      "element =  nan\n",
      "element =  5.4\n",
      "element =  7.8\n",
      "element =  2.6\n",
      "element =  1.2\n",
      "element =  nan\n",
      "element =  5.1\n",
      "element =  7.0\n",
      "element =  2.8\n",
      "element =  0.9\n",
      "element =  nan\n",
      "element =  5.7\n",
      "element =  7.6\n",
      "element =  3.4\n",
      "element =  0.9\n",
      "element =  nan\n",
      "element =  5.1\n",
      "element =  7.6\n",
      "element =  3.0\n",
      "element =  0.9\n",
      "element =  nan\n",
      "element =  5.4\n",
      "element =  6.8\n",
      "element =  3.4\n",
      "element =  0.6\n",
      "element =  nan\n",
      "element =  5.1\n",
      "element =  7.4\n",
      "element =  3.0\n",
      "element =  1.2\n",
      "element =  nan\n",
      "element =  4.6\n",
      "element =  7.2\n",
      "element =  2.0\n",
      "element =  0.6\n",
      "element =  nan\n",
      "element =  5.1\n",
      "element =  6.6\n",
      "element =  3.4\n",
      "element =  1.5\n",
      "element =  nan\n",
      "element =  4.8\n",
      "element =  6.8\n",
      "element =  3.8\n",
      "element =  0.6\n",
      "element =  nan\n",
      "element =  5.0\n",
      "element =  6.0\n",
      "element =  3.2\n",
      "element =  0.6\n",
      "element =  nan\n",
      "element =  5.0\n",
      "element =  6.8\n",
      "element =  3.2\n",
      "element =  1.2\n",
      "element =  nan\n",
      "element =  5.2\n",
      "element =  7.0\n",
      "element =  3.0\n",
      "element =  0.6\n",
      "element =  nan\n",
      "element =  5.2\n",
      "element =  6.8\n",
      "element =  2.8\n",
      "element =  0.6\n",
      "element =  nan\n",
      "element =  4.7\n",
      "element =  6.4\n",
      "element =  3.2\n",
      "element =  0.6\n",
      "element =  nan\n",
      "element =  4.8\n",
      "element =  6.2\n",
      "element =  3.2\n",
      "element =  0.6\n",
      "element =  nan\n",
      "element =  5.4\n",
      "element =  6.8\n",
      "element =  3.0\n",
      "element =  1.2\n",
      "element =  nan\n",
      "element =  5.2\n",
      "element =  8.2\n",
      "element =  3.0\n",
      "element =  0.3\n",
      "element =  nan\n",
      "element =  5.5\n",
      "element =  8.4\n",
      "element =  2.8\n",
      "element =  0.6\n",
      "element =  nan\n",
      "element =  4.9\n",
      "element =  6.2\n",
      "element =  3.0\n",
      "element =  0.3\n",
      "element =  nan\n",
      "element =  5.0\n",
      "element =  6.4\n",
      "element =  2.4\n",
      "element =  0.6\n",
      "element =  nan\n",
      "element =  5.5\n",
      "element =  7.0\n",
      "element =  2.6\n",
      "element =  0.6\n",
      "element =  nan\n",
      "element =  4.9\n",
      "element =  6.2\n",
      "element =  3.0\n",
      "element =  0.3\n",
      "element =  nan\n",
      "element =  4.4\n",
      "element =  6.0\n",
      "element =  2.6\n",
      "element =  0.6\n",
      "element =  nan\n",
      "element =  5.1\n",
      "element =  6.8\n",
      "element =  3.0\n",
      "element =  0.6\n",
      "element =  nan\n",
      "element =  5.0\n",
      "element =  7.0\n",
      "element =  2.6\n",
      "element =  0.9\n",
      "element =  nan\n",
      "element =  4.5\n",
      "element =  4.6\n",
      "element =  2.6\n",
      "element =  0.9\n",
      "element =  nan\n",
      "element =  4.4\n",
      "element =  6.4\n",
      "element =  2.6\n",
      "element =  0.6\n",
      "element =  nan\n",
      "element =  5.0\n",
      "element =  7.0\n",
      "element =  3.2\n",
      "element =  1.8\n",
      "element =  nan\n",
      "element =  5.1\n",
      "element =  7.6\n",
      "element =  3.8\n",
      "element =  1.2\n",
      "element =  nan\n",
      "element =  4.8\n",
      "element =  6.0\n",
      "element =  2.8\n",
      "element =  0.9\n",
      "element =  nan\n",
      "element =  5.1\n",
      "element =  7.6\n",
      "element =  3.2\n",
      "element =  0.6\n",
      "element =  nan\n",
      "element =  4.6\n",
      "element =  6.4\n",
      "element =  2.8\n",
      "element =  0.6\n",
      "element =  nan\n",
      "element =  5.3\n",
      "element =  7.4\n",
      "element =  3.0\n",
      "element =  0.6\n",
      "element =  nan\n",
      "element =  5.0\n",
      "element =  6.6\n",
      "element =  2.8\n",
      "element =  0.6\n",
      "element =  nan\n",
      "element =  7.0\n",
      "element =  6.4\n",
      "element =  9.4\n",
      "element =  4.2\n",
      "element =  nan\n",
      "element =  6.4\n",
      "element =  6.4\n",
      "element =  9.0\n",
      "element =  4.5\n",
      "element =  nan\n",
      "element =  6.9\n",
      "element =  6.2\n",
      "element =  9.8\n",
      "element =  4.5\n",
      "element =  nan\n",
      "element =  5.5\n",
      "element =  4.6\n",
      "element =  8.0\n",
      "element =  3.9\n",
      "element =  nan\n",
      "element =  6.5\n",
      "element =  5.6\n",
      "element =  9.2\n",
      "element =  4.5\n",
      "element =  nan\n",
      "element =  5.7\n",
      "element =  5.6\n",
      "element =  9.0\n",
      "element =  3.9\n",
      "element =  nan\n",
      "element =  6.3\n",
      "element =  6.6\n",
      "element =  9.4\n",
      "element =  4.8\n",
      "element =  nan\n",
      "element =  4.9\n",
      "element =  4.8\n",
      "element =  6.6\n",
      "element =  3.0\n",
      "element =  nan\n",
      "element =  6.6\n",
      "element =  5.8\n",
      "element =  9.2\n",
      "element =  3.9\n",
      "element =  nan\n",
      "element =  5.2\n",
      "element =  5.4\n",
      "element =  7.8\n",
      "element =  4.2\n",
      "element =  nan\n",
      "element =  5.0\n",
      "element =  4.0\n",
      "element =  7.0\n",
      "element =  3.0\n",
      "element =  nan\n",
      "element =  5.9\n",
      "element =  6.0\n",
      "element =  8.4\n",
      "element =  4.5\n",
      "element =  nan\n",
      "element =  6.0\n",
      "element =  4.4\n",
      "element =  8.0\n",
      "element =  3.0\n",
      "element =  nan\n",
      "element =  6.1\n",
      "element =  5.8\n",
      "element =  9.4\n",
      "element =  4.2\n",
      "element =  nan\n",
      "element =  5.6\n",
      "element =  5.8\n",
      "element =  7.2\n",
      "element =  3.9\n",
      "element =  nan\n",
      "element =  6.7\n",
      "element =  6.2\n",
      "element =  8.8\n",
      "element =  4.2\n",
      "element =  nan\n",
      "element =  5.6\n",
      "element =  6.0\n",
      "element =  9.0\n",
      "element =  4.5\n",
      "element =  nan\n",
      "element =  5.8\n",
      "element =  5.4\n",
      "element =  8.2\n",
      "element =  3.0\n",
      "element =  nan\n",
      "element =  6.2\n",
      "element =  4.4\n",
      "element =  9.0\n",
      "element =  4.5\n",
      "element =  nan\n",
      "element =  5.6\n",
      "element =  5.0\n",
      "element =  7.8\n",
      "element =  3.3\n",
      "element =  nan\n",
      "element =  5.9\n",
      "element =  6.4\n",
      "element =  9.6\n",
      "element =  5.4\n",
      "element =  nan\n",
      "element =  6.1\n",
      "element =  5.6\n",
      "element =  8.0\n",
      "element =  3.9\n",
      "element =  nan\n",
      "element =  6.3\n",
      "element =  5.0\n",
      "element =  9.8\n",
      "element =  4.5\n",
      "element =  nan\n",
      "element =  6.1\n",
      "element =  5.6\n",
      "element =  9.4\n",
      "element =  3.6\n",
      "element =  nan\n",
      "element =  6.4\n",
      "element =  5.8\n",
      "element =  8.6\n",
      "element =  3.9\n",
      "element =  nan\n",
      "element =  6.6\n",
      "element =  6.0\n",
      "element =  8.8\n",
      "element =  4.2\n",
      "element =  nan\n",
      "element =  6.8\n",
      "element =  5.6\n",
      "element =  9.6\n",
      "element =  4.2\n",
      "element =  nan\n",
      "element =  6.7\n",
      "element =  6.0\n",
      "element =  10.0\n",
      "element =  5.1\n",
      "element =  nan\n",
      "element =  6.0\n",
      "element =  5.8\n",
      "element =  9.0\n",
      "element =  4.5\n",
      "element =  nan\n",
      "element =  5.7\n",
      "element =  5.2\n",
      "element =  7.0\n",
      "element =  3.0\n",
      "element =  nan\n",
      "element =  5.5\n",
      "element =  4.8\n",
      "element =  7.6\n",
      "element =  3.3\n",
      "element =  nan\n",
      "element =  5.5\n",
      "element =  4.8\n",
      "element =  7.4\n",
      "element =  3.0\n",
      "element =  nan\n",
      "element =  5.8\n",
      "element =  5.4\n",
      "element =  7.8\n",
      "element =  3.6\n",
      "element =  nan\n",
      "element =  6.0\n",
      "element =  5.4\n",
      "element =  10.2\n",
      "element =  4.8\n",
      "element =  nan\n",
      "element =  5.4\n",
      "element =  6.0\n",
      "element =  9.0\n",
      "element =  4.5\n",
      "element =  nan\n",
      "element =  6.0\n",
      "element =  6.8\n",
      "element =  9.0\n",
      "element =  4.8\n",
      "element =  nan\n",
      "element =  6.7\n",
      "element =  6.2\n",
      "element =  9.4\n",
      "element =  4.5\n",
      "element =  nan\n",
      "element =  6.3\n",
      "element =  4.6\n",
      "element =  8.8\n",
      "element =  3.9\n",
      "element =  nan\n",
      "element =  5.6\n",
      "element =  6.0\n",
      "element =  8.2\n",
      "element =  3.9\n",
      "element =  nan\n",
      "element =  5.5\n",
      "element =  5.0\n",
      "element =  8.0\n",
      "element =  3.9\n",
      "element =  nan\n",
      "element =  5.5\n",
      "element =  5.2\n",
      "element =  8.8\n",
      "element =  3.6\n",
      "element =  nan\n",
      "element =  6.1\n",
      "element =  6.0\n",
      "element =  9.2\n",
      "element =  4.2\n",
      "element =  nan\n",
      "element =  5.8\n",
      "element =  5.2\n",
      "element =  8.0\n",
      "element =  3.6\n",
      "element =  nan\n",
      "element =  5.0\n",
      "element =  4.6\n",
      "element =  6.6\n",
      "element =  3.0\n",
      "element =  nan\n",
      "element =  5.6\n",
      "element =  5.4\n",
      "element =  8.4\n",
      "element =  3.9\n",
      "element =  nan\n",
      "element =  5.7\n",
      "element =  6.0\n",
      "element =  8.4\n",
      "element =  3.6\n",
      "element =  nan\n",
      "element =  5.7\n",
      "element =  5.8\n",
      "element =  8.4\n",
      "element =  3.9\n",
      "element =  nan\n",
      "element =  6.2\n",
      "element =  5.8\n",
      "element =  8.6\n",
      "element =  3.9\n",
      "element =  nan\n",
      "element =  5.1\n",
      "element =  5.0\n",
      "element =  6.0\n",
      "element =  3.3\n",
      "element =  nan\n",
      "element =  5.7\n",
      "element =  5.6\n",
      "element =  8.2\n",
      "element =  3.9\n",
      "element =  nan\n",
      "element =  6.3\n",
      "element =  6.6\n",
      "element =  12.0\n",
      "element =  7.5\n",
      "element =  nan\n",
      "element =  5.8\n",
      "element =  5.4\n",
      "element =  10.2\n",
      "element =  5.7\n",
      "element =  nan\n",
      "element =  7.1\n",
      "element =  6.0\n",
      "element =  11.8\n",
      "element =  6.3\n",
      "element =  nan\n",
      "element =  6.3\n",
      "element =  5.8\n",
      "element =  11.2\n",
      "element =  5.4\n",
      "element =  nan\n",
      "element =  6.5\n",
      "element =  6.0\n",
      "element =  11.6\n",
      "element =  6.6\n",
      "element =  nan\n"
     ]
    }
   ],
   "source": [
    "for i in data.flatten():\n",
    "    print('element = ', i)"
   ]
  },
  {
   "cell_type": "code",
   "execution_count": 102,
   "metadata": {},
   "outputs": [
    {
     "name": "stdout",
     "output_type": "stream",
     "text": [
      "element =  5.1\n",
      "element =  4.9\n",
      "element =  4.7\n",
      "element =  4.6\n",
      "element =  5.0\n",
      "element =  5.4\n",
      "element =  4.6\n",
      "element =  5.0\n",
      "element =  4.4\n",
      "element =  4.9\n",
      "element =  5.4\n",
      "element =  4.8\n",
      "element =  4.8\n",
      "element =  4.3\n",
      "element =  5.8\n",
      "element =  5.7\n",
      "element =  5.4\n",
      "element =  5.1\n",
      "element =  5.7\n",
      "element =  5.1\n",
      "element =  5.4\n",
      "element =  5.1\n",
      "element =  4.6\n",
      "element =  5.1\n",
      "element =  4.8\n",
      "element =  5.0\n",
      "element =  5.0\n",
      "element =  5.2\n",
      "element =  5.2\n",
      "element =  4.7\n",
      "element =  4.8\n",
      "element =  5.4\n",
      "element =  5.2\n",
      "element =  5.5\n",
      "element =  4.9\n",
      "element =  5.0\n",
      "element =  5.5\n",
      "element =  4.9\n",
      "element =  4.4\n",
      "element =  5.1\n",
      "element =  5.0\n",
      "element =  4.5\n",
      "element =  4.4\n",
      "element =  5.0\n",
      "element =  5.1\n",
      "element =  4.8\n",
      "element =  5.1\n",
      "element =  4.6\n",
      "element =  5.3\n",
      "element =  5.0\n",
      "element =  7.0\n",
      "element =  6.4\n",
      "element =  6.9\n",
      "element =  5.5\n",
      "element =  6.5\n",
      "element =  5.7\n",
      "element =  6.3\n",
      "element =  4.9\n",
      "element =  6.6\n",
      "element =  5.2\n",
      "element =  5.0\n",
      "element =  5.9\n",
      "element =  6.0\n",
      "element =  6.1\n",
      "element =  5.6\n",
      "element =  6.7\n",
      "element =  5.6\n",
      "element =  5.8\n",
      "element =  6.2\n",
      "element =  5.6\n",
      "element =  5.9\n",
      "element =  6.1\n",
      "element =  6.3\n",
      "element =  6.1\n",
      "element =  6.4\n",
      "element =  6.6\n",
      "element =  6.8\n",
      "element =  6.7\n",
      "element =  6.0\n",
      "element =  5.7\n",
      "element =  5.5\n",
      "element =  5.5\n",
      "element =  5.8\n",
      "element =  6.0\n",
      "element =  5.4\n",
      "element =  6.0\n",
      "element =  6.7\n",
      "element =  6.3\n",
      "element =  5.6\n",
      "element =  5.5\n",
      "element =  5.5\n",
      "element =  6.1\n",
      "element =  5.8\n",
      "element =  5.0\n",
      "element =  5.6\n",
      "element =  5.7\n",
      "element =  5.7\n",
      "element =  6.2\n",
      "element =  5.1\n",
      "element =  5.7\n",
      "element =  6.3\n",
      "element =  5.8\n",
      "element =  7.1\n",
      "element =  6.3\n",
      "element =  6.5\n",
      "element =  7.0\n",
      "element =  6.0\n",
      "element =  6.4\n",
      "element =  6.2\n",
      "element =  7.2\n",
      "element =  7.8\n",
      "element =  6.8\n",
      "element =  6.8\n",
      "element =  5.8\n",
      "element =  6.2\n",
      "element =  7.4\n",
      "element =  6.8\n",
      "element =  6.0\n",
      "element =  6.0\n",
      "element =  8.0\n",
      "element =  8.8\n",
      "element =  7.8\n",
      "element =  7.0\n",
      "element =  7.6\n",
      "element =  7.6\n",
      "element =  6.8\n",
      "element =  7.4\n",
      "element =  7.2\n",
      "element =  6.6\n",
      "element =  6.8\n",
      "element =  6.0\n",
      "element =  6.8\n",
      "element =  7.0\n",
      "element =  6.8\n",
      "element =  6.4\n",
      "element =  6.2\n",
      "element =  6.8\n",
      "element =  8.2\n",
      "element =  8.4\n",
      "element =  6.2\n",
      "element =  6.4\n",
      "element =  7.0\n",
      "element =  6.2\n",
      "element =  6.0\n",
      "element =  6.8\n",
      "element =  7.0\n",
      "element =  4.6\n",
      "element =  6.4\n",
      "element =  7.0\n",
      "element =  7.6\n",
      "element =  6.0\n",
      "element =  7.6\n",
      "element =  6.4\n",
      "element =  7.4\n",
      "element =  6.6\n",
      "element =  6.4\n",
      "element =  6.4\n",
      "element =  6.2\n",
      "element =  4.6\n",
      "element =  5.6\n",
      "element =  5.6\n",
      "element =  6.6\n",
      "element =  4.8\n",
      "element =  5.8\n",
      "element =  5.4\n",
      "element =  4.0\n",
      "element =  6.0\n",
      "element =  4.4\n",
      "element =  5.8\n",
      "element =  5.8\n",
      "element =  6.2\n",
      "element =  6.0\n",
      "element =  5.4\n",
      "element =  4.4\n",
      "element =  5.0\n",
      "element =  6.4\n",
      "element =  5.6\n",
      "element =  5.0\n",
      "element =  5.6\n",
      "element =  5.8\n",
      "element =  6.0\n",
      "element =  5.6\n",
      "element =  6.0\n",
      "element =  5.8\n",
      "element =  5.2\n",
      "element =  4.8\n",
      "element =  4.8\n",
      "element =  5.4\n",
      "element =  5.4\n",
      "element =  6.0\n",
      "element =  6.8\n",
      "element =  6.2\n",
      "element =  4.6\n",
      "element =  6.0\n",
      "element =  5.0\n",
      "element =  5.2\n",
      "element =  6.0\n",
      "element =  5.2\n",
      "element =  4.6\n",
      "element =  5.4\n",
      "element =  6.0\n",
      "element =  5.8\n",
      "element =  5.8\n",
      "element =  5.0\n",
      "element =  5.6\n",
      "element =  6.6\n",
      "element =  5.4\n",
      "element =  6.0\n",
      "element =  5.8\n",
      "element =  6.0\n",
      "element =  2.8\n",
      "element =  2.8\n",
      "element =  2.6\n",
      "element =  3.0\n",
      "element =  2.8\n",
      "element =  3.4\n",
      "element =  2.8\n",
      "element =  3.0\n",
      "element =  2.8\n",
      "element =  3.0\n",
      "element =  3.0\n",
      "element =  3.2\n",
      "element =  2.8\n",
      "element =  2.2\n",
      "element =  2.4\n",
      "element =  3.0\n",
      "element =  2.6\n",
      "element =  2.8\n",
      "element =  3.4\n",
      "element =  3.0\n",
      "element =  3.4\n",
      "element =  3.0\n",
      "element =  2.0\n",
      "element =  3.4\n",
      "element =  3.8\n",
      "element =  3.2\n",
      "element =  3.2\n",
      "element =  3.0\n",
      "element =  2.8\n",
      "element =  3.2\n",
      "element =  3.2\n",
      "element =  3.0\n",
      "element =  3.0\n",
      "element =  2.8\n",
      "element =  3.0\n",
      "element =  2.4\n",
      "element =  2.6\n",
      "element =  3.0\n",
      "element =  2.6\n",
      "element =  3.0\n",
      "element =  2.6\n",
      "element =  2.6\n",
      "element =  2.6\n",
      "element =  3.2\n",
      "element =  3.8\n",
      "element =  2.8\n",
      "element =  3.2\n",
      "element =  2.8\n",
      "element =  3.0\n",
      "element =  2.8\n",
      "element =  9.4\n",
      "element =  9.0\n",
      "element =  9.8\n",
      "element =  8.0\n",
      "element =  9.2\n",
      "element =  9.0\n",
      "element =  9.4\n",
      "element =  6.6\n",
      "element =  9.2\n",
      "element =  7.8\n",
      "element =  7.0\n",
      "element =  8.4\n",
      "element =  8.0\n",
      "element =  9.4\n",
      "element =  7.2\n",
      "element =  8.8\n",
      "element =  9.0\n",
      "element =  8.2\n",
      "element =  9.0\n",
      "element =  7.8\n",
      "element =  9.6\n",
      "element =  8.0\n",
      "element =  9.8\n",
      "element =  9.4\n",
      "element =  8.6\n",
      "element =  8.8\n",
      "element =  9.6\n",
      "element =  10.0\n",
      "element =  9.0\n",
      "element =  7.0\n",
      "element =  7.6\n",
      "element =  7.4\n",
      "element =  7.8\n",
      "element =  10.2\n",
      "element =  9.0\n",
      "element =  9.0\n",
      "element =  9.4\n",
      "element =  8.8\n",
      "element =  8.2\n",
      "element =  8.0\n",
      "element =  8.8\n",
      "element =  9.2\n",
      "element =  8.0\n",
      "element =  6.6\n",
      "element =  8.4\n",
      "element =  8.4\n",
      "element =  8.4\n",
      "element =  8.6\n",
      "element =  6.0\n",
      "element =  8.2\n",
      "element =  12.0\n",
      "element =  10.2\n",
      "element =  11.8\n",
      "element =  11.2\n",
      "element =  11.6\n",
      "element =  0.6\n",
      "element =  0.6\n",
      "element =  0.6\n",
      "element =  0.6\n",
      "element =  0.6\n",
      "element =  1.2\n",
      "element =  0.9\n",
      "element =  0.6\n",
      "element =  0.6\n",
      "element =  0.3\n",
      "element =  0.6\n",
      "element =  0.6\n",
      "element =  0.3\n",
      "element =  0.3\n",
      "element =  0.6\n",
      "element =  1.2\n",
      "element =  1.2\n",
      "element =  0.9\n",
      "element =  0.9\n",
      "element =  0.9\n",
      "element =  0.6\n",
      "element =  1.2\n",
      "element =  0.6\n",
      "element =  1.5\n",
      "element =  0.6\n",
      "element =  0.6\n",
      "element =  1.2\n",
      "element =  0.6\n",
      "element =  0.6\n",
      "element =  0.6\n",
      "element =  0.6\n",
      "element =  1.2\n",
      "element =  0.3\n",
      "element =  0.6\n",
      "element =  0.3\n",
      "element =  0.6\n",
      "element =  0.6\n",
      "element =  0.3\n",
      "element =  0.6\n",
      "element =  0.6\n",
      "element =  0.9\n",
      "element =  0.9\n",
      "element =  0.6\n",
      "element =  1.8\n",
      "element =  1.2\n",
      "element =  0.9\n",
      "element =  0.6\n",
      "element =  0.6\n",
      "element =  0.6\n",
      "element =  0.6\n",
      "element =  4.2\n",
      "element =  4.5\n",
      "element =  4.5\n",
      "element =  3.9\n",
      "element =  4.5\n",
      "element =  3.9\n",
      "element =  4.8\n",
      "element =  3.0\n",
      "element =  3.9\n",
      "element =  4.2\n",
      "element =  3.0\n",
      "element =  4.5\n",
      "element =  3.0\n",
      "element =  4.2\n",
      "element =  3.9\n",
      "element =  4.2\n",
      "element =  4.5\n",
      "element =  3.0\n",
      "element =  4.5\n",
      "element =  3.3\n",
      "element =  5.4\n",
      "element =  3.9\n",
      "element =  4.5\n",
      "element =  3.6\n",
      "element =  3.9\n",
      "element =  4.2\n",
      "element =  4.2\n",
      "element =  5.1\n",
      "element =  4.5\n",
      "element =  3.0\n",
      "element =  3.3\n",
      "element =  3.0\n",
      "element =  3.6\n",
      "element =  4.8\n",
      "element =  4.5\n",
      "element =  4.8\n",
      "element =  4.5\n",
      "element =  3.9\n",
      "element =  3.9\n",
      "element =  3.9\n",
      "element =  3.6\n",
      "element =  4.2\n",
      "element =  3.6\n",
      "element =  3.0\n",
      "element =  3.9\n",
      "element =  3.6\n",
      "element =  3.9\n",
      "element =  3.9\n",
      "element =  3.3\n",
      "element =  3.9\n",
      "element =  7.5\n",
      "element =  5.7\n",
      "element =  6.3\n",
      "element =  5.4\n",
      "element =  6.6\n",
      "element =  nan\n",
      "element =  nan\n",
      "element =  nan\n",
      "element =  nan\n",
      "element =  nan\n",
      "element =  nan\n",
      "element =  nan\n",
      "element =  nan\n",
      "element =  nan\n",
      "element =  nan\n",
      "element =  nan\n",
      "element =  nan\n",
      "element =  nan\n",
      "element =  nan\n",
      "element =  nan\n",
      "element =  nan\n",
      "element =  nan\n",
      "element =  nan\n",
      "element =  nan\n",
      "element =  nan\n",
      "element =  nan\n",
      "element =  nan\n",
      "element =  nan\n",
      "element =  nan\n",
      "element =  nan\n",
      "element =  nan\n",
      "element =  nan\n",
      "element =  nan\n",
      "element =  nan\n",
      "element =  nan\n",
      "element =  nan\n",
      "element =  nan\n",
      "element =  nan\n",
      "element =  nan\n",
      "element =  nan\n",
      "element =  nan\n",
      "element =  nan\n",
      "element =  nan\n",
      "element =  nan\n",
      "element =  nan\n",
      "element =  nan\n",
      "element =  nan\n",
      "element =  nan\n",
      "element =  nan\n",
      "element =  nan\n",
      "element =  nan\n",
      "element =  nan\n",
      "element =  nan\n",
      "element =  nan\n",
      "element =  nan\n",
      "element =  nan\n",
      "element =  nan\n",
      "element =  nan\n",
      "element =  nan\n",
      "element =  nan\n",
      "element =  nan\n",
      "element =  nan\n",
      "element =  nan\n",
      "element =  nan\n",
      "element =  nan\n",
      "element =  nan\n",
      "element =  nan\n",
      "element =  nan\n",
      "element =  nan\n",
      "element =  nan\n",
      "element =  nan\n",
      "element =  nan\n",
      "element =  nan\n",
      "element =  nan\n",
      "element =  nan\n",
      "element =  nan\n",
      "element =  nan\n",
      "element =  nan\n",
      "element =  nan\n",
      "element =  nan\n",
      "element =  nan\n",
      "element =  nan\n",
      "element =  nan\n",
      "element =  nan\n",
      "element =  nan\n",
      "element =  nan\n",
      "element =  nan\n",
      "element =  nan\n",
      "element =  nan\n",
      "element =  nan\n",
      "element =  nan\n",
      "element =  nan\n",
      "element =  nan\n",
      "element =  nan\n",
      "element =  nan\n",
      "element =  nan\n",
      "element =  nan\n",
      "element =  nan\n",
      "element =  nan\n",
      "element =  nan\n",
      "element =  nan\n",
      "element =  nan\n",
      "element =  nan\n",
      "element =  nan\n",
      "element =  nan\n",
      "element =  nan\n",
      "element =  nan\n",
      "element =  nan\n",
      "element =  nan\n",
      "element =  nan\n"
     ]
    }
   ],
   "source": [
    "for i in data.flatten(order='F'):\n",
    "    print('element = ', i)"
   ]
  },
  {
   "cell_type": "code",
   "execution_count": null,
   "metadata": {
    "collapsed": true
   },
   "outputs": [],
   "source": []
  }
 ],
 "metadata": {
  "kernelspec": {
   "display_name": "Python 3",
   "language": "python",
   "name": "python3"
  },
  "language_info": {
   "codemirror_mode": {
    "name": "ipython",
    "version": 3
   },
   "file_extension": ".py",
   "mimetype": "text/x-python",
   "name": "python",
   "nbconvert_exporter": "python",
   "pygments_lexer": "ipython3",
   "version": "3.6.5"
  }
 },
 "nbformat": 4,
 "nbformat_minor": 2
}

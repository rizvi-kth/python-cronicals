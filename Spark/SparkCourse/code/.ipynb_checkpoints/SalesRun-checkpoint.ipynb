{
 "cells": [
  {
   "cell_type": "code",
   "execution_count": 1,
   "metadata": {},
   "outputs": [],
   "source": [
    "from pyspark.sql import SparkSession"
   ]
  },
  {
   "cell_type": "code",
   "execution_count": 2,
   "metadata": {},
   "outputs": [],
   "source": [
    "sess = SparkSession \\\n",
    "        .builder \\\n",
    "        .appName('Sales prediction') \\\n",
    "        .getOrCreate()"
   ]
  },
  {
   "cell_type": "code",
   "execution_count": 3,
   "metadata": {},
   "outputs": [
    {
     "data": {
      "text/html": [
       "\n",
       "            <div>\n",
       "                <p><b>SparkSession - in-memory</b></p>\n",
       "                \n",
       "        <div>\n",
       "            <p><b>SparkContext</b></p>\n",
       "\n",
       "            <p><a href=\"http://f7455d7cf912:4040\">Spark UI</a></p>\n",
       "\n",
       "            <dl>\n",
       "              <dt>Version</dt>\n",
       "                <dd><code>v2.3.1</code></dd>\n",
       "              <dt>Master</dt>\n",
       "                <dd><code>local[*]</code></dd>\n",
       "              <dt>AppName</dt>\n",
       "                <dd><code>Sales prediction</code></dd>\n",
       "            </dl>\n",
       "        </div>\n",
       "        \n",
       "            </div>\n",
       "        "
      ],
      "text/plain": [
       "<pyspark.sql.session.SparkSession at 0x7f85ab89e518>"
      ]
     },
     "execution_count": 3,
     "metadata": {},
     "output_type": "execute_result"
    }
   ],
   "source": [
    "sess"
   ]
  },
  {
   "cell_type": "code",
   "execution_count": 4,
   "metadata": {},
   "outputs": [],
   "source": [
    "# If a hive db related exception raises - delete the db.lck file from C:\\tools\\spark2\\bin\\code\\metastore_db\n",
    "salesDF = sess.read \\\n",
    "            .format('csv') \\\n",
    "            .option('header', 'true') \\\n",
    "            .load('dataset/sales.csv')"
   ]
  },
  {
   "cell_type": "code",
   "execution_count": 5,
   "metadata": {},
   "outputs": [
    {
     "name": "stdout",
     "output_type": "stream",
     "text": [
      "<class 'pyspark.sql.dataframe.DataFrame'>\n",
      "[('InvoiceNo', 'string'),\n",
      " ('StockCode', 'string'),\n",
      " ('Description', 'string'),\n",
      " ('Quantity', 'string'),\n",
      " ('InvoiceDate', 'string'),\n",
      " ('UnitPrice', 'string'),\n",
      " ('CustomerID', 'string'),\n",
      " ('Country', 'string')]\n"
     ]
    }
   ],
   "source": [
    "import pprint\n",
    "pprint.pprint(type(salesDF))\n",
    "pprint.pprint(salesDF.dtypes)"
   ]
  },
  {
   "cell_type": "code",
   "execution_count": 16,
   "metadata": {},
   "outputs": [
    {
     "name": "stdout",
     "output_type": "stream",
     "text": [
      "+---------+---------+--------------------+--------+-------------------+---------+----------+--------------+\n",
      "|InvoiceNo|StockCode|         Description|Quantity|        InvoiceDate|UnitPrice|CustomerID|       Country|\n",
      "+---------+---------+--------------------+--------+-------------------+---------+----------+--------------+\n",
      "|   536365|   85123A|WHITE HANGING HEA...|       6|2010-12-01 08:26:00|     2.55|   17850.0|United Kingdom|\n",
      "|   536365|    71053| WHITE METAL LANTERN|       6|2010-12-01 08:26:00|     3.39|   17850.0|United Kingdom|\n",
      "|   536365|   84406B|CREAM CUPID HEART...|       8|2010-12-01 08:26:00|     2.75|   17850.0|United Kingdom|\n",
      "|   536365|   84029G|KNITTED UNION FLA...|       6|2010-12-01 08:26:00|     3.39|   17850.0|United Kingdom|\n",
      "|   536365|   84029E|RED WOOLLY HOTTIE...|       6|2010-12-01 08:26:00|     3.39|   17850.0|United Kingdom|\n",
      "+---------+---------+--------------------+--------+-------------------+---------+----------+--------------+\n",
      "only showing top 5 rows\n",
      "\n"
     ]
    }
   ],
   "source": [
    "salesDF.show(5)"
   ]
  },
  {
   "cell_type": "code",
   "execution_count": 14,
   "metadata": {},
   "outputs": [],
   "source": [
    "#salesDF.drop('InvoiceNo', 'StockCode', 'CustomerID').show(5)\n",
    "salesDF = salesDF.drop('InvoiceNo', 'StockCode', 'CustomerID')"
   ]
  },
  {
   "cell_type": "code",
   "execution_count": 43,
   "metadata": {},
   "outputs": [
    {
     "name": "stdout",
     "output_type": "stream",
     "text": [
      "+--------------------+--------+-------------------+---------+--------------+\n",
      "|         Description|Quantity|        InvoiceDate|UnitPrice|       Country|\n",
      "+--------------------+--------+-------------------+---------+--------------+\n",
      "|WHITE HANGING HEA...|       6|2010-12-01 08:26:00|     2.55|United Kingdom|\n",
      "| WHITE METAL LANTERN|       6|2010-12-01 08:26:00|     3.39|United Kingdom|\n",
      "+--------------------+--------+-------------------+---------+--------------+\n",
      "only showing top 2 rows\n",
      "\n"
     ]
    }
   ],
   "source": [
    "salesDF.show(2)"
   ]
  },
  {
   "cell_type": "markdown",
   "metadata": {},
   "source": [
    "### Check nulls"
   ]
  },
  {
   "cell_type": "code",
   "execution_count": 63,
   "metadata": {},
   "outputs": [
    {
     "data": {
      "text/plain": [
       "0"
      ]
     },
     "execution_count": 63,
     "metadata": {},
     "output_type": "execute_result"
    }
   ],
   "source": [
    "#salesDF.filter(\"InvoiceDate is NULL\").count()\n",
    "salesDF.filter(\"Description is NULL\").count()"
   ]
  },
  {
   "cell_type": "markdown",
   "metadata": {},
   "source": [
    "### Fill nulls with fillna"
   ]
  },
  {
   "cell_type": "code",
   "execution_count": 59,
   "metadata": {},
   "outputs": [],
   "source": [
    "salesDF = salesDF.fillna({'Description': 'Empty'})"
   ]
  },
  {
   "cell_type": "markdown",
   "metadata": {},
   "source": [
    "### Examine with group by total and sorting"
   ]
  },
  {
   "cell_type": "code",
   "execution_count": 62,
   "metadata": {},
   "outputs": [
    {
     "name": "stdout",
     "output_type": "stream",
     "text": [
      "+--------------------+--------------+\n",
      "|         Description|Total Quantity|\n",
      "+--------------------+--------------+\n",
      "| 4 PURPLE FLOCK D...|           2.0|\n",
      "| SET 2 TEA TOWELS...|          46.0|\n",
      "|\"CHARLIE+LOLA\"\"EX...|           6.0|\n",
      "+--------------------+--------------+\n",
      "only showing top 3 rows\n",
      "\n"
     ]
    }
   ],
   "source": [
    "#salesDF.groupBy('Description').agg({\"StockCode\":\"count\"}).show(10)\n",
    "salesDF.groupBy('Description').agg({\"Quantity\":\"sum\"}).withColumnRenamed(\"SUM(Quantity)\", \"Total Quantity\").sort(\"Description\", ascending=True).show(3)"
   ]
  },
  {
   "cell_type": "markdown",
   "metadata": {},
   "source": [
    "### Column cast"
   ]
  },
  {
   "cell_type": "code",
   "execution_count": 72,
   "metadata": {},
   "outputs": [
    {
     "name": "stdout",
     "output_type": "stream",
     "text": [
      "+--------------------+--------+-------------------+---------+--------------+\n",
      "|         Description|Quantity|        InvoiceDate|UnitPrice|       Country|\n",
      "+--------------------+--------+-------------------+---------+--------------+\n",
      "|WHITE HANGING HEA...|       6|2010-12-01 08:26:00|     2.55|United Kingdom|\n",
      "| WHITE METAL LANTERN|       6|2010-12-01 08:26:00|     3.39|United Kingdom|\n",
      "+--------------------+--------+-------------------+---------+--------------+\n",
      "only showing top 2 rows\n",
      "\n"
     ]
    }
   ],
   "source": [
    "salesDF.show(2)"
   ]
  },
  {
   "cell_type": "code",
   "execution_count": 76,
   "metadata": {},
   "outputs": [
    {
     "name": "stdout",
     "output_type": "stream",
     "text": [
      "+--------------------+--------+-------------------+---------+--------------+---+\n",
      "|         Description|Quantity|        InvoiceDate|UnitPrice|       Country|Qty|\n",
      "+--------------------+--------+-------------------+---------+--------------+---+\n",
      "|WHITE HANGING HEA...|       6|2010-12-01 08:26:00|     2.55|United Kingdom|  6|\n",
      "| WHITE METAL LANTERN|       6|2010-12-01 08:26:00|     3.39|United Kingdom|  6|\n",
      "+--------------------+--------+-------------------+---------+--------------+---+\n",
      "only showing top 2 rows\n",
      "\n"
     ]
    }
   ],
   "source": [
    "# cast with string param\n",
    "salesDF.withColumn(\"Qty\", salesDF[\"Quantity\"].cast(\"long\")).show(2)"
   ]
  },
  {
   "cell_type": "code",
   "execution_count": 83,
   "metadata": {},
   "outputs": [
    {
     "name": "stdout",
     "output_type": "stream",
     "text": [
      "+--------------------+--------+-------------------+---------+--------------+---+-----+\n",
      "|         Description|Quantity|        InvoiceDate|UnitPrice|       Country|Qty|Price|\n",
      "+--------------------+--------+-------------------+---------+--------------+---+-----+\n",
      "|WHITE HANGING HEA...|       6|2010-12-01 08:26:00|     2.55|United Kingdom|  6| 2.55|\n",
      "| WHITE METAL LANTERN|       6|2010-12-01 08:26:00|     3.39|United Kingdom|  6| 3.39|\n",
      "+--------------------+--------+-------------------+---------+--------------+---+-----+\n",
      "only showing top 2 rows\n",
      "\n"
     ]
    }
   ],
   "source": [
    "# cast with type param\n",
    "from pyspark.sql.types import DoubleType\n",
    "salesDF .withColumn(\"Qty\", salesDF[\"Quantity\"].cast(\"long\")) \\\n",
    "        .withColumn(\"Price\", salesDF[\"UnitPrice\"].cast(DoubleType())) \\\n",
    "        .show(2)"
   ]
  },
  {
   "cell_type": "code",
   "execution_count": null,
   "metadata": {},
   "outputs": [],
   "source": []
  }
 ],
 "metadata": {
  "kernelspec": {
   "display_name": "Python 3",
   "language": "python",
   "name": "python3"
  },
  "language_info": {
   "codemirror_mode": {
    "name": "ipython",
    "version": 3
   },
   "file_extension": ".py",
   "mimetype": "text/x-python",
   "name": "python",
   "nbconvert_exporter": "python",
   "pygments_lexer": "ipython3",
   "version": "3.6.6"
  }
 },
 "nbformat": 4,
 "nbformat_minor": 2
}

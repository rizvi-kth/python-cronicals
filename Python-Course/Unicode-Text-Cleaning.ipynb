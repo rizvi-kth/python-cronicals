{
 "cells": [
  {
   "cell_type": "code",
   "execution_count": 1,
   "metadata": {},
   "outputs": [
    {
     "name": "stdout",
     "output_type": "stream",
     "text": [
      "Requirement already satisfied: lxml in /Users/rizvi/opt/anaconda3/envs/sonnet/lib/python3.7/site-packages (4.5.0)\r\n"
     ]
    }
   ],
   "source": [
    "!pip install lxml"
   ]
  },
  {
   "cell_type": "code",
   "execution_count": 9,
   "metadata": {},
   "outputs": [],
   "source": [
    "import os\n",
    "import string\n",
    "import re\n",
    "from bs4 import BeautifulSoup"
   ]
  },
  {
   "cell_type": "code",
   "execution_count": 10,
   "metadata": {},
   "outputs": [],
   "source": [
    "text = \"inga pengar från regeringen till idrott för äldre regeringen tar bort \\\n",
    "satsningen på 20 miljoner kronor kring idrott för äldre. det meddelades idag när \\\n",
    "vårbudgeten presenterades.regeringen tar bort satsningen på 20 miljoner kronor kring \\\n",
    "idrott för äldre. det meddelade regeringen idag när vårbudgeten presenterades.jag är \\\n",
    "mycket förvånad och besviken över att regeringen väljer att plocka bort en satsning i budgeten \\\n",
    "som s hade som vallöfte säger björn eriksson ordförande riksidrottsförbundet och sisu idrottsutbildarna.\\\n",
    "riksidrottsförbundet har tidigare tillsammans med seniorförbunden lyft vikten av att bryta äldres isolering \\\n",
    "och ensamhet och vi har tillsammans sett att idrotten kan och ännu mer hade kunnat genom sina idrottsföreningar \\\n",
    "bidra med gemenskap glädje och fysisk aktivitet. det är synd att regeringen inte ser den potential idrottsrörelsen \\\n",
    "har i att få äldre i rörelse och möjligheten att få känna gemenskap och glädje i en förening.i och med beskedet \\\n",
    "kommer riksidrottsförbundet tillsammans med seniorförbunden se över hur vi ska agera när satsningen tas bortsäger \\\n",
    "björn eriksson ordförande riksidrottsförbundet och sisu idrottsutbildarna.för mer information kontaktabjörn \\\n",
    "erikssonordförande riksidrottsförbundet och sisu idrottsutbildarna070626 46 06riksidrottsförbundet rf är \\\n",
    "paraplyorganisation för hela den svenska idrottsrörelsen. rfs främsta uppgift är att stödja och företräda \\\n",
    "våra 71 medlemsförbund specialidrottsförbund \"+chr(0xA3)+\" och leda rörelsen i gemensamma frågor såväl nationellt \\\n",
    "som internationellt.\" + chr(0x201C) + \" idrottsrörelsen består av \" + chr(0xE2) + \" 20 000 idrottsföreningar ☃ och  \\\n",
    "drygt tre miljoner medlemmar.\" + chr(0x201D)\n",
    "\n",
    "text += \"See vad som är gömt i din text…\t eller ​backom﻿\""
   ]
  },
  {
   "cell_type": "code",
   "execution_count": 11,
   "metadata": {},
   "outputs": [
    {
     "data": {
      "text/plain": [
       "'inga pengar från regeringen till idrott för äldre regeringen tar bort satsningen på 20 miljoner kronor kring idrott för äldre. det meddelades idag när vårbudgeten presenterades.regeringen tar bort satsningen på 20 miljoner kronor kring idrott för äldre. det meddelade regeringen idag när vårbudgeten presenterades.jag är mycket förvånad och besviken över att regeringen väljer att plocka bort en satsning i budgeten som s hade som vallöfte säger björn eriksson ordförande riksidrottsförbundet och sisu idrottsutbildarna.riksidrottsförbundet har tidigare tillsammans med seniorförbunden lyft vikten av att bryta äldres isolering och ensamhet och vi har tillsammans sett att idrotten kan och ännu mer hade kunnat genom sina idrottsföreningar bidra med gemenskap glädje och fysisk aktivitet. det är synd att regeringen inte ser den potential idrottsrörelsen har i att få äldre i rörelse och möjligheten att få känna gemenskap och glädje i en förening.i och med beskedet kommer riksidrottsförbundet tillsammans med seniorförbunden se över hur vi ska agera när satsningen tas bortsäger björn eriksson ordförande riksidrottsförbundet och sisu idrottsutbildarna.för mer information kontaktabjörn erikssonordförande riksidrottsförbundet och sisu idrottsutbildarna070626 46 06riksidrottsförbundet rf är paraplyorganisation för hela den svenska idrottsrörelsen. rfs främsta uppgift är att stödja och företräda våra 71 medlemsförbund specialidrottsförbund £ och leda rörelsen i gemensamma frågor såväl nationellt som internationellt.“ idrottsrörelsen består av â 20 000 idrottsföreningar ☃ och  drygt tre miljoner medlemmar.”See\\xa0vad som är gömt i din text…\\t eller \\u200bbackom\\ufeff'"
      ]
     },
     "execution_count": 11,
     "metadata": {},
     "output_type": "execute_result"
    }
   ],
   "source": [
    "text\n"
   ]
  },
  {
   "cell_type": "code",
   "execution_count": 12,
   "metadata": {},
   "outputs": [],
   "source": [
    "remove = string.punctuation # .append(ch(8220)).append(ch(8221))\n",
    "# remove += chr(0x201D)\n",
    "# remove += chr(0x201C)\n",
    "remove = remove.replace(\".\", \"\")\n",
    "\n",
    "def clearText(text):\n",
    "    # Remove multi-line\n",
    "    print(\"Removing multi line.\")\n",
    "    linetext = text.replace('\\n', ' ').replace('\\r', '').replace('\\t', '')\n",
    "    \n",
    "    # Remove _ and multi-space\n",
    "    print(\"Removing multi space.\")\n",
    "    spacedtext = re.sub(' +', ' ', re.sub('_*', '',linetext))\n",
    "    \n",
    "    # remove html tags\n",
    "    print('Removing HTML.')\n",
    "    htmlfreetext = BeautifulSoup(spacedtext, \"lxml\").text\n",
    "    \n",
    "    # Remove punctuations except . (fullstop)\n",
    "    print('Removing: ', remove)\n",
    "    puncfreetext = htmlfreetext.translate(str.maketrans('', '', remove))\n",
    "    \n",
    "    # Remove Unicode charecter (utf-8 -> ascii -> utf-8 )\n",
    "    # unicodefreetext = (puncfreetext.encode('ascii', 'ignore')).decode(\"utf-8\")\n",
    "    \n",
    "    # loweredtext = puncfreetext.lower().strip()\n",
    "    return puncfreetext\n"
   ]
  },
  {
   "cell_type": "code",
   "execution_count": 13,
   "metadata": {},
   "outputs": [
    {
     "name": "stdout",
     "output_type": "stream",
     "text": [
      "Removing multi line.\n",
      "Removing multi space.\n",
      "Removing HTML.\n",
      "Removing:  !\"#$%&'()*+,-/:;<=>?@[\\]^_`{|}~\n"
     ]
    }
   ],
   "source": [
    "puncfreeText = clearText(text)"
   ]
  },
  {
   "cell_type": "code",
   "execution_count": 14,
   "metadata": {},
   "outputs": [
    {
     "data": {
      "text/plain": [
       "'inga pengar från regeringen till idrott för äldre regeringen tar bort satsningen på 20 miljoner kronor kring idrott för äldre. det meddelades idag när vårbudgeten presenterades.regeringen tar bort satsningen på 20 miljoner kronor kring idrott för äldre. det meddelade regeringen idag när vårbudgeten presenterades.jag är mycket förvånad och besviken över att regeringen väljer att plocka bort en satsning i budgeten som s hade som vallöfte säger björn eriksson ordförande riksidrottsförbundet och sisu idrottsutbildarna.riksidrottsförbundet har tidigare tillsammans med seniorförbunden lyft vikten av att bryta äldres isolering och ensamhet och vi har tillsammans sett att idrotten kan och ännu mer hade kunnat genom sina idrottsföreningar bidra med gemenskap glädje och fysisk aktivitet. det är synd att regeringen inte ser den potential idrottsrörelsen har i att få äldre i rörelse och möjligheten att få känna gemenskap och glädje i en förening.i och med beskedet kommer riksidrottsförbundet tillsammans med seniorförbunden se över hur vi ska agera när satsningen tas bortsäger björn eriksson ordförande riksidrottsförbundet och sisu idrottsutbildarna.för mer information kontaktabjörn erikssonordförande riksidrottsförbundet och sisu idrottsutbildarna070626 46 06riksidrottsförbundet rf är paraplyorganisation för hela den svenska idrottsrörelsen. rfs främsta uppgift är att stödja och företräda våra 71 medlemsförbund specialidrottsförbund £ och leda rörelsen i gemensamma frågor såväl nationellt som internationellt.“ idrottsrörelsen består av â 20 000 idrottsföreningar ☃ och drygt tre miljoner medlemmar.”See\\xa0vad som är gömt i din text… eller \\u200bbackom\\ufeff'"
      ]
     },
     "execution_count": 14,
     "metadata": {},
     "output_type": "execute_result"
    }
   ],
   "source": [
    "puncfreeText"
   ]
  },
  {
   "cell_type": "code",
   "execution_count": 15,
   "metadata": {},
   "outputs": [
    {
     "data": {
      "text/plain": [
       "b'inga pengar fr\\\\N{LATIN SMALL LETTER A WITH RING ABOVE}n regeringen till idrott f\\\\N{LATIN SMALL LETTER O WITH DIAERESIS}r \\\\N{LATIN SMALL LETTER A WITH DIAERESIS}ldre regeringen tar bort satsningen p\\\\N{LATIN SMALL LETTER A WITH RING ABOVE} 20 miljoner kronor kring idrott f\\\\N{LATIN SMALL LETTER O WITH DIAERESIS}r \\\\N{LATIN SMALL LETTER A WITH DIAERESIS}ldre. det meddelades idag n\\\\N{LATIN SMALL LETTER A WITH DIAERESIS}r v\\\\N{LATIN SMALL LETTER A WITH RING ABOVE}rbudgeten presenterades.regeringen tar bort satsningen p\\\\N{LATIN SMALL LETTER A WITH RING ABOVE} 20 miljoner kronor kring idrott f\\\\N{LATIN SMALL LETTER O WITH DIAERESIS}r \\\\N{LATIN SMALL LETTER A WITH DIAERESIS}ldre. det meddelade regeringen idag n\\\\N{LATIN SMALL LETTER A WITH DIAERESIS}r v\\\\N{LATIN SMALL LETTER A WITH RING ABOVE}rbudgeten presenterades.jag \\\\N{LATIN SMALL LETTER A WITH DIAERESIS}r mycket f\\\\N{LATIN SMALL LETTER O WITH DIAERESIS}rv\\\\N{LATIN SMALL LETTER A WITH RING ABOVE}nad och besviken \\\\N{LATIN SMALL LETTER O WITH DIAERESIS}ver att regeringen v\\\\N{LATIN SMALL LETTER A WITH DIAERESIS}ljer att plocka bort en satsning i budgeten som s hade som vall\\\\N{LATIN SMALL LETTER O WITH DIAERESIS}fte s\\\\N{LATIN SMALL LETTER A WITH DIAERESIS}ger bj\\\\N{LATIN SMALL LETTER O WITH DIAERESIS}rn eriksson ordf\\\\N{LATIN SMALL LETTER O WITH DIAERESIS}rande riksidrottsf\\\\N{LATIN SMALL LETTER O WITH DIAERESIS}rbundet och sisu idrottsutbildarna.riksidrottsf\\\\N{LATIN SMALL LETTER O WITH DIAERESIS}rbundet har tidigare tillsammans med seniorf\\\\N{LATIN SMALL LETTER O WITH DIAERESIS}rbunden lyft vikten av att bryta \\\\N{LATIN SMALL LETTER A WITH DIAERESIS}ldres isolering och ensamhet och vi har tillsammans sett att idrotten kan och \\\\N{LATIN SMALL LETTER A WITH DIAERESIS}nnu mer hade kunnat genom sina idrottsf\\\\N{LATIN SMALL LETTER O WITH DIAERESIS}reningar bidra med gemenskap gl\\\\N{LATIN SMALL LETTER A WITH DIAERESIS}dje och fysisk aktivitet. det \\\\N{LATIN SMALL LETTER A WITH DIAERESIS}r synd att regeringen inte ser den potential idrottsr\\\\N{LATIN SMALL LETTER O WITH DIAERESIS}relsen har i att f\\\\N{LATIN SMALL LETTER A WITH RING ABOVE} \\\\N{LATIN SMALL LETTER A WITH DIAERESIS}ldre i r\\\\N{LATIN SMALL LETTER O WITH DIAERESIS}relse och m\\\\N{LATIN SMALL LETTER O WITH DIAERESIS}jligheten att f\\\\N{LATIN SMALL LETTER A WITH RING ABOVE} k\\\\N{LATIN SMALL LETTER A WITH DIAERESIS}nna gemenskap och gl\\\\N{LATIN SMALL LETTER A WITH DIAERESIS}dje i en f\\\\N{LATIN SMALL LETTER O WITH DIAERESIS}rening.i och med beskedet kommer riksidrottsf\\\\N{LATIN SMALL LETTER O WITH DIAERESIS}rbundet tillsammans med seniorf\\\\N{LATIN SMALL LETTER O WITH DIAERESIS}rbunden se \\\\N{LATIN SMALL LETTER O WITH DIAERESIS}ver hur vi ska agera n\\\\N{LATIN SMALL LETTER A WITH DIAERESIS}r satsningen tas borts\\\\N{LATIN SMALL LETTER A WITH DIAERESIS}ger bj\\\\N{LATIN SMALL LETTER O WITH DIAERESIS}rn eriksson ordf\\\\N{LATIN SMALL LETTER O WITH DIAERESIS}rande riksidrottsf\\\\N{LATIN SMALL LETTER O WITH DIAERESIS}rbundet och sisu idrottsutbildarna.f\\\\N{LATIN SMALL LETTER O WITH DIAERESIS}r mer information kontaktabj\\\\N{LATIN SMALL LETTER O WITH DIAERESIS}rn erikssonordf\\\\N{LATIN SMALL LETTER O WITH DIAERESIS}rande riksidrottsf\\\\N{LATIN SMALL LETTER O WITH DIAERESIS}rbundet och sisu idrottsutbildarna070626 46 06riksidrottsf\\\\N{LATIN SMALL LETTER O WITH DIAERESIS}rbundet rf \\\\N{LATIN SMALL LETTER A WITH DIAERESIS}r paraplyorganisation f\\\\N{LATIN SMALL LETTER O WITH DIAERESIS}r hela den svenska idrottsr\\\\N{LATIN SMALL LETTER O WITH DIAERESIS}relsen. rfs fr\\\\N{LATIN SMALL LETTER A WITH DIAERESIS}msta uppgift \\\\N{LATIN SMALL LETTER A WITH DIAERESIS}r att st\\\\N{LATIN SMALL LETTER O WITH DIAERESIS}dja och f\\\\N{LATIN SMALL LETTER O WITH DIAERESIS}retr\\\\N{LATIN SMALL LETTER A WITH DIAERESIS}da v\\\\N{LATIN SMALL LETTER A WITH RING ABOVE}ra 71 medlemsf\\\\N{LATIN SMALL LETTER O WITH DIAERESIS}rbund specialidrottsf\\\\N{LATIN SMALL LETTER O WITH DIAERESIS}rbund \\\\N{POUND SIGN} och leda r\\\\N{LATIN SMALL LETTER O WITH DIAERESIS}relsen i gemensamma fr\\\\N{LATIN SMALL LETTER A WITH RING ABOVE}gor s\\\\N{LATIN SMALL LETTER A WITH RING ABOVE}v\\\\N{LATIN SMALL LETTER A WITH DIAERESIS}l nationellt som internationellt.\\\\N{LEFT DOUBLE QUOTATION MARK} idrottsr\\\\N{LATIN SMALL LETTER O WITH DIAERESIS}relsen best\\\\N{LATIN SMALL LETTER A WITH RING ABOVE}r av \\\\N{LATIN SMALL LETTER A WITH CIRCUMFLEX} 20 000 idrottsf\\\\N{LATIN SMALL LETTER O WITH DIAERESIS}reningar \\\\N{SNOWMAN} och drygt tre miljoner medlemmar.\\\\N{RIGHT DOUBLE QUOTATION MARK}See\\\\N{NO-BREAK SPACE}vad som \\\\N{LATIN SMALL LETTER A WITH DIAERESIS}r g\\\\N{LATIN SMALL LETTER O WITH DIAERESIS}mt i din text\\\\N{HORIZONTAL ELLIPSIS} eller \\\\N{ZERO WIDTH SPACE}backom\\\\N{ZERO WIDTH NO-BREAK SPACE}'"
      ]
     },
     "execution_count": 15,
     "metadata": {},
     "output_type": "execute_result"
    }
   ],
   "source": [
    "ascii_text = puncfreeText.encode('ascii', 'namereplace')\n",
    "ascii_text"
   ]
  },
  {
   "cell_type": "code",
   "execution_count": 16,
   "metadata": {},
   "outputs": [
    {
     "data": {
      "text/plain": [
       "'inga pengar fr\\\\N{LATIN SMALL LETTER A WITH RING ABOVE}n regeringen till idrott f\\\\N{LATIN SMALL LETTER O WITH DIAERESIS}r \\\\N{LATIN SMALL LETTER A WITH DIAERESIS}ldre regeringen tar bort satsningen p\\\\N{LATIN SMALL LETTER A WITH RING ABOVE} 20 miljoner kronor kring idrott f\\\\N{LATIN SMALL LETTER O WITH DIAERESIS}r \\\\N{LATIN SMALL LETTER A WITH DIAERESIS}ldre. det meddelades idag n\\\\N{LATIN SMALL LETTER A WITH DIAERESIS}r v\\\\N{LATIN SMALL LETTER A WITH RING ABOVE}rbudgeten presenterades.regeringen tar bort satsningen p\\\\N{LATIN SMALL LETTER A WITH RING ABOVE} 20 miljoner kronor kring idrott f\\\\N{LATIN SMALL LETTER O WITH DIAERESIS}r \\\\N{LATIN SMALL LETTER A WITH DIAERESIS}ldre. det meddelade regeringen idag n\\\\N{LATIN SMALL LETTER A WITH DIAERESIS}r v\\\\N{LATIN SMALL LETTER A WITH RING ABOVE}rbudgeten presenterades.jag \\\\N{LATIN SMALL LETTER A WITH DIAERESIS}r mycket f\\\\N{LATIN SMALL LETTER O WITH DIAERESIS}rv\\\\N{LATIN SMALL LETTER A WITH RING ABOVE}nad och besviken \\\\N{LATIN SMALL LETTER O WITH DIAERESIS}ver att regeringen v\\\\N{LATIN SMALL LETTER A WITH DIAERESIS}ljer att plocka bort en satsning i budgeten som s hade som vall\\\\N{LATIN SMALL LETTER O WITH DIAERESIS}fte s\\\\N{LATIN SMALL LETTER A WITH DIAERESIS}ger bj\\\\N{LATIN SMALL LETTER O WITH DIAERESIS}rn eriksson ordf\\\\N{LATIN SMALL LETTER O WITH DIAERESIS}rande riksidrottsf\\\\N{LATIN SMALL LETTER O WITH DIAERESIS}rbundet och sisu idrottsutbildarna.riksidrottsf\\\\N{LATIN SMALL LETTER O WITH DIAERESIS}rbundet har tidigare tillsammans med seniorf\\\\N{LATIN SMALL LETTER O WITH DIAERESIS}rbunden lyft vikten av att bryta \\\\N{LATIN SMALL LETTER A WITH DIAERESIS}ldres isolering och ensamhet och vi har tillsammans sett att idrotten kan och \\\\N{LATIN SMALL LETTER A WITH DIAERESIS}nnu mer hade kunnat genom sina idrottsf\\\\N{LATIN SMALL LETTER O WITH DIAERESIS}reningar bidra med gemenskap gl\\\\N{LATIN SMALL LETTER A WITH DIAERESIS}dje och fysisk aktivitet. det \\\\N{LATIN SMALL LETTER A WITH DIAERESIS}r synd att regeringen inte ser den potential idrottsr\\\\N{LATIN SMALL LETTER O WITH DIAERESIS}relsen har i att f\\\\N{LATIN SMALL LETTER A WITH RING ABOVE} \\\\N{LATIN SMALL LETTER A WITH DIAERESIS}ldre i r\\\\N{LATIN SMALL LETTER O WITH DIAERESIS}relse och m\\\\N{LATIN SMALL LETTER O WITH DIAERESIS}jligheten att f\\\\N{LATIN SMALL LETTER A WITH RING ABOVE} k\\\\N{LATIN SMALL LETTER A WITH DIAERESIS}nna gemenskap och gl\\\\N{LATIN SMALL LETTER A WITH DIAERESIS}dje i en f\\\\N{LATIN SMALL LETTER O WITH DIAERESIS}rening.i och med beskedet kommer riksidrottsf\\\\N{LATIN SMALL LETTER O WITH DIAERESIS}rbundet tillsammans med seniorf\\\\N{LATIN SMALL LETTER O WITH DIAERESIS}rbunden se \\\\N{LATIN SMALL LETTER O WITH DIAERESIS}ver hur vi ska agera n\\\\N{LATIN SMALL LETTER A WITH DIAERESIS}r satsningen tas borts\\\\N{LATIN SMALL LETTER A WITH DIAERESIS}ger bj\\\\N{LATIN SMALL LETTER O WITH DIAERESIS}rn eriksson ordf\\\\N{LATIN SMALL LETTER O WITH DIAERESIS}rande riksidrottsf\\\\N{LATIN SMALL LETTER O WITH DIAERESIS}rbundet och sisu idrottsutbildarna.f\\\\N{LATIN SMALL LETTER O WITH DIAERESIS}r mer information kontaktabj\\\\N{LATIN SMALL LETTER O WITH DIAERESIS}rn erikssonordf\\\\N{LATIN SMALL LETTER O WITH DIAERESIS}rande riksidrottsf\\\\N{LATIN SMALL LETTER O WITH DIAERESIS}rbundet och sisu idrottsutbildarna070626 46 06riksidrottsf\\\\N{LATIN SMALL LETTER O WITH DIAERESIS}rbundet rf \\\\N{LATIN SMALL LETTER A WITH DIAERESIS}r paraplyorganisation f\\\\N{LATIN SMALL LETTER O WITH DIAERESIS}r hela den svenska idrottsr\\\\N{LATIN SMALL LETTER O WITH DIAERESIS}relsen. rfs fr\\\\N{LATIN SMALL LETTER A WITH DIAERESIS}msta uppgift \\\\N{LATIN SMALL LETTER A WITH DIAERESIS}r att st\\\\N{LATIN SMALL LETTER O WITH DIAERESIS}dja och f\\\\N{LATIN SMALL LETTER O WITH DIAERESIS}retr\\\\N{LATIN SMALL LETTER A WITH DIAERESIS}da v\\\\N{LATIN SMALL LETTER A WITH RING ABOVE}ra 71 medlemsf\\\\N{LATIN SMALL LETTER O WITH DIAERESIS}rbund specialidrottsf\\\\N{LATIN SMALL LETTER O WITH DIAERESIS}rbund \\\\N{POUND SIGN} och leda r\\\\N{LATIN SMALL LETTER O WITH DIAERESIS}relsen i gemensamma fr\\\\N{LATIN SMALL LETTER A WITH RING ABOVE}gor s\\\\N{LATIN SMALL LETTER A WITH RING ABOVE}v\\\\N{LATIN SMALL LETTER A WITH DIAERESIS}l nationellt som internationellt.\\\\N{LEFT DOUBLE QUOTATION MARK} idrottsr\\\\N{LATIN SMALL LETTER O WITH DIAERESIS}relsen best\\\\N{LATIN SMALL LETTER A WITH RING ABOVE}r av \\\\N{LATIN SMALL LETTER A WITH CIRCUMFLEX} 20 000 idrottsf\\\\N{LATIN SMALL LETTER O WITH DIAERESIS}reningar \\\\N{SNOWMAN} och drygt tre miljoner medlemmar.\\\\N{RIGHT DOUBLE QUOTATION MARK}See\\\\N{NO-BREAK SPACE}vad som \\\\N{LATIN SMALL LETTER A WITH DIAERESIS}r g\\\\N{LATIN SMALL LETTER O WITH DIAERESIS}mt i din text\\\\N{HORIZONTAL ELLIPSIS} eller \\\\N{ZERO WIDTH SPACE}backom\\\\N{ZERO WIDTH NO-BREAK SPACE}'"
      ]
     },
     "execution_count": 16,
     "metadata": {},
     "output_type": "execute_result"
    }
   ],
   "source": [
    "utf_text = ascii_text.decode('utf-8')\n",
    "utf_text"
   ]
  },
  {
   "cell_type": "code",
   "execution_count": 17,
   "metadata": {},
   "outputs": [
    {
     "data": {
      "text/plain": [
       "'inga pengar från regeringen till idrott för äldre regeringen tar bort satsningen på 20 miljoner kronor kring idrott för äldre. det meddelades idag när vårbudgeten presenterades.regeringen tar bort satsningen på 20 miljoner kronor kring idrott för äldre. det meddelade regeringen idag när vårbudgeten presenterades.jag är mycket förvånad och besviken över att regeringen väljer att plocka bort en satsning i budgeten som s hade som vallöfte säger björn eriksson ordförande riksidrottsförbundet och sisu idrottsutbildarna.riksidrottsförbundet har tidigare tillsammans med seniorförbunden lyft vikten av att bryta äldres isolering och ensamhet och vi har tillsammans sett att idrotten kan och ännu mer hade kunnat genom sina idrottsföreningar bidra med gemenskap glädje och fysisk aktivitet. det är synd att regeringen inte ser den potential idrottsrörelsen har i att få äldre i rörelse och möjligheten att få känna gemenskap och glädje i en förening.i och med beskedet kommer riksidrottsförbundet tillsammans med seniorförbunden se över hur vi ska agera när satsningen tas bortsäger björn eriksson ordförande riksidrottsförbundet och sisu idrottsutbildarna.för mer information kontaktabjörn erikssonordförande riksidrottsförbundet och sisu idrottsutbildarna070626 46 06riksidrottsförbundet rf är paraplyorganisation för hela den svenska idrottsrörelsen. rfs främsta uppgift är att stödja och företräda våra 71 medlemsförbund specialidrottsförbund \\\\N{POUND SIGN} och leda rörelsen i gemensamma frågor såväl nationellt som internationellt.\\\\N{LEFT DOUBLE QUOTATION MARK} idrottsrörelsen består av \\\\N{LATIN SMALL LETTER A WITH CIRCUMFLEX} 20 000 idrottsföreningar \\\\N{SNOWMAN} och drygt tre miljoner medlemmar.\\\\N{RIGHT DOUBLE QUOTATION MARK}See\\\\N{NO-BREAK SPACE}vad som är gömt i din text\\\\N{HORIZONTAL ELLIPSIS} eller \\\\N{ZERO WIDTH SPACE}backom\\\\N{ZERO WIDTH NO-BREAK SPACE}'"
      ]
     },
     "execution_count": 17,
     "metadata": {},
     "output_type": "execute_result"
    }
   ],
   "source": [
    "sv_text = utf_text.replace(\"å\".encode('ascii', 'namereplace').decode('utf-8'),\"å\") \\\n",
    "                            .replace(\"ä\".encode('ascii', 'namereplace').decode('utf-8'),\"ä\") \\\n",
    "                            .replace(\"ö\".encode('ascii', 'namereplace').decode('utf-8'),\"ö\") \\\n",
    "                            .replace(\"Å\".encode('ascii', 'namereplace').decode('utf-8'),\"Å\") \\\n",
    "                            .replace(\"Ä\".encode('ascii', 'namereplace').decode('utf-8'),\"Ä\") \\\n",
    "                            .replace(\"Ö\".encode('ascii', 'namereplace').decode('utf-8'),\"Ö\")\n",
    "sv_text"
   ]
  },
  {
   "cell_type": "code",
   "execution_count": 117,
   "metadata": {},
   "outputs": [
    {
     "data": {
      "text/plain": [
       "'inga pengar från regeringen till idrott för äldre regeringen tar bort satsningen på 20 miljoner kronor kring idrott för äldre. det meddelades idag när vårbudgeten presenterades.regeringen tar bort satsningen på 20 miljoner kronor kring idrott för äldre. det meddelade regeringen idag när vårbudgeten presenterades.jag är mycket förvånad och besviken över att regeringen väljer att plocka bort en satsning i budgeten som s hade som vallöfte säger björn eriksson ordförande riksidrottsförbundet och sisu idrottsutbildarna.riksidrottsförbundet har tidigare tillsammans med seniorförbunden lyft vikten av att bryta äldres isolering och ensamhet och vi har tillsammans sett att idrotten kan och ännu mer hade kunnat genom sina idrottsföreningar bidra med gemenskap glädje och fysisk aktivitet. det är synd att regeringen inte ser den potential idrottsrörelsen har i att få äldre i rörelse och möjligheten att få känna gemenskap och glädje i en förening.i och med beskedet kommer riksidrottsförbundet tillsammans med seniorförbunden se över hur vi ska agera när satsningen tas bortsäger björn eriksson ordförande riksidrottsförbundet och sisu idrottsutbildarna.för mer information kontaktabjörn erikssonordförande riksidrottsförbundet och sisu idrottsutbildarna070626 46 06riksidrottsförbundet rf är paraplyorganisation för hela den svenska idrottsrörelsen. rfs främsta uppgift är att stödja och företräda våra 71 medlemsförbund specialidrottsförbund  och leda rörelsen i gemensamma frågor såväl nationellt som internationellt. idrottsrörelsen består av  20 000 idrottsföreningar  och drygt tre miljoner medlemmar.Seevad som är gömt i din text eller backom'"
      ]
     },
     "execution_count": 117,
     "metadata": {},
     "output_type": "execute_result"
    }
   ],
   "source": [
    "clean_sv_text = re.compile('\\\\\\\\N\\{(.*?)\\}').sub('', sv_text)\n",
    "clean_sv_text"
   ]
  },
  {
   "cell_type": "code",
   "execution_count": null,
   "metadata": {},
   "outputs": [],
   "source": []
  },
  {
   "cell_type": "code",
   "execution_count": null,
   "metadata": {},
   "outputs": [],
   "source": []
  },
  {
   "cell_type": "code",
   "execution_count": null,
   "metadata": {},
   "outputs": [],
   "source": []
  }
 ],
 "metadata": {
  "kernelspec": {
   "display_name": "Python 3",
   "language": "python",
   "name": "python3"
  },
  "language_info": {
   "codemirror_mode": {
    "name": "ipython",
    "version": 3
   },
   "file_extension": ".py",
   "mimetype": "text/x-python",
   "name": "python",
   "nbconvert_exporter": "python",
   "pygments_lexer": "ipython3",
   "version": "3.7.5"
  }
 },
 "nbformat": 4,
 "nbformat_minor": 2
}

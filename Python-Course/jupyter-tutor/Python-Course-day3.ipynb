{
 "cells": [
  {
   "cell_type": "code",
   "execution_count": 1,
   "metadata": {},
   "outputs": [
    {
     "data": {
      "text/plain": [
       "<slot wrapper '__str__' of 'object' objects>"
      ]
     },
     "execution_count": 1,
     "metadata": {},
     "output_type": "execute_result"
    }
   ],
   "source": [
    "object.__str__"
   ]
  },
  {
   "cell_type": "code",
   "execution_count": 2,
   "metadata": {},
   "outputs": [
    {
     "data": {
      "text/plain": [
       "['__class__',\n",
       " '__delattr__',\n",
       " '__dir__',\n",
       " '__doc__',\n",
       " '__eq__',\n",
       " '__format__',\n",
       " '__ge__',\n",
       " '__getattribute__',\n",
       " '__gt__',\n",
       " '__hash__',\n",
       " '__init__',\n",
       " '__init_subclass__',\n",
       " '__le__',\n",
       " '__lt__',\n",
       " '__ne__',\n",
       " '__new__',\n",
       " '__reduce__',\n",
       " '__reduce_ex__',\n",
       " '__repr__',\n",
       " '__setattr__',\n",
       " '__sizeof__',\n",
       " '__str__',\n",
       " '__subclasshook__']"
      ]
     },
     "execution_count": 2,
     "metadata": {},
     "output_type": "execute_result"
    }
   ],
   "source": [
    "dir(object)"
   ]
  },
  {
   "cell_type": "code",
   "execution_count": 5,
   "metadata": {},
   "outputs": [
    {
     "name": "stdout",
     "output_type": "stream",
     "text": [
      "1\n",
      "2\n",
      "3\n"
     ]
    }
   ],
   "source": [
    "class Rhyme:\n",
    "    def __iter__(self):\n",
    "        return [1,2,3].__iter__()\n",
    "    \n",
    "ry = Rhyme()\n",
    "for line in ry:\n",
    "    print (line)\n",
    "    \n",
    "    "
   ]
  },
  {
   "cell_type": "code",
   "execution_count": 7,
   "metadata": {},
   "outputs": [
    {
     "name": "stdout",
     "output_type": "stream",
     "text": [
      "H\n",
      "e\n",
      "l\n",
      "l\n",
      "o\n",
      "Hello\n"
     ]
    }
   ],
   "source": [
    "# Confusingn situation to be carefull with\n",
    "touple = (\"Hello\")\n",
    "for l in touple:\n",
    "    print (l)\n",
    "\n",
    "touple2 = (\"Hello\",)\n",
    "for w in touple2:\n",
    "    print (w)\n",
    "           \n",
    "          "
   ]
  },
  {
   "cell_type": "code",
   "execution_count": 8,
   "metadata": {},
   "outputs": [
    {
     "ename": "MyException",
     "evalue": "My mesage",
     "output_type": "error",
     "traceback": [
      "\u001b[0;31m---------------------------------------------------------------------------\u001b[0m",
      "\u001b[0;31mMyException\u001b[0m                               Traceback (most recent call last)",
      "\u001b[0;32m<ipython-input-8-3dd893d0289d>\u001b[0m in \u001b[0;36m<module>\u001b[0;34m()\u001b[0m\n\u001b[1;32m      2\u001b[0m     \u001b[0;32mpass\u001b[0m\u001b[0;34m\u001b[0m\u001b[0m\n\u001b[1;32m      3\u001b[0m \u001b[0;34m\u001b[0m\u001b[0m\n\u001b[0;32m----> 4\u001b[0;31m \u001b[0;32mraise\u001b[0m \u001b[0mMyException\u001b[0m\u001b[0;34m(\u001b[0m\u001b[0;34m\"My mesage\"\u001b[0m\u001b[0;34m)\u001b[0m\u001b[0;34m\u001b[0m\u001b[0m\n\u001b[0m",
      "\u001b[0;31mMyException\u001b[0m: My mesage"
     ]
    }
   ],
   "source": [
    "class MyException(Exception):\n",
    "    pass\n",
    "\n",
    "raise MyException(\"My mesage\")"
   ]
  },
  {
   "cell_type": "code",
   "execution_count": 19,
   "metadata": {},
   "outputs": [
    {
     "name": "stdout",
     "output_type": "stream",
     "text": [
      "Not found\n"
     ]
    },
    {
     "data": {
      "text/plain": [
       "['me']"
      ]
     },
     "execution_count": 19,
     "metadata": {},
     "output_type": "execute_result"
    }
   ],
   "source": [
    "import re\n",
    "#reg = re.compile(\"me\")\n",
    "reg = re.compile(r\"\\bme\\b\")\n",
    "if(reg.search(\"me a fool meami\") ==None):\n",
    "    print (\"Not found\")\n",
    "else:\n",
    "    print (\"Found\")\n",
    "\n",
    "reg.findall(\"me a fool meami\")\n",
    "\n"
   ]
  },
  {
   "cell_type": "code",
   "execution_count": 42,
   "metadata": {},
   "outputs": [
    {
     "name": "stdout",
     "output_type": "stream",
     "text": [
      "> <ipython-input-42-70c998376420>(9)<module>()\n",
      "-> strVal = strVal.replace(l,\"\")\n",
      "(Pdb) s\n",
      "> <ipython-input-42-70c998376420>(7)<module>()\n",
      "-> for l in ls:\n",
      "(Pdb) s\n",
      "> <ipython-input-42-70c998376420>(8)<module>()\n",
      "-> pdb.set_trace()\n",
      "(Pdb) s\n",
      "--Call--\n",
      "> /opt/conda/lib/python3.6/pdb.py(1584)set_trace()\n",
      "-> def set_trace():\n",
      "(Pdb) s\n",
      "> /opt/conda/lib/python3.6/pdb.py(1585)set_trace()\n",
      "-> Pdb().set_trace(sys._getframe().f_back)\n",
      "(Pdb) up\n",
      "> <ipython-input-42-70c998376420>(8)<module>()\n",
      "-> pdb.set_trace()\n",
      "(Pdb) s\n",
      "--Call--\n",
      "> /opt/conda/lib/python3.6/pdb.py(140)__init__()\n",
      "-> def __init__(self, completekey='tab', stdin=None, stdout=None, skip=None,\n",
      "(Pdb) s\n",
      "> /opt/conda/lib/python3.6/pdb.py(142)__init__()\n",
      "-> bdb.Bdb.__init__(self, skip=skip)\n",
      "(Pdb) s\n",
      "--Call--\n",
      "> /opt/conda/lib/python3.6/bdb.py(22)__init__()\n",
      "-> def __init__(self, skip=None):\n",
      "(Pdb) s\n",
      "> /opt/conda/lib/python3.6/bdb.py(23)__init__()\n",
      "-> self.skip = set(skip) if skip else None\n",
      "(Pdb) s\n",
      "> /opt/conda/lib/python3.6/bdb.py(24)__init__()\n",
      "-> self.breaks = {}\n",
      "(Pdb) up\n",
      "> /opt/conda/lib/python3.6/pdb.py(142)__init__()\n",
      "-> bdb.Bdb.__init__(self, skip=skip)\n",
      "(Pdb) s\n",
      "> /opt/conda/lib/python3.6/bdb.py(25)__init__()\n",
      "-> self.fncache = {}\n",
      "(Pdb) up\n",
      "> /opt/conda/lib/python3.6/pdb.py(142)__init__()\n",
      "-> bdb.Bdb.__init__(self, skip=skip)\n",
      "(Pdb) s\n",
      "> /opt/conda/lib/python3.6/bdb.py(26)__init__()\n",
      "-> self.frame_returning = None\n",
      "(Pdb) s\n",
      "--Return--\n",
      "> /opt/conda/lib/python3.6/bdb.py(26)__init__()->None\n",
      "-> self.frame_returning = None\n",
      "(Pdb) s\n",
      "> /opt/conda/lib/python3.6/pdb.py(143)__init__()\n",
      "-> cmd.Cmd.__init__(self, completekey, stdin, stdout)\n",
      "(Pdb) s\n",
      "--Call--\n",
      "> /opt/conda/lib/python3.6/cmd.py(76)__init__()\n",
      "-> def __init__(self, completekey='tab', stdin=None, stdout=None):\n",
      "(Pdb) s\n",
      "> /opt/conda/lib/python3.6/cmd.py(87)__init__()\n",
      "-> if stdin is not None:\n",
      "(Pdb) up\n",
      "> /opt/conda/lib/python3.6/pdb.py(143)__init__()\n",
      "-> cmd.Cmd.__init__(self, completekey, stdin, stdout)\n",
      "(Pdb) up\n",
      "> /opt/conda/lib/python3.6/pdb.py(1585)set_trace()\n",
      "-> Pdb().set_trace(sys._getframe().f_back)\n",
      "(Pdb) up\n",
      "> <ipython-input-42-70c998376420>(8)<module>()\n",
      "-> pdb.set_trace()\n",
      "(Pdb) up\n",
      "> /opt/conda/lib/python3.6/site-packages/IPython/core/interactiveshell.py(2862)run_code()\n",
      "-> exec(code_obj, self.user_global_ns, self.user_ns)\n",
      "(Pdb) up\n",
      "> /opt/conda/lib/python3.6/site-packages/IPython/core/interactiveshell.py(2802)run_ast_nodes()\n",
      "-> if self.run_code(code, result):\n",
      "(Pdb) up\n",
      "> /opt/conda/lib/python3.6/site-packages/IPython/core/interactiveshell.py(2698)run_cell()\n",
      "-> interactivity=interactivity, compiler=compiler, result=result)\n",
      "(Pdb) up\n",
      "> /opt/conda/lib/python3.6/site-packages/ipykernel/zmqshell.py(533)run_cell()\n",
      "-> return super(ZMQInteractiveShell, self).run_cell(*args, **kwargs)\n",
      "(Pdb) u\n",
      "> /opt/conda/lib/python3.6/site-packages/ipykernel/ipkernel.py(196)do_execute()\n",
      "-> res = shell.run_cell(code, store_history=store_history, silent=silent)\n",
      "(Pdb) u\n",
      "> /opt/conda/lib/python3.6/site-packages/ipykernel/kernelbase.py(399)execute_request()\n",
      "-> user_expressions, allow_stdin)\n",
      "(Pdb) up\n",
      "> /opt/conda/lib/python3.6/site-packages/ipykernel/kernelbase.py(235)dispatch_shell()\n",
      "-> handler(stream, idents, msg)\n",
      "(Pdb) up\n",
      "> /opt/conda/lib/python3.6/site-packages/ipykernel/kernelbase.py(283)dispatcher()\n",
      "-> return self.dispatch_shell(stream, msg)\n",
      "(Pdb) up\n",
      "> /opt/conda/lib/python3.6/site-packages/tornado/stack_context.py(277)null_wrapper()\n",
      "-> return fn(*args, **kwargs)\n",
      "(Pdb) up\n",
      "> /opt/conda/lib/python3.6/site-packages/zmq/eventloop/zmqstream.py(414)_run_callback()\n",
      "-> callback(*args, **kwargs)\n",
      "(Pdb) up\n",
      "> /opt/conda/lib/python3.6/site-packages/zmq/eventloop/zmqstream.py(472)_handle_recv()\n",
      "-> self._run_callback(callback, msg)\n",
      "(Pdb) u\n",
      "> /opt/conda/lib/python3.6/site-packages/zmq/eventloop/zmqstream.py(440)_handle_events()\n",
      "-> self._handle_recv()\n",
      "(Pdb) u\n",
      "> /opt/conda/lib/python3.6/site-packages/tornado/stack_context.py(277)null_wrapper()\n",
      "-> return fn(*args, **kwargs)\n",
      "(Pdb) u\n",
      "> /opt/conda/lib/python3.6/site-packages/tornado/ioloop.py(888)start()\n",
      "-> handler_func(fd_obj, events)\n",
      "(Pdb) u\n",
      "> /opt/conda/lib/python3.6/site-packages/zmq/eventloop/ioloop.py(177)start()\n",
      "-> super(ZMQIOLoop, self).start()\n",
      "(Pdb) u\n",
      "> /opt/conda/lib/python3.6/site-packages/ipykernel/kernelapp.py(477)start()\n",
      "-> ioloop.IOLoop.instance().start()\n",
      "(Pdb) u\n",
      "> /opt/conda/lib/python3.6/site-packages/traitlets/config/application.py(658)launch_instance()\n",
      "-> app.start()\n",
      "(Pdb) u\n",
      "> /opt/conda/lib/python3.6/site-packages/ipykernel_launcher.py(16)<module>()\n",
      "-> app.launch_new_instance()\n",
      "(Pdb) u\n",
      "> /opt/conda/lib/python3.6/runpy.py(85)_run_code()\n",
      "-> exec(code, run_globals)\n",
      "(Pdb) u\n",
      "> /opt/conda/lib/python3.6/runpy.py(193)_run_module_as_main()\n",
      "-> \"__main__\", mod_spec)\n",
      "(Pdb) u\n",
      "*** Oldest frame\n",
      "(Pdb) u\n",
      "*** Oldest frame\n",
      "(Pdb) u\n",
      "*** Oldest frame\n",
      "(Pdb) u\n",
      "*** Oldest frame\n",
      "(Pdb) u\n",
      "*** Oldest frame\n",
      "(Pdb) s\n",
      "> /opt/conda/lib/python3.6/cmd.py(90)__init__()\n",
      "-> self.stdin = sys.stdin\n",
      "(Pdb) s\n",
      "> /opt/conda/lib/python3.6/cmd.py(91)__init__()\n",
      "-> if stdout is not None:\n",
      "(Pdb) s\n",
      "> /opt/conda/lib/python3.6/cmd.py(94)__init__()\n",
      "-> self.stdout = sys.stdout\n",
      "(Pdb) s\n",
      "> /opt/conda/lib/python3.6/cmd.py(95)__init__()\n",
      "-> self.cmdqueue = []\n",
      "(Pdb) s\n",
      "> /opt/conda/lib/python3.6/cmd.py(96)__init__()\n",
      "-> self.completekey = completekey\n",
      "(Pdb) s\n",
      "--Return--\n",
      "> /opt/conda/lib/python3.6/cmd.py(96)__init__()->None\n",
      "-> self.completekey = completekey\n",
      "(Pdb) s\n",
      "> /opt/conda/lib/python3.6/pdb.py(144)__init__()\n",
      "-> if stdout:\n",
      "(Pdb) s\n",
      "> /opt/conda/lib/python3.6/pdb.py(146)__init__()\n",
      "-> self.prompt = '(Pdb) '\n",
      "(Pdb) s\n",
      "> /opt/conda/lib/python3.6/pdb.py(147)__init__()\n",
      "-> self.aliases = {}\n",
      "(Pdb) s\n",
      "> /opt/conda/lib/python3.6/pdb.py(148)__init__()\n",
      "-> self.displaying = {}\n",
      "(Pdb) s\n",
      "> /opt/conda/lib/python3.6/pdb.py(149)__init__()\n",
      "-> self.mainpyfile = ''\n",
      "(Pdb) s\n",
      "> /opt/conda/lib/python3.6/pdb.py(150)__init__()\n",
      "-> self._wait_for_mainpyfile = False\n",
      "(Pdb) s\n",
      "> /opt/conda/lib/python3.6/pdb.py(151)__init__()\n",
      "-> self.tb_lineno = {}\n",
      "(Pdb) s\n",
      "> /opt/conda/lib/python3.6/pdb.py(153)__init__()\n",
      "-> try:\n",
      "(Pdb) s\n",
      "> /opt/conda/lib/python3.6/pdb.py(154)__init__()\n",
      "-> import readline\n",
      "(Pdb) s\n",
      "> /opt/conda/lib/python3.6/pdb.py(156)__init__()\n",
      "-> readline.set_completer_delims(' \\t\\n`@#$%^&*()=+[{]}\\\\|;:\\'\",<>?')\n",
      "(Pdb) s\n",
      "> /opt/conda/lib/python3.6/pdb.py(159)__init__()\n",
      "-> self.allow_kbdint = False\n",
      "(Pdb) s\n",
      "> /opt/conda/lib/python3.6/pdb.py(160)__init__()\n",
      "-> self.nosigint = nosigint\n",
      "(Pdb) s\n",
      "> /opt/conda/lib/python3.6/pdb.py(163)__init__()\n",
      "-> self.rcLines = []\n",
      "(Pdb) s\n",
      "> /opt/conda/lib/python3.6/pdb.py(164)__init__()\n",
      "-> if readrc:\n",
      "(Pdb) s\n",
      "> /opt/conda/lib/python3.6/pdb.py(165)__init__()\n",
      "-> if 'HOME' in os.environ:\n",
      "(Pdb) s\n",
      "--Call--\n",
      "> /opt/conda/lib/python3.6/_collections_abc.py(664)__contains__()\n",
      "-> def __contains__(self, key):\n",
      "(Pdb) s\n",
      "> /opt/conda/lib/python3.6/_collections_abc.py(665)__contains__()\n",
      "-> try:\n",
      "(Pdb) s\n",
      "> /opt/conda/lib/python3.6/_collections_abc.py(666)__contains__()\n",
      "-> self[key]\n",
      "(Pdb) s\n",
      "--Call--\n",
      "> /opt/conda/lib/python3.6/os.py(664)__getitem__()\n",
      "-> def __getitem__(self, key):\n",
      "(Pdb) s\n",
      "> /opt/conda/lib/python3.6/os.py(665)__getitem__()\n",
      "-> try:\n",
      "(Pdb) s\n",
      "> /opt/conda/lib/python3.6/os.py(666)__getitem__()\n",
      "-> value = self._data[self.encodekey(key)]\n",
      "(Pdb) s\n",
      "--Call--\n",
      "> /opt/conda/lib/python3.6/os.py(740)encode()\n",
      "-> def encode(value):\n",
      "(Pdb) s\n",
      "> /opt/conda/lib/python3.6/os.py(741)encode()\n",
      "-> if not isinstance(value, str):\n",
      "(Pdb) s\n",
      "> /opt/conda/lib/python3.6/os.py(743)encode()\n",
      "-> return value.encode(encoding, 'surrogateescape')\n",
      "(Pdb) s\n",
      "--Return--\n",
      "> /opt/conda/lib/python3.6/os.py(743)encode()->b'HOME'\n",
      "-> return value.encode(encoding, 'surrogateescape')\n",
      "(Pdb) s\n",
      "> /opt/conda/lib/python3.6/os.py(670)__getitem__()\n",
      "-> return self.decodevalue(value)\n",
      "(Pdb) s\n",
      "--Call--\n",
      "> /opt/conda/lib/python3.6/os.py(744)decode()\n",
      "-> def decode(value):\n",
      "(Pdb) s\n",
      "> /opt/conda/lib/python3.6/os.py(745)decode()\n",
      "-> return value.decode(encoding, 'surrogateescape')\n",
      "(Pdb) s\n",
      "--Return--\n",
      "> /opt/conda/lib/python3.6/os.py(745)decode()->'/home/jovyan'\n",
      "-> return value.decode(encoding, 'surrogateescape')\n",
      "(Pdb) s\n",
      "--Return--\n",
      "> /opt/conda/lib/python3.6/os.py(670)__getitem__()->'/home/jovyan'\n",
      "-> return self.decodevalue(value)\n",
      "(Pdb) s\n",
      "> /opt/conda/lib/python3.6/_collections_abc.py(670)__contains__()\n",
      "-> return True\n",
      "(Pdb) s\n",
      "--Return--\n",
      "> /opt/conda/lib/python3.6/_collections_abc.py(670)__contains__()->True\n",
      "-> return True\n"
     ]
    },
    {
     "name": "stdout",
     "output_type": "stream",
     "text": [
      "(Pdb) s\n",
      "> /opt/conda/lib/python3.6/pdb.py(166)__init__()\n",
      "-> envHome = os.environ['HOME']\n",
      "(Pdb) s\n",
      "--Call--\n",
      "> /opt/conda/lib/python3.6/os.py(664)__getitem__()\n",
      "-> def __getitem__(self, key):\n",
      "(Pdb) s\n",
      "> /opt/conda/lib/python3.6/os.py(665)__getitem__()\n",
      "-> try:\n",
      "(Pdb) s\n",
      "> /opt/conda/lib/python3.6/os.py(666)__getitem__()\n",
      "-> value = self._data[self.encodekey(key)]\n",
      "(Pdb) s\n",
      "--Call--\n",
      "> /opt/conda/lib/python3.6/os.py(740)encode()\n",
      "-> def encode(value):\n",
      "(Pdb) s\n",
      "> /opt/conda/lib/python3.6/os.py(741)encode()\n",
      "-> if not isinstance(value, str):\n",
      "(Pdb) s\n",
      "> /opt/conda/lib/python3.6/os.py(743)encode()\n",
      "-> return value.encode(encoding, 'surrogateescape')\n",
      "(Pdb) s\n",
      "--Return--\n",
      "> /opt/conda/lib/python3.6/os.py(743)encode()->b'HOME'\n",
      "-> return value.encode(encoding, 'surrogateescape')\n",
      "(Pdb) s\n",
      "> /opt/conda/lib/python3.6/os.py(670)__getitem__()\n",
      "-> return self.decodevalue(value)\n",
      "(Pdb) s\n",
      "--Call--\n",
      "> /opt/conda/lib/python3.6/os.py(744)decode()\n",
      "-> def decode(value):\n",
      "(Pdb) s\n",
      "> /opt/conda/lib/python3.6/os.py(745)decode()\n",
      "-> return value.decode(encoding, 'surrogateescape')\n",
      "(Pdb) s\n",
      "--Return--\n",
      "> /opt/conda/lib/python3.6/os.py(745)decode()->'/home/jovyan'\n",
      "-> return value.decode(encoding, 'surrogateescape')\n",
      "(Pdb) s\n",
      "--Return--\n",
      "> /opt/conda/lib/python3.6/os.py(670)__getitem__()->'/home/jovyan'\n",
      "-> return self.decodevalue(value)\n",
      "(Pdb) q\n"
     ]
    },
    {
     "ename": "BdbQuit",
     "evalue": "",
     "output_type": "error",
     "traceback": [
      "\u001b[0;31m---------------------------------------------------------------------------\u001b[0m",
      "\u001b[0;31mBdbQuit\u001b[0m                                   Traceback (most recent call last)",
      "\u001b[0;32m<ipython-input-42-70c998376420>\u001b[0m in \u001b[0;36m<module>\u001b[0;34m()\u001b[0m\n\u001b[1;32m      6\u001b[0m \u001b[0;31m#ls\u001b[0m\u001b[0;34m\u001b[0m\u001b[0;34m\u001b[0m\u001b[0m\n\u001b[1;32m      7\u001b[0m \u001b[0;32mfor\u001b[0m \u001b[0ml\u001b[0m \u001b[0;32min\u001b[0m \u001b[0mls\u001b[0m\u001b[0;34m:\u001b[0m\u001b[0;34m\u001b[0m\u001b[0m\n\u001b[0;32m----> 8\u001b[0;31m     \u001b[0mpdb\u001b[0m\u001b[0;34m.\u001b[0m\u001b[0mset_trace\u001b[0m\u001b[0;34m(\u001b[0m\u001b[0;34m)\u001b[0m\u001b[0;34m\u001b[0m\u001b[0m\n\u001b[0m\u001b[1;32m      9\u001b[0m     \u001b[0mstrVal\u001b[0m \u001b[0;34m=\u001b[0m \u001b[0mstrVal\u001b[0m\u001b[0;34m.\u001b[0m\u001b[0mreplace\u001b[0m\u001b[0;34m(\u001b[0m\u001b[0ml\u001b[0m\u001b[0;34m,\u001b[0m\u001b[0;34m\"\"\u001b[0m\u001b[0;34m)\u001b[0m\u001b[0;34m\u001b[0m\u001b[0m\n\u001b[1;32m     10\u001b[0m \u001b[0;34m\u001b[0m\u001b[0m\n",
      "\u001b[0;32m/opt/conda/lib/python3.6/pdb.py\u001b[0m in \u001b[0;36mset_trace\u001b[0;34m()\u001b[0m\n\u001b[1;32m   1583\u001b[0m \u001b[0;34m\u001b[0m\u001b[0m\n\u001b[1;32m   1584\u001b[0m \u001b[0;32mdef\u001b[0m \u001b[0mset_trace\u001b[0m\u001b[0;34m(\u001b[0m\u001b[0;34m)\u001b[0m\u001b[0;34m:\u001b[0m\u001b[0;34m\u001b[0m\u001b[0m\n\u001b[0;32m-> 1585\u001b[0;31m     \u001b[0mPdb\u001b[0m\u001b[0;34m(\u001b[0m\u001b[0;34m)\u001b[0m\u001b[0;34m.\u001b[0m\u001b[0mset_trace\u001b[0m\u001b[0;34m(\u001b[0m\u001b[0msys\u001b[0m\u001b[0;34m.\u001b[0m\u001b[0m_getframe\u001b[0m\u001b[0;34m(\u001b[0m\u001b[0;34m)\u001b[0m\u001b[0;34m.\u001b[0m\u001b[0mf_back\u001b[0m\u001b[0;34m)\u001b[0m\u001b[0;34m\u001b[0m\u001b[0m\n\u001b[0m\u001b[1;32m   1586\u001b[0m \u001b[0;34m\u001b[0m\u001b[0m\n\u001b[1;32m   1587\u001b[0m \u001b[0;31m# Post-Mortem interface\u001b[0m\u001b[0;34m\u001b[0m\u001b[0;34m\u001b[0m\u001b[0m\n",
      "\u001b[0;32m/opt/conda/lib/python3.6/pdb.py\u001b[0m in \u001b[0;36m__init__\u001b[0;34m(self, completekey, stdin, stdout, skip, nosigint, readrc)\u001b[0m\n\u001b[1;32m    164\u001b[0m         \u001b[0;32mif\u001b[0m \u001b[0mreadrc\u001b[0m\u001b[0;34m:\u001b[0m\u001b[0;34m\u001b[0m\u001b[0m\n\u001b[1;32m    165\u001b[0m             \u001b[0;32mif\u001b[0m \u001b[0;34m'HOME'\u001b[0m \u001b[0;32min\u001b[0m \u001b[0mos\u001b[0m\u001b[0;34m.\u001b[0m\u001b[0menviron\u001b[0m\u001b[0;34m:\u001b[0m\u001b[0;34m\u001b[0m\u001b[0m\n\u001b[0;32m--> 166\u001b[0;31m                 \u001b[0menvHome\u001b[0m \u001b[0;34m=\u001b[0m \u001b[0mos\u001b[0m\u001b[0;34m.\u001b[0m\u001b[0menviron\u001b[0m\u001b[0;34m[\u001b[0m\u001b[0;34m'HOME'\u001b[0m\u001b[0;34m]\u001b[0m\u001b[0;34m\u001b[0m\u001b[0m\n\u001b[0m\u001b[1;32m    167\u001b[0m                 \u001b[0;32mtry\u001b[0m\u001b[0;34m:\u001b[0m\u001b[0;34m\u001b[0m\u001b[0m\n\u001b[1;32m    168\u001b[0m                     \u001b[0;32mwith\u001b[0m \u001b[0mopen\u001b[0m\u001b[0;34m(\u001b[0m\u001b[0mos\u001b[0m\u001b[0;34m.\u001b[0m\u001b[0mpath\u001b[0m\u001b[0;34m.\u001b[0m\u001b[0mjoin\u001b[0m\u001b[0;34m(\u001b[0m\u001b[0menvHome\u001b[0m\u001b[0;34m,\u001b[0m \u001b[0;34m\".pdbrc\"\u001b[0m\u001b[0;34m)\u001b[0m\u001b[0;34m)\u001b[0m \u001b[0;32mas\u001b[0m \u001b[0mrcFile\u001b[0m\u001b[0;34m:\u001b[0m\u001b[0;34m\u001b[0m\u001b[0m\n",
      "\u001b[0;32m/opt/conda/lib/python3.6/os.py\u001b[0m in \u001b[0;36m__getitem__\u001b[0;34m(self, key)\u001b[0m\n\u001b[1;32m    668\u001b[0m             \u001b[0;31m# raise KeyError with the original key value\u001b[0m\u001b[0;34m\u001b[0m\u001b[0;34m\u001b[0m\u001b[0m\n\u001b[1;32m    669\u001b[0m             \u001b[0;32mraise\u001b[0m \u001b[0mKeyError\u001b[0m\u001b[0;34m(\u001b[0m\u001b[0mkey\u001b[0m\u001b[0;34m)\u001b[0m \u001b[0;32mfrom\u001b[0m \u001b[0;32mNone\u001b[0m\u001b[0;34m\u001b[0m\u001b[0m\n\u001b[0;32m--> 670\u001b[0;31m         \u001b[0;32mreturn\u001b[0m \u001b[0mself\u001b[0m\u001b[0;34m.\u001b[0m\u001b[0mdecodevalue\u001b[0m\u001b[0;34m(\u001b[0m\u001b[0mvalue\u001b[0m\u001b[0;34m)\u001b[0m\u001b[0;34m\u001b[0m\u001b[0m\n\u001b[0m\u001b[1;32m    671\u001b[0m \u001b[0;34m\u001b[0m\u001b[0m\n\u001b[1;32m    672\u001b[0m     \u001b[0;32mdef\u001b[0m \u001b[0m__setitem__\u001b[0m\u001b[0;34m(\u001b[0m\u001b[0mself\u001b[0m\u001b[0;34m,\u001b[0m \u001b[0mkey\u001b[0m\u001b[0;34m,\u001b[0m \u001b[0mvalue\u001b[0m\u001b[0;34m)\u001b[0m\u001b[0;34m:\u001b[0m\u001b[0;34m\u001b[0m\u001b[0m\n",
      "\u001b[0;32m/opt/conda/lib/python3.6/bdb.py\u001b[0m in \u001b[0;36mtrace_dispatch\u001b[0;34m(self, frame, event, arg)\u001b[0m\n\u001b[1;32m     50\u001b[0m             \u001b[0;32mreturn\u001b[0m \u001b[0mself\u001b[0m\u001b[0;34m.\u001b[0m\u001b[0mdispatch_call\u001b[0m\u001b[0;34m(\u001b[0m\u001b[0mframe\u001b[0m\u001b[0;34m,\u001b[0m \u001b[0marg\u001b[0m\u001b[0;34m)\u001b[0m\u001b[0;34m\u001b[0m\u001b[0m\n\u001b[1;32m     51\u001b[0m         \u001b[0;32mif\u001b[0m \u001b[0mevent\u001b[0m \u001b[0;34m==\u001b[0m \u001b[0;34m'return'\u001b[0m\u001b[0;34m:\u001b[0m\u001b[0;34m\u001b[0m\u001b[0m\n\u001b[0;32m---> 52\u001b[0;31m             \u001b[0;32mreturn\u001b[0m \u001b[0mself\u001b[0m\u001b[0;34m.\u001b[0m\u001b[0mdispatch_return\u001b[0m\u001b[0;34m(\u001b[0m\u001b[0mframe\u001b[0m\u001b[0;34m,\u001b[0m \u001b[0marg\u001b[0m\u001b[0;34m)\u001b[0m\u001b[0;34m\u001b[0m\u001b[0m\n\u001b[0m\u001b[1;32m     53\u001b[0m         \u001b[0;32mif\u001b[0m \u001b[0mevent\u001b[0m \u001b[0;34m==\u001b[0m \u001b[0;34m'exception'\u001b[0m\u001b[0;34m:\u001b[0m\u001b[0;34m\u001b[0m\u001b[0m\n\u001b[1;32m     54\u001b[0m             \u001b[0;32mreturn\u001b[0m \u001b[0mself\u001b[0m\u001b[0;34m.\u001b[0m\u001b[0mdispatch_exception\u001b[0m\u001b[0;34m(\u001b[0m\u001b[0mframe\u001b[0m\u001b[0;34m,\u001b[0m \u001b[0marg\u001b[0m\u001b[0;34m)\u001b[0m\u001b[0;34m\u001b[0m\u001b[0m\n",
      "\u001b[0;32m/opt/conda/lib/python3.6/bdb.py\u001b[0m in \u001b[0;36mdispatch_return\u001b[0;34m(self, frame, arg)\u001b[0m\n\u001b[1;32m     94\u001b[0m             \u001b[0;32mfinally\u001b[0m\u001b[0;34m:\u001b[0m\u001b[0;34m\u001b[0m\u001b[0m\n\u001b[1;32m     95\u001b[0m                 \u001b[0mself\u001b[0m\u001b[0;34m.\u001b[0m\u001b[0mframe_returning\u001b[0m \u001b[0;34m=\u001b[0m \u001b[0;32mNone\u001b[0m\u001b[0;34m\u001b[0m\u001b[0m\n\u001b[0;32m---> 96\u001b[0;31m             \u001b[0;32mif\u001b[0m \u001b[0mself\u001b[0m\u001b[0;34m.\u001b[0m\u001b[0mquitting\u001b[0m\u001b[0;34m:\u001b[0m \u001b[0;32mraise\u001b[0m \u001b[0mBdbQuit\u001b[0m\u001b[0;34m\u001b[0m\u001b[0m\n\u001b[0m\u001b[1;32m     97\u001b[0m             \u001b[0;31m# The user issued a 'next' or 'until' command.\u001b[0m\u001b[0;34m\u001b[0m\u001b[0;34m\u001b[0m\u001b[0m\n\u001b[1;32m     98\u001b[0m             \u001b[0;32mif\u001b[0m \u001b[0mself\u001b[0m\u001b[0;34m.\u001b[0m\u001b[0mstopframe\u001b[0m \u001b[0;32mis\u001b[0m \u001b[0mframe\u001b[0m \u001b[0;32mand\u001b[0m \u001b[0mself\u001b[0m\u001b[0;34m.\u001b[0m\u001b[0mstoplineno\u001b[0m \u001b[0;34m!=\u001b[0m \u001b[0;34m-\u001b[0m\u001b[0;36m1\u001b[0m\u001b[0;34m:\u001b[0m\u001b[0;34m\u001b[0m\u001b[0m\n",
      "\u001b[0;31mBdbQuit\u001b[0m: "
     ]
    }
   ],
   "source": [
    "import pdb\n",
    "reg2 = re.compile(r\"<[^>]*>\")\n",
    "strVal = \"Hello this <comment1> is a <comment2> test\"\n",
    "\n",
    "ls = reg2.findall(str)\n",
    "#ls\n",
    "for l in ls:\n",
    "    pdb.set_trace()\n",
    "    strVal = strVal.replace(l,\"\")\n",
    "\n",
    "strVal"
   ]
  },
  {
   "cell_type": "code",
   "execution_count": 35,
   "metadata": {},
   "outputs": [
    {
     "data": {
      "text/plain": [
       "'.'"
      ]
     },
     "execution_count": 35,
     "metadata": {},
     "output_type": "execute_result"
    }
   ],
   "source": [
    "nr = 1\n",
    "testStr = \".\" if (nr > 0 ) else \"*\"\n",
    "testStr"
   ]
  },
  {
   "cell_type": "code",
   "execution_count": 36,
   "metadata": {},
   "outputs": [
    {
     "data": {
      "text/plain": [
       "['',\n",
       " '/opt/conda/lib/python36.zip',\n",
       " '/opt/conda/lib/python3.6',\n",
       " '/opt/conda/lib/python3.6/lib-dynload',\n",
       " '/opt/conda/lib/python3.6/site-packages',\n",
       " '/opt/conda/lib/python3.6/site-packages/cycler-0.10.0-py3.6.egg',\n",
       " '/opt/conda/lib/python3.6/site-packages/IPython/extensions',\n",
       " '/home/jovyan/.ipython']"
      ]
     },
     "execution_count": 36,
     "metadata": {},
     "output_type": "execute_result"
    }
   ],
   "source": [
    "import sys\n",
    "sys.path\n"
   ]
  },
  {
   "cell_type": "code",
   "execution_count": 39,
   "metadata": {},
   "outputs": [
    {
     "data": {
      "text/plain": [
       "UUID('24b80ae4-2836-4dbb-b75a-606bdc31bca1')"
      ]
     },
     "execution_count": 39,
     "metadata": {},
     "output_type": "execute_result"
    }
   ],
   "source": [
    "from uuid import uuid4\n",
    "uuid4()"
   ]
  }
 ],
 "metadata": {
  "kernelspec": {
   "display_name": "Python 3",
   "language": "python",
   "name": "python3"
  },
  "language_info": {
   "codemirror_mode": {
    "name": "ipython",
    "version": 3
   },
   "file_extension": ".py",
   "mimetype": "text/x-python",
   "name": "python",
   "nbconvert_exporter": "python",
   "pygments_lexer": "ipython3",
   "version": "3.5.6"
  }
 },
 "nbformat": 4,
 "nbformat_minor": 2
}

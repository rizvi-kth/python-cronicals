{
 "cells": [
  {
   "cell_type": "code",
   "execution_count": 4,
   "metadata": {
    "collapsed": true
   },
   "outputs": [],
   "source": [
    "#Sigmoid Function\n",
    "def sigmoid (x):\n",
    "    return 1/(1 + np.exp(-x))"
   ]
  },
  {
   "cell_type": "code",
   "execution_count": 5,
   "metadata": {},
   "outputs": [
    {
     "data": {
      "text/plain": [
       "array([[1, 0, 1, 0],\n",
       "       [1, 0, 1, 1],\n",
       "       [0, 1, 0, 1]])"
      ]
     },
     "execution_count": 5,
     "metadata": {},
     "output_type": "execute_result"
    }
   ],
   "source": [
    "import numpy as np \n",
    "# 3 training data and 4 features (matrix of R^3X4)\n",
    "X=np.array([[1, 0, 1, 0],\n",
    "            [1, 0, 1, 1],\n",
    "            [0, 1, 0, 1]])\n",
    "X.shape\n",
    "X"
   ]
  },
  {
   "cell_type": "code",
   "execution_count": 6,
   "metadata": {},
   "outputs": [
    {
     "data": {
      "text/plain": [
       "array([[ 0.42,  0.88,  0.55],\n",
       "       [ 0.1 ,  0.73,  0.68],\n",
       "       [ 0.6 ,  0.18,  0.47],\n",
       "       [ 0.92,  0.11,  0.52]])"
      ]
     },
     "execution_count": 6,
     "metadata": {},
     "output_type": "execute_result"
    }
   ],
   "source": [
    "# weight matrix for input(4neurons) to hidden-layer(3neurons) (R^4X3)\n",
    "wh = np.array([[.42,.88,.55],\n",
    "               [.10,.73,.68],\n",
    "               [.60,.18,.47],\n",
    "               [.92,.11,.52]])\n",
    "wh.shape\n",
    "wh\n"
   ]
  },
  {
   "cell_type": "code",
   "execution_count": 7,
   "metadata": {},
   "outputs": [
    {
     "data": {
      "text/plain": [
       "array([ 0.46,  0.72,  0.08])"
      ]
     },
     "execution_count": 7,
     "metadata": {},
     "output_type": "execute_result"
    }
   ],
   "source": [
    "#The byas\n",
    "bh = np.array([.46,.72,.08])\n",
    "bh"
   ]
  },
  {
   "cell_type": "code",
   "execution_count": 8,
   "metadata": {},
   "outputs": [
    {
     "data": {
      "text/plain": [
       "array([[ 1.48,  1.78,  1.1 ],\n",
       "       [ 2.4 ,  1.89,  1.62],\n",
       "       [ 1.48,  1.56,  1.28]])"
      ]
     },
     "execution_count": 8,
     "metadata": {},
     "output_type": "execute_result"
    }
   ],
   "source": [
    "#Calculating activation-input by matrix multiplication (input_matrix X weight_matrix) \n",
    "Z=np.dot(X,wh) + bh\n",
    "Z"
   ]
  },
  {
   "cell_type": "code",
   "execution_count": 9,
   "metadata": {},
   "outputs": [
    {
     "data": {
      "text/plain": [
       "array([[ 0.81457258,  0.85569687,  0.75026011],\n",
       "       [ 0.9168273 ,  0.86875553,  0.83479513],\n",
       "       [ 0.81457258,  0.82635335,  0.78244978]])"
      ]
     },
     "execution_count": 9,
     "metadata": {},
     "output_type": "execute_result"
    }
   ],
   "source": [
    "#Calculating activation with the hypothesis of Sigmoid function \n",
    "Act = sigmoid(Z)\n",
    "Act = Act\n",
    "Act\n",
    "#Act.shape"
   ]
  },
  {
   "cell_type": "code",
   "execution_count": 10,
   "metadata": {},
   "outputs": [
    {
     "data": {
      "text/plain": [
       "array([[ 0.3 ],\n",
       "       [ 0.25],\n",
       "       [ 0.23]])"
      ]
     },
     "execution_count": 10,
     "metadata": {},
     "output_type": "execute_result"
    }
   ],
   "source": [
    "#Waits for hidden-layer to output-layer (R^1x3)\n",
    "wh_1_2 = np.array([[ 0.3,  0.25,  0.23]]).T\n",
    "wh_1_2\n",
    "#wh_1_2.shape"
   ]
  },
  {
   "cell_type": "code",
   "execution_count": 11,
   "metadata": {},
   "outputs": [
    {
     "data": {
      "text/plain": [
       "array([[ 0.78932406],\n",
       "       [ 0.79806432],\n",
       "       [ 0.78933532]])"
      ]
     },
     "execution_count": 11,
     "metadata": {},
     "output_type": "execute_result"
    }
   ],
   "source": [
    "#Calculate the outputs vector\n",
    "bh_1_2 = 0.69\n",
    "Output_layer_input = np.dot( Act, wh_1_2) + bh_1_2\n",
    "Output = sigmoid(Output_layer_input)\n",
    "Output"
   ]
  },
  {
   "cell_type": "code",
   "execution_count": 13,
   "metadata": {},
   "outputs": [
    {
     "data": {
      "text/plain": [
       "array([[1],\n",
       "       [1],\n",
       "       [0]])"
      ]
     },
     "execution_count": 13,
     "metadata": {},
     "output_type": "execute_result"
    }
   ],
   "source": [
    "Y = np.array([[1,1,0]])\n",
    "Y = Y.T\n",
    "Y"
   ]
  },
  {
   "cell_type": "code",
   "execution_count": 14,
   "metadata": {},
   "outputs": [
    {
     "data": {
      "text/plain": [
       "array([[ 0.21067594],\n",
       "       [ 0.20193568],\n",
       "       [-0.78933532]])"
      ]
     },
     "execution_count": 14,
     "metadata": {},
     "output_type": "execute_result"
    }
   ],
   "source": [
    "E = Y - Output\n",
    "E"
   ]
  }
 ],
 "metadata": {
  "kernelspec": {
   "display_name": "Python 3",
   "language": "python",
   "name": "python3"
  },
  "language_info": {
   "codemirror_mode": {
    "name": "ipython",
    "version": 3
   },
   "file_extension": ".py",
   "mimetype": "text/x-python",
   "name": "python",
   "nbconvert_exporter": "python",
   "pygments_lexer": "ipython3",
   "version": "3.6.2"
  }
 },
 "nbformat": 4,
 "nbformat_minor": 2
}

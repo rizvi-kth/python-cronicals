{
 "cells": [
  {
   "cell_type": "code",
   "execution_count": 5,
   "metadata": {},
   "outputs": [
    {
     "data": {
      "text/plain": [
       "'C:\\\\Users\\\\A547184\\\\Git\\\\Repos\\\\python-cronicals\\\\ML\\\\halfrnn'"
      ]
     },
     "execution_count": 5,
     "metadata": {},
     "output_type": "execute_result"
    }
   ],
   "source": [
    "import os\n",
    "# # Confirm the current working directory\n",
    "os.chdir(\"..\\\\\")\n",
    "os.getcwd()\n"
   ]
  },
  {
   "cell_type": "code",
   "execution_count": 6,
   "metadata": {},
   "outputs": [
    {
     "name": "stdout",
     "output_type": "stream",
     "text": [
      "Tensorflow version: 1.7.0\n"
     ]
    }
   ],
   "source": [
    "import logging\n",
    "from pathlib import Path\n",
    "# from dotenv import find_dotenv, load_dotenv\n",
    "import os\n",
    "import pandas as pd\n",
    "import numpy as np\n",
    "import tensorflow as tf\n",
    "print(\"Tensorflow version:\", tf.__version__)\n",
    "from tensorflow import keras"
   ]
  },
  {
   "cell_type": "code",
   "execution_count": 13,
   "metadata": {},
   "outputs": [],
   "source": [
    "SEQUENCE_LENGTH = 25\n",
    "VACAB_FEATURES = 50\n",
    "VOCAB_SIZE = 3443 # 60064 # 3575 # 3443\n"
   ]
  },
  {
   "cell_type": "code",
   "execution_count": 14,
   "metadata": {},
   "outputs": [],
   "source": [
    "train_tokens_file = 'data/processed/train/reviews_523_tokens_25.npy'  # Check SEQUENCE_LENGTH flag\n",
    "test_tokens_file = 'data/processed/test/test_reviews_556_tokens_25.npy'\n",
    "\n",
    "logger = logging.getLogger(__name__)\n",
    "logger.info('Loading data for training')\n",
    "\n",
    "# Load the file\n",
    "logger.info('Load Train file {0!s}'.format(train_tokens_file))\n",
    "train_array = np.load(train_tokens_file)\n",
    "logger.info('Shape of Train {0!s}'.format(train_array.shape))\n"
   ]
  },
  {
   "cell_type": "code",
   "execution_count": 15,
   "metadata": {},
   "outputs": [],
   "source": [
    "review_text_array = train_array"
   ]
  },
  {
   "cell_type": "code",
   "execution_count": 40,
   "metadata": {},
   "outputs": [
    {
     "name": "stdout",
     "output_type": "stream",
     "text": [
      "Vocabulary size : 3443\n",
      "(523, 25)\n",
      "<class 'numpy.ndarray'>\n",
      "[[   0    0    0    0    0    0    0    0    0   65    1   48   59  328\n",
      "     7 1354 1355   20    8  230  271  329   20  143  562]\n",
      " [   0    0  105  811 1356  407 1357  812  813   13   20   36  126   38\n",
      "    94  105  408  163  814  563  815  816   94   75  164]]\n",
      "3442\n"
     ]
    }
   ],
   "source": [
    "logger = logging.getLogger('__prepare_training_data__')\n",
    "# Shuffle the array\n",
    "logger.info('Shuffle the array')\n",
    "np.random.shuffle(review_text_array)\n",
    "\n",
    "# Prepare tokenizer\n",
    "logger.info('Prepare tokenizer')\n",
    "t = keras.preprocessing.text.Tokenizer()\n",
    "t.fit_on_texts(review_text_array[0:, 0])\n",
    "text_seq = t.texts_to_sequences(review_text_array[0:, 0])\n",
    "vocab_size = len(t.word_index) + 1\n",
    "print('Vocabulary size : {}'.format(vocab_size))\n",
    "\n",
    "assert(len(t.word_index) + 1 <= VOCAB_SIZE)\n",
    "assert(max([len(iner_list) for iner_list in text_seq]) == SEQUENCE_LENGTH)\n",
    "\n",
    "# Padding Sequences\n",
    "input_seq_padded = keras.preprocessing.sequence.pad_sequences(text_seq, maxlen=SEQUENCE_LENGTH)\n",
    "print(input_seq_padded.shape)\n",
    "print(type(input_seq_padded))\n",
    "print(input_seq_padded[0:2])\n",
    "\n",
    "# Get the maximum element from a Numpy array\n",
    "max_element = np.amax(input_seq_padded)\n",
    "print(max_element)\n",
    "\n",
    "# # Input normalization\n",
    "# input_seq_normalized = input_seq_padded / max_element\n",
    "input_seq_normalized = np.asarray(input_seq_padded, dtype=np.float)\n",
    "\n",
    "# Output data type conversion\n",
    "# type(input_seq_normalized[0:1, 0][0])\n",
    "output = np.asarray(review_text_array[0:, 1], dtype=np.float)\n",
    "output -= 1\n",
    "output_y = keras.utils.to_categorical(output, num_classes=10)"
   ]
  },
  {
   "cell_type": "code",
   "execution_count": 41,
   "metadata": {},
   "outputs": [
    {
     "name": "stdout",
     "output_type": "stream",
     "text": [
      "[[0. 0. 0. 0. 0. 0. 0. 1. 0. 0.]\n",
      " [1. 0. 0. 0. 0. 0. 0. 0. 0. 0.]\n",
      " [1. 0. 0. 0. 0. 0. 0. 0. 0. 0.]\n",
      " [0. 0. 0. 0. 0. 0. 0. 0. 0. 1.]\n",
      " [0. 0. 0. 0. 0. 0. 0. 0. 1. 0.]\n",
      " [0. 0. 0. 0. 0. 0. 0. 1. 0. 0.]\n",
      " [0. 1. 0. 0. 0. 0. 0. 0. 0. 0.]\n",
      " [0. 0. 0. 0. 0. 0. 0. 0. 1. 0.]\n",
      " [0. 0. 0. 0. 0. 0. 0. 1. 0. 0.]\n",
      " [0. 0. 0. 0. 0. 0. 0. 0. 0. 1.]]\n"
     ]
    }
   ],
   "source": [
    "print(output_y[0:10,])"
   ]
  },
  {
   "cell_type": "code",
   "execution_count": 42,
   "metadata": {},
   "outputs": [
    {
     "name": "stdout",
     "output_type": "stream",
     "text": [
      "[7. 0. 0. 9. 8. 7. 1. 8. 7. 9.]\n"
     ]
    }
   ],
   "source": [
    "print(output[0:10,])"
   ]
  },
  {
   "cell_type": "code",
   "execution_count": 43,
   "metadata": {},
   "outputs": [
    {
     "data": {
      "text/plain": [
       "array([0., 1., 2., 3., 6., 7., 8., 9.])"
      ]
     },
     "execution_count": 43,
     "metadata": {},
     "output_type": "execute_result"
    }
   ],
   "source": [
    "np.unique(output)"
   ]
  },
  {
   "cell_type": "code",
   "execution_count": 44,
   "metadata": {},
   "outputs": [
    {
     "data": {
      "text/plain": [
       "(523,)"
      ]
     },
     "execution_count": 44,
     "metadata": {},
     "output_type": "execute_result"
    }
   ],
   "source": [
    "output.shape"
   ]
  },
  {
   "cell_type": "code",
   "execution_count": null,
   "metadata": {},
   "outputs": [],
   "source": []
  }
 ],
 "metadata": {
  "kernelspec": {
   "display_name": "Python 3",
   "language": "python",
   "name": "python3"
  },
  "language_info": {
   "codemirror_mode": {
    "name": "ipython",
    "version": 3
   },
   "file_extension": ".py",
   "mimetype": "text/x-python",
   "name": "python",
   "nbconvert_exporter": "python",
   "pygments_lexer": "ipython3",
   "version": "3.6.8"
  }
 },
 "nbformat": 4,
 "nbformat_minor": 2
}

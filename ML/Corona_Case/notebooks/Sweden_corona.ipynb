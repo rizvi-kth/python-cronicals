{
 "cells": [
  {
   "cell_type": "code",
   "execution_count": 1,
   "metadata": {},
   "outputs": [
    {
     "name": "stdout",
     "output_type": "stream",
     "text": [
      "0.9.0\n"
     ]
    }
   ],
   "source": [
    "import seaborn as sns\n",
    "print(sns.__version__)"
   ]
  },
  {
   "cell_type": "code",
   "execution_count": 2,
   "metadata": {},
   "outputs": [],
   "source": [
    "import pandas as pd\n",
    "import numpy as np"
   ]
  },
  {
   "cell_type": "code",
   "execution_count": 3,
   "metadata": {},
   "outputs": [
    {
     "name": "stdout",
     "output_type": "stream",
     "text": [
      "/Users/test/codegitriz/rizvi-kth/python-cronicals/ML/Corona_Case/notebooks\r\n"
     ]
    }
   ],
   "source": [
    "!pwd"
   ]
  },
  {
   "cell_type": "code",
   "execution_count": 125,
   "metadata": {},
   "outputs": [],
   "source": [
    "d1_pdf = pd.read_csv(\"../data/corona_01.csv\")\n",
    "d2_pdf = pd.read_csv(\"../data/corona_02.csv\")\n",
    "d3_pdf = pd.read_csv(\"../data/corona_03.csv\")\n",
    "d4_pdf = pd.read_csv(\"../data/corona_04.csv\")\n",
    "\n"
   ]
  },
  {
   "cell_type": "code",
   "execution_count": 126,
   "metadata": {},
   "outputs": [],
   "source": [
    "##cr_pdf = pd.concat([d1_pdf,d2_pdf,d3_pdf,d4_pdf], axis=1)\n"
   ]
  },
  {
   "cell_type": "code",
   "execution_count": 135,
   "metadata": {},
   "outputs": [
    {
     "data": {
      "text/html": [
       "<div>\n",
       "<style scoped>\n",
       "    .dataframe tbody tr th:only-of-type {\n",
       "        vertical-align: middle;\n",
       "    }\n",
       "\n",
       "    .dataframe tbody tr th {\n",
       "        vertical-align: top;\n",
       "    }\n",
       "\n",
       "    .dataframe thead th {\n",
       "        text-align: right;\n",
       "    }\n",
       "</style>\n",
       "<table border=\"1\" class=\"dataframe\">\n",
       "  <thead>\n",
       "    <tr style=\"text-align: right;\">\n",
       "      <th></th>\n",
       "      <th>Country</th>\n",
       "      <th>January 29 cases</th>\n",
       "      <th>February 9 2020 cases</th>\n",
       "      <th>February 11 cases</th>\n",
       "      <th>February 18 cases</th>\n",
       "      <th>Feb. 20 cases</th>\n",
       "      <th>Feb. 21 cases</th>\n",
       "      <th>Feb. 22 cases</th>\n",
       "      <th>Feb. 23 cases</th>\n",
       "      <th>Feb. 24 cases</th>\n",
       "      <th>Unnamed: 10</th>\n",
       "      <th>Total deaths (Feb 15)</th>\n",
       "      <th>Total deaths (Feb 18)</th>\n",
       "      <th>T.D. Feb 19</th>\n",
       "      <th>T.D. Feb 20</th>\n",
       "      <th>T.D. Feb 21</th>\n",
       "      <th>T.D. Feb 22</th>\n",
       "      <th>T.D. Feb 23</th>\n",
       "      <th>T.D. Feb 24</th>\n",
       "    </tr>\n",
       "  </thead>\n",
       "  <tbody>\n",
       "    <tr>\n",
       "      <th>28</th>\n",
       "      <td>Sweeden</td>\n",
       "      <td>0</td>\n",
       "      <td>0</td>\n",
       "      <td>0</td>\n",
       "      <td>0</td>\n",
       "      <td>1</td>\n",
       "      <td>1</td>\n",
       "      <td>1</td>\n",
       "      <td>1</td>\n",
       "      <td>1</td>\n",
       "      <td>NaN</td>\n",
       "      <td>0</td>\n",
       "      <td>0</td>\n",
       "      <td>0</td>\n",
       "      <td>0</td>\n",
       "      <td>0</td>\n",
       "      <td>0</td>\n",
       "      <td>0</td>\n",
       "      <td>0</td>\n",
       "    </tr>\n",
       "  </tbody>\n",
       "</table>\n",
       "</div>"
      ],
      "text/plain": [
       "    Country January 29 cases February 9 2020 cases February 11 cases   \\\n",
       "28  Sweeden                0                     0                  0   \n",
       "\n",
       "   February 18 cases  Feb. 20 cases  Feb. 21 cases  Feb. 22 cases   \\\n",
       "28                  0              1              1              1   \n",
       "\n",
       "   Feb. 23 cases  Feb. 24 cases   Unnamed: 10  Total deaths (Feb 15)  \\\n",
       "28              1              1          NaN                      0   \n",
       "\n",
       "   Total deaths (Feb 18) T.D. Feb 19 T.D. Feb 20 T.D. Feb 21 T.D. Feb 22  \\\n",
       "28                     0           0           0           0           0   \n",
       "\n",
       "   T.D. Feb 23 T.D. Feb 24  \n",
       "28           0           0  "
      ]
     },
     "execution_count": 135,
     "metadata": {},
     "output_type": "execute_result"
    }
   ],
   "source": [
    "#filtered1_pdf = d1_pdf.sort_values(by=\"Country\")[1:]\n",
    "aus01_pdf = d1_pdf[d1_pdf['Country']=='Sweeden']\n",
    "aus01_pdf"
   ]
  },
  {
   "cell_type": "code",
   "execution_count": 136,
   "metadata": {},
   "outputs": [
    {
     "data": {
      "text/html": [
       "<div>\n",
       "<style scoped>\n",
       "    .dataframe tbody tr th:only-of-type {\n",
       "        vertical-align: middle;\n",
       "    }\n",
       "\n",
       "    .dataframe tbody tr th {\n",
       "        vertical-align: top;\n",
       "    }\n",
       "\n",
       "    .dataframe thead th {\n",
       "        text-align: right;\n",
       "    }\n",
       "</style>\n",
       "<table border=\"1\" class=\"dataframe\">\n",
       "  <thead>\n",
       "    <tr style=\"text-align: right;\">\n",
       "      <th></th>\n",
       "      <th>Country</th>\n",
       "      <th>Feb. 24 cases</th>\n",
       "      <th>Feb. 25 cases</th>\n",
       "      <th>Feb. 26 cases</th>\n",
       "      <th>Feb. 27 cases</th>\n",
       "      <th>Feb. 28 cases</th>\n",
       "      <th>Feb. 29 cases</th>\n",
       "      <th>Mar. 01 cases</th>\n",
       "      <th>Mar. 02 cases</th>\n",
       "      <th>Mar. 03 cases</th>\n",
       "      <th>...</th>\n",
       "      <th>T.D. Mar. 06</th>\n",
       "      <th>T.D. Mar. 07</th>\n",
       "      <th>T.D. Mar. 09</th>\n",
       "      <th>Unnamed: 30</th>\n",
       "      <th>T.Recov. Feb. 26</th>\n",
       "      <th>T.Recov. Feb. 29</th>\n",
       "      <th>T.Recov. Mar. 02</th>\n",
       "      <th>T.Recov. Mar. 05</th>\n",
       "      <th>T.Recov. Mar. 07</th>\n",
       "      <th>T.Recov. Mar. 09</th>\n",
       "    </tr>\n",
       "  </thead>\n",
       "  <tbody>\n",
       "    <tr>\n",
       "      <th>98</th>\n",
       "      <td>Sweeden</td>\n",
       "      <td>1</td>\n",
       "      <td>1</td>\n",
       "      <td>1</td>\n",
       "      <td>2</td>\n",
       "      <td>2</td>\n",
       "      <td>11</td>\n",
       "      <td>13</td>\n",
       "      <td>14</td>\n",
       "      <td>24</td>\n",
       "      <td>...</td>\n",
       "      <td>0</td>\n",
       "      <td>0</td>\n",
       "      <td>0</td>\n",
       "      <td>NaN</td>\n",
       "      <td>0</td>\n",
       "      <td>0</td>\n",
       "      <td>0</td>\n",
       "      <td>1</td>\n",
       "      <td>1</td>\n",
       "      <td>1</td>\n",
       "    </tr>\n",
       "  </tbody>\n",
       "</table>\n",
       "<p>1 rows × 37 columns</p>\n",
       "</div>"
      ],
      "text/plain": [
       "    Country Feb. 24 cases  Feb. 25 cases  Feb. 26 cases  Feb. 27 cases   \\\n",
       "98  Sweeden              1              1              1              2   \n",
       "\n",
       "   Feb. 28 cases  Feb. 29 cases  Mar. 01 cases  Mar. 02 cases  Mar. 03 cases   \\\n",
       "98              2             11             13             14             24   \n",
       "\n",
       "    ... T.D. Mar. 06 T.D. Mar. 07 T.D. Mar. 09 Unnamed: 30 T.Recov. Feb. 26  \\\n",
       "98  ...            0            0            0         NaN                0   \n",
       "\n",
       "    T.Recov. Feb. 29 T.Recov. Mar. 02 T.Recov. Mar. 05 T.Recov. Mar. 07  \\\n",
       "98                 0                0                1                1   \n",
       "\n",
       "   T.Recov. Mar. 09  \n",
       "98                1  \n",
       "\n",
       "[1 rows x 37 columns]"
      ]
     },
     "execution_count": 136,
     "metadata": {},
     "output_type": "execute_result"
    }
   ],
   "source": [
    "#filtered1_pdf = d1_pdf.sort_values(by=\"Country\")[1:]\n",
    "aus02_pdf = d2_pdf[d2_pdf['Country']=='Sweeden']\n",
    "aus02_pdf"
   ]
  },
  {
   "cell_type": "code",
   "execution_count": 137,
   "metadata": {},
   "outputs": [
    {
     "data": {
      "text/html": [
       "<div>\n",
       "<style scoped>\n",
       "    .dataframe tbody tr th:only-of-type {\n",
       "        vertical-align: middle;\n",
       "    }\n",
       "\n",
       "    .dataframe tbody tr th {\n",
       "        vertical-align: top;\n",
       "    }\n",
       "\n",
       "    .dataframe thead th {\n",
       "        text-align: right;\n",
       "    }\n",
       "</style>\n",
       "<table border=\"1\" class=\"dataframe\">\n",
       "  <thead>\n",
       "    <tr style=\"text-align: right;\">\n",
       "      <th></th>\n",
       "      <th>Country</th>\n",
       "      <th>Mar. 07 cases</th>\n",
       "      <th>Mar. 09 cases</th>\n",
       "      <th>Mar. 11 cases</th>\n",
       "      <th>Mar. 13 cases</th>\n",
       "      <th>Mar. 14 cases</th>\n",
       "      <th>Mar. 15 cases</th>\n",
       "      <th>Mar. 16 cases</th>\n",
       "      <th>Mar. 17 cases</th>\n",
       "      <th>Mar. 18 cases</th>\n",
       "      <th>...</th>\n",
       "      <th>T.Recov. Mar. 20</th>\n",
       "      <th>T.Recov. Mar. 21</th>\n",
       "      <th>T.Recov. Mar. 22</th>\n",
       "      <th>T.Recov. Mar. 23</th>\n",
       "      <th>T.Recov. Mar. 24</th>\n",
       "      <th>T.Recov. Mar. 25</th>\n",
       "      <th>T.Recov. Mar. 26</th>\n",
       "      <th>T.Recov. Mar. 27</th>\n",
       "      <th>T.Recov. Mar. 28</th>\n",
       "      <th>T.Recov. Mar. 29</th>\n",
       "    </tr>\n",
       "  </thead>\n",
       "  <tbody>\n",
       "    <tr>\n",
       "      <th>177</th>\n",
       "      <td>Sweeden</td>\n",
       "      <td>137</td>\n",
       "      <td>203</td>\n",
       "      <td>436</td>\n",
       "      <td>688</td>\n",
       "      <td>821</td>\n",
       "      <td>961</td>\n",
       "      <td>1,040</td>\n",
       "      <td>1,125</td>\n",
       "      <td>1,292</td>\n",
       "      <td>...</td>\n",
       "      <td>16</td>\n",
       "      <td>16</td>\n",
       "      <td>16</td>\n",
       "      <td>16</td>\n",
       "      <td>16</td>\n",
       "      <td>16</td>\n",
       "      <td>16</td>\n",
       "      <td>16</td>\n",
       "      <td>16</td>\n",
       "      <td>16</td>\n",
       "    </tr>\n",
       "  </tbody>\n",
       "</table>\n",
       "<p>1 rows × 62 columns</p>\n",
       "</div>"
      ],
      "text/plain": [
       "     Country Mar. 07 cases Mar. 09 cases Mar. 11 cases Mar. 13 cases  \\\n",
       "177  Sweeden           137           203           436           688   \n",
       "\n",
       "    Mar. 14 cases Mar. 15 cases Mar. 16 cases Mar. 17 cases Mar. 18 cases  \\\n",
       "177           821           961         1,040         1,125         1,292   \n",
       "\n",
       "     ... T.Recov. Mar. 20 T.Recov. Mar. 21 T.Recov. Mar. 22 T.Recov. Mar. 23  \\\n",
       "177  ...               16               16               16               16   \n",
       "\n",
       "    T.Recov. Mar. 24 T.Recov. Mar. 25 T.Recov. Mar. 26 T.Recov. Mar. 27  \\\n",
       "177               16               16               16               16   \n",
       "\n",
       "    T.Recov. Mar. 28 T.Recov. Mar. 29  \n",
       "177               16               16  \n",
       "\n",
       "[1 rows x 62 columns]"
      ]
     },
     "execution_count": 137,
     "metadata": {},
     "output_type": "execute_result"
    }
   ],
   "source": [
    "#filtered1_pdf = d1_pdf.sort_values(by=\"Country\")[1:]\n",
    "aus03_pdf = d3_pdf[d3_pdf['Country']=='Sweeden']\n",
    "aus03_pdf"
   ]
  },
  {
   "cell_type": "code",
   "execution_count": 138,
   "metadata": {},
   "outputs": [
    {
     "data": {
      "text/html": [
       "<div>\n",
       "<style scoped>\n",
       "    .dataframe tbody tr th:only-of-type {\n",
       "        vertical-align: middle;\n",
       "    }\n",
       "\n",
       "    .dataframe tbody tr th {\n",
       "        vertical-align: top;\n",
       "    }\n",
       "\n",
       "    .dataframe thead th {\n",
       "        text-align: right;\n",
       "    }\n",
       "</style>\n",
       "<table border=\"1\" class=\"dataframe\">\n",
       "  <thead>\n",
       "    <tr style=\"text-align: right;\">\n",
       "      <th></th>\n",
       "      <th>Country</th>\n",
       "      <th>Mar. 29 cases</th>\n",
       "      <th>Mar. 30 cases</th>\n",
       "      <th>Unnamed: 3</th>\n",
       "      <th>T.D. Mar. 29</th>\n",
       "      <th>T.D. Mar. 30</th>\n",
       "      <th>Unnamed: 6</th>\n",
       "      <th>T.Recov. Mar. 29</th>\n",
       "      <th>T.Recov. Mar. 30</th>\n",
       "    </tr>\n",
       "  </thead>\n",
       "  <tbody>\n",
       "    <tr>\n",
       "      <th>177</th>\n",
       "      <td>Sweeden</td>\n",
       "      <td>3,447</td>\n",
       "      <td>4,028</td>\n",
       "      <td>NaN</td>\n",
       "      <td>105</td>\n",
       "      <td>146</td>\n",
       "      <td>NaN</td>\n",
       "      <td>16</td>\n",
       "      <td>16</td>\n",
       "    </tr>\n",
       "  </tbody>\n",
       "</table>\n",
       "</div>"
      ],
      "text/plain": [
       "     Country Mar. 29 cases Mar. 30 cases  Unnamed: 3 T.D. Mar. 29  \\\n",
       "177  Sweeden         3,447         4,028         NaN          105   \n",
       "\n",
       "    T.D. Mar. 30 Unnamed: 6 T.Recov. Mar. 29 T.Recov. Mar. 30  \n",
       "177          146        NaN               16               16  "
      ]
     },
     "execution_count": 138,
     "metadata": {},
     "output_type": "execute_result"
    }
   ],
   "source": [
    "#filtered1_pdf = d1_pdf.sort_values(by=\"Country\")[1:]\n",
    "aus04_pdf = d4_pdf[d4_pdf['Country']=='Sweeden']\n",
    "aus04_pdf"
   ]
  },
  {
   "cell_type": "markdown",
   "metadata": {},
   "source": []
  },
  {
   "cell_type": "code",
   "execution_count": 139,
   "metadata": {},
   "outputs": [],
   "source": [
    "def split_cases(aus03_pdf):\n",
    "    aus03_pdf = aus03_pdf.T\n",
    "\n",
    "    aus03_pdf = aus03_pdf.reset_index()\n",
    "\n",
    "    aus03_pdf = aus03_pdf.rename(columns=aus03_pdf.iloc[0])\n",
    "    # aus03_pdf = aus03_pdf.rename(columns={'Country':'Case'}) \n",
    "    aus03_pdf.columns = ['Case', 'Count']\n",
    "\n",
    "    aus03_pdf = aus03_pdf.dropna()\n",
    "\n",
    "    aus03_pdf = aus03_pdf[1:]\n",
    "\n",
    "    aus03_inf_pdf = aus03_pdf[aus03_pdf['Case'].str.contains(\"case\")]\n",
    "    aus03_dth_pdf = aus03_pdf[aus03_pdf['Case'].str.contains(\"T.D.\")]\n",
    "    aus03_rco_pdf = aus03_pdf[aus03_pdf['Case'].str.contains(\"Recov\")]\n",
    "    \n",
    "    return (aus03_inf_pdf, aus03_dth_pdf, aus03_rco_pdf)"
   ]
  },
  {
   "cell_type": "code",
   "execution_count": 140,
   "metadata": {},
   "outputs": [
    {
     "name": "stdout",
     "output_type": "stream",
     "text": [
      "Total case 19 with 9 infected, 6 dead and 0 recovered.\n"
     ]
    }
   ],
   "source": [
    "#filtered1_pdf = d1_pdf.sort_values(by=\"Country\")[1:]\n",
    "#aus01_pdf = d1_pdf.sort_values(by=\"Country\")[1:2]\n",
    "(aus01_inf_pdf, aus01_dth_pdf, aus01_rco_pdf) = split_cases(aus01_pdf)\n",
    "print(f\"Total case {len(aus01_pdf.T)} with {len(aus01_inf_pdf)} infected, {len(aus01_dth_pdf)} dead and {len(aus01_rco_pdf)} recovered.\")\n"
   ]
  },
  {
   "cell_type": "code",
   "execution_count": 141,
   "metadata": {},
   "outputs": [
    {
     "name": "stdout",
     "output_type": "stream",
     "text": [
      "Total case 37 with 14 infected, 14 dead and 6 recovered.\n"
     ]
    }
   ],
   "source": [
    "#filtered2_pdf = d2_pdf.sort_values(by=\"Country\")\n",
    "#aus02_pdf = filtered2_pdf[6:7] ## \n",
    "(aus02_inf_pdf, aus02_dth_pdf, aus02_rco_pdf) = split_cases(aus02_pdf)\n",
    "print(f\"Total case {len(aus02_pdf.T)} with {len(aus02_inf_pdf)} infected, {len(aus02_dth_pdf)} dead and {len(aus02_rco_pdf)} recovered.\")\n"
   ]
  },
  {
   "cell_type": "code",
   "execution_count": 142,
   "metadata": {},
   "outputs": [
    {
     "name": "stdout",
     "output_type": "stream",
     "text": [
      "Total case 62 with 21 infected, 20 dead and 18 recovered.\n"
     ]
    }
   ],
   "source": [
    "#filtered3_pdf = d3_pdf.sort_values(by=\"Country\")\n",
    "#aus03_pdf = filtered3_pdf[10:11]\n",
    "(aus03_inf_pdf, aus03_dth_pdf, aus03_rco_pdf) = split_cases(aus03_pdf)\n",
    "print(f\"Total case {len(aus03_pdf.T)} with {len(aus03_inf_pdf)} infected, {len(aus03_dth_pdf)} dead and {len(aus03_rco_pdf)} recovered.\")"
   ]
  },
  {
   "cell_type": "code",
   "execution_count": 143,
   "metadata": {},
   "outputs": [
    {
     "name": "stdout",
     "output_type": "stream",
     "text": [
      "Total case 9 with 2 infected, 2 dead and 2 recovered.\n"
     ]
    }
   ],
   "source": [
    "#filtered4_pdf = d4_pdf.sort_values(by=\"Country\")\n",
    "#aus04_pdf = filtered4_pdf[10:11]\n",
    "(aus04_inf_pdf, aus04_dth_pdf, aus04_rco_pdf) = split_cases(aus04_pdf)\n",
    "print(f\"Total case {len(aus04_pdf.T)} with {len(aus04_inf_pdf)} infected, {len(aus04_dth_pdf)} dead and {len(aus04_rco_pdf)} recovered.\")"
   ]
  },
  {
   "cell_type": "code",
   "execution_count": null,
   "metadata": {},
   "outputs": [],
   "source": []
  },
  {
   "cell_type": "code",
   "execution_count": null,
   "metadata": {},
   "outputs": [],
   "source": []
  },
  {
   "cell_type": "code",
   "execution_count": null,
   "metadata": {},
   "outputs": [],
   "source": []
  },
  {
   "cell_type": "markdown",
   "metadata": {},
   "source": [
    "### Process infected"
   ]
  },
  {
   "cell_type": "code",
   "execution_count": 173,
   "metadata": {},
   "outputs": [
    {
     "data": {
      "image/png": "[encoded data removed]",
      "text/plain": [
       "<Figure size 720x360 with 1 Axes>"
      ]
     },
     "metadata": {},
     "output_type": "display_data"
    }
   ],
   "source": [
    "aus_inf_pdf = pd.concat([aus01_inf_pdf,aus02_inf_pdf,aus03_inf_pdf,aus04_inf_pdf], axis=0)\n",
    "aus_inf_pdf = aus_inf_pdf.reset_index(drop=True)\n",
    "aus_inf_pdf.dtypes\n",
    "\n",
    "aus_inf_pdf[\"Count\"] = aus_inf_pdf[\"Count\"].str.replace(\",\", \"\")\n",
    "aus_inf_pdf[\"Count\"] = pd.to_numeric(aus_inf_pdf[\"Count\"])\n",
    "\n",
    "aus_inf_pdf[\"Case\"] = aus_inf_pdf[\"Case\"].str.replace(\" \", \"\")\n",
    "aus_inf_pdf[\"Case\"] = aus_inf_pdf[\"Case\"].str.replace(\"cases\", \"\")\n",
    "aus_inf_pdf[\"Case\"] = aus_inf_pdf[\"Case\"].str.replace(\"February92020\", \"Feb.09\")\n",
    "aus_inf_pdf[\"Case\"] = aus_inf_pdf[\"Case\"].str.replace(\"January\", \"01\")\n",
    "aus_inf_pdf[\"Case\"] = aus_inf_pdf[\"Case\"].str.replace(\"February\", \"02\")\n",
    "aus_inf_pdf[\"Case\"] = aus_inf_pdf[\"Case\"].str.replace(\"Feb\", \"02\")\n",
    "aus_inf_pdf[\"Case\"] = aus_inf_pdf[\"Case\"].str.replace(\"Mar\", \"03\")\n",
    "aus_inf_pdf[\"Case\"] = aus_inf_pdf[\"Case\"].str.replace(\".\", \"\")\n",
    "\n",
    "aus_inf_pdf[\"Case\"] = aus_inf_pdf[\"Case\"].astype(str)\n",
    "aus_inf_pdf[\"Case\"] = \"2020\" + aus_inf_pdf[\"Case\"] + \" 00:00:00\"\n",
    "aus_inf_pdf[\"Case\"] = pd.to_datetime(aus_inf_pdf[\"Case\"], format='%Y%m%d %H:%M:%S')\n",
    "\n",
    "aus_inf_pdf\n",
    "\n",
    "sns.set(rc={'figure.figsize':(20.7,8.27)})\n",
    "ax = sns.relplot(x=\"Case\", y=\"Count\", ci=95, kind=\"line\", aspect=2, data=aus_inf_pdf);\n",
    "ax.set_xticklabels(rotation=65, horizontalalignment='right');"
   ]
  },
  {
   "cell_type": "code",
   "execution_count": null,
   "metadata": {},
   "outputs": [],
   "source": []
  },
  {
   "cell_type": "markdown",
   "metadata": {},
   "source": [
    "### Process death"
   ]
  },
  {
   "cell_type": "code",
   "execution_count": 172,
   "metadata": {},
   "outputs": [
    {
     "data": {
      "image/png": "[encoded data removed]",
      "text/plain": [
       "<Figure size 720x360 with 1 Axes>"
      ]
     },
     "metadata": {},
     "output_type": "display_data"
    }
   ],
   "source": [
    "aus_dth_pdf = pd.concat([aus01_dth_pdf,aus02_dth_pdf,aus03_dth_pdf,aus04_dth_pdf], axis=0)\n",
    "aus_dth_pdf = aus_dth_pdf.reset_index(drop=True)\n",
    "aus_dth_pdf.dtypes\n",
    "\n",
    "aus_dth_pdf[\"Count\"] = aus_dth_pdf[\"Count\"].str.replace(\",\", \"\")\n",
    "aus_dth_pdf[\"Count\"] = pd.to_numeric(aus_dth_pdf[\"Count\"])\n",
    "aus_dth_pdf[\"Case\"] = aus_dth_pdf[\"Case\"].str.replace(\" \", \"\")\n",
    "aus_dth_pdf[\"Case\"] = aus_dth_pdf[\"Case\"].str.replace(\"T.D.\", \"\")\n",
    "\n",
    "aus_dth_pdf[\"Case\"] = aus_dth_pdf[\"Case\"].str.replace(\"Feb\", \"02\")\n",
    "aus_dth_pdf[\"Case\"] = aus_dth_pdf[\"Case\"].str.replace(\"Mar\", \"03\")\n",
    "aus_dth_pdf[\"Case\"] = aus_dth_pdf[\"Case\"].str.replace(\".\", \"\")\n",
    "aus_dth_pdf\n",
    "\n",
    "aus_dth_pdf[\"Case\"] = aus_dth_pdf[\"Case\"].astype(str)\n",
    "aus_dth_pdf[\"Case\"] = \"2020\" + aus_dth_pdf[\"Case\"] + \" 00:00:00\"\n",
    "#aus_dth_pdf\n",
    "\n",
    "aus_dth_pdf[\"Case\"] = pd.to_datetime(aus_dth_pdf[\"Case\"], format='%Y%m%d %H:%M:%S')\n",
    "\n",
    "sns.set(rc={'figure.figsize':(20.7,8.27)})\n",
    "ax = sns.relplot(x=\"Case\", y=\"Count\", ci=95, kind=\"line\", aspect=2, data=aus_dth_pdf);\n",
    "ax.set_xticklabels(rotation=65, horizontalalignment='right');\n",
    "\n"
   ]
  },
  {
   "cell_type": "markdown",
   "metadata": {},
   "source": [
    "### Process recovered"
   ]
  },
  {
   "cell_type": "code",
   "execution_count": 171,
   "metadata": {},
   "outputs": [
    {
     "data": {
      "image/png": "[encoded data removed]",
      "text/plain": [
       "<Figure size 720x360 with 1 Axes>"
      ]
     },
     "metadata": {},
     "output_type": "display_data"
    }
   ],
   "source": [
    "aus_rco_pdf = pd.concat([aus01_rco_pdf,aus02_rco_pdf,aus03_rco_pdf,aus04_rco_pdf], axis=0)\n",
    "aus_rco_pdf = aus_rco_pdf.reset_index(drop=True)\n",
    "\n",
    "aus_rco_pdf.dtypes\n",
    "\n",
    "aus_rco_pdf[\"Count\"] = aus_rco_pdf[\"Count\"].str.replace(\",\", \"\")\n",
    "aus_rco_pdf[\"Count\"] = pd.to_numeric(aus_rco_pdf[\"Count\"])\n",
    "\n",
    "aus_rco_pdf[\"Case\"] = aus_rco_pdf[\"Case\"].str.replace(\" \", \"\")\n",
    "aus_rco_pdf[\"Case\"] = aus_rco_pdf[\"Case\"].str.replace(\"T.Recov.\", \"\")\n",
    "aus_rco_pdf[\"Case\"] = aus_rco_pdf[\"Case\"].str.replace(\"Feb\", \"02\")\n",
    "aus_rco_pdf[\"Case\"] = aus_rco_pdf[\"Case\"].str.replace(\"Mar\", \"03\")\n",
    "aus_rco_pdf[\"Case\"] = aus_rco_pdf[\"Case\"].str.replace(\".\", \"\")\n",
    "aus_rco_pdf[\"Case\"] = aus_rco_pdf[\"Case\"].str.replace(\"Feb\", \"02\")\n",
    "aus_rco_pdf[\"Case\"] = aus_rco_pdf[\"Case\"].str.replace(\"Mar\", \"03\")\n",
    "aus_rco_pdf[\"Case\"] = aus_rco_pdf[\"Case\"].str.replace(\".\", \"\")\n",
    "aus_rco_pdf[\"Case\"] = aus_rco_pdf[\"Case\"].astype(str)\n",
    "aus_rco_pdf[\"Case\"] = \"2020\" + aus_rco_pdf[\"Case\"] + \" 00:00:00\"\n",
    "#aus_rco_pdf\n",
    "\n",
    "aus_rco_pdf[\"Case\"] = pd.to_datetime(aus_rco_pdf[\"Case\"], format='%Y%m%d %H:%M:%S')\n",
    "\n",
    "sns.set(rc={'figure.figsize':(20.7,8.27)})\n",
    "ax = sns.relplot(x=\"Case\", y=\"Count\", ci=95, kind=\"line\", aspect=2, data=aus_rco_pdf);\n",
    "ax.set_xticklabels(rotation=65, horizontalalignment='right');"
   ]
  },
  {
   "cell_type": "markdown",
   "metadata": {},
   "source": [
    "### Infected vs Death"
   ]
  },
  {
   "cell_type": "code",
   "execution_count": 162,
   "metadata": {},
   "outputs": [],
   "source": [
    "aus_inf_pdf[\"Status\"] = \"Infected\"\n",
    "aus_dth_pdf[\"Status\"] = \"Death\"\n",
    "aus_rco_pdf[\"Status\"] = \"Recovered\"\n"
   ]
  },
  {
   "cell_type": "code",
   "execution_count": 163,
   "metadata": {},
   "outputs": [
    {
     "data": {
      "text/html": [
       "<div>\n",
       "<style scoped>\n",
       "    .dataframe tbody tr th:only-of-type {\n",
       "        vertical-align: middle;\n",
       "    }\n",
       "\n",
       "    .dataframe tbody tr th {\n",
       "        vertical-align: top;\n",
       "    }\n",
       "\n",
       "    .dataframe thead th {\n",
       "        text-align: right;\n",
       "    }\n",
       "</style>\n",
       "<table border=\"1\" class=\"dataframe\">\n",
       "  <thead>\n",
       "    <tr style=\"text-align: right;\">\n",
       "      <th></th>\n",
       "      <th>Case</th>\n",
       "      <th>Count</th>\n",
       "      <th>Status</th>\n",
       "    </tr>\n",
       "  </thead>\n",
       "  <tbody>\n",
       "    <tr>\n",
       "      <th>0</th>\n",
       "      <td>2020-01-29</td>\n",
       "      <td>0</td>\n",
       "      <td>Infected</td>\n",
       "    </tr>\n",
       "    <tr>\n",
       "      <th>1</th>\n",
       "      <td>2020-02-09</td>\n",
       "      <td>0</td>\n",
       "      <td>Infected</td>\n",
       "    </tr>\n",
       "    <tr>\n",
       "      <th>2</th>\n",
       "      <td>2020-02-11</td>\n",
       "      <td>0</td>\n",
       "      <td>Infected</td>\n",
       "    </tr>\n",
       "    <tr>\n",
       "      <th>3</th>\n",
       "      <td>2020-02-18</td>\n",
       "      <td>0</td>\n",
       "      <td>Infected</td>\n",
       "    </tr>\n",
       "    <tr>\n",
       "      <th>4</th>\n",
       "      <td>2020-02-20</td>\n",
       "      <td>1</td>\n",
       "      <td>Infected</td>\n",
       "    </tr>\n",
       "    <tr>\n",
       "      <th>...</th>\n",
       "      <td>...</td>\n",
       "      <td>...</td>\n",
       "      <td>...</td>\n",
       "    </tr>\n",
       "    <tr>\n",
       "      <th>21</th>\n",
       "      <td>2020-03-27</td>\n",
       "      <td>16</td>\n",
       "      <td>Recovered</td>\n",
       "    </tr>\n",
       "    <tr>\n",
       "      <th>22</th>\n",
       "      <td>2020-03-28</td>\n",
       "      <td>16</td>\n",
       "      <td>Recovered</td>\n",
       "    </tr>\n",
       "    <tr>\n",
       "      <th>23</th>\n",
       "      <td>2020-03-29</td>\n",
       "      <td>16</td>\n",
       "      <td>Recovered</td>\n",
       "    </tr>\n",
       "    <tr>\n",
       "      <th>24</th>\n",
       "      <td>2020-03-29</td>\n",
       "      <td>16</td>\n",
       "      <td>Recovered</td>\n",
       "    </tr>\n",
       "    <tr>\n",
       "      <th>25</th>\n",
       "      <td>2020-03-30</td>\n",
       "      <td>16</td>\n",
       "      <td>Recovered</td>\n",
       "    </tr>\n",
       "  </tbody>\n",
       "</table>\n",
       "<p>202 rows × 3 columns</p>\n",
       "</div>"
      ],
      "text/plain": [
       "         Case  Count     Status\n",
       "0  2020-01-29      0   Infected\n",
       "1  2020-02-09      0   Infected\n",
       "2  2020-02-11      0   Infected\n",
       "3  2020-02-18      0   Infected\n",
       "4  2020-02-20      1   Infected\n",
       "..        ...    ...        ...\n",
       "21 2020-03-27     16  Recovered\n",
       "22 2020-03-28     16  Recovered\n",
       "23 2020-03-29     16  Recovered\n",
       "24 2020-03-29     16  Recovered\n",
       "25 2020-03-30     16  Recovered\n",
       "\n",
       "[202 rows x 3 columns]"
      ]
     },
     "execution_count": 163,
     "metadata": {},
     "output_type": "execute_result"
    }
   ],
   "source": [
    "aus_all_pdf = pd.concat([aus_inf_pdf,aus_dth_pdf,aus_rco_pdf], axis=0)\n",
    "aus_all_pdf"
   ]
  },
  {
   "cell_type": "code",
   "execution_count": 170,
   "metadata": {},
   "outputs": [
    {
     "data": {
      "image/png": "[encoded data removed]",
      "text/plain": [
       "<Figure size 812.975x360 with 1 Axes>"
      ]
     },
     "metadata": {},
     "output_type": "display_data"
    }
   ],
   "source": [
    "#sns.relplot(x=\"Case\", y=\"Count\", hue=\"Status\", kind=\"line\", estimator=None, data=aus_all_pdf);\n",
    "\n",
    "sns.set(rc={'figure.figsize':(20.7,8.27)})\n",
    "ax = sns.relplot(x=\"Case\", y=\"Count\", hue=\"Status\", kind=\"line\", ci=80, aspect=2, data=aus_all_pdf);\n",
    "ax.set_xticklabels(rotation=65, horizontalalignment='right');"
   ]
  },
  {
   "cell_type": "code",
   "execution_count": 185,
   "metadata": {},
   "outputs": [
    {
     "data": {
      "image/png": "[encoded data removed]",
      "text/plain": [
       "<Figure size 1244.97x576 with 1 Axes>"
      ]
     },
     "metadata": {},
     "output_type": "display_data"
    }
   ],
   "source": [
    "#sns.catplot(x=\"Case\", kind=\"count\", hue=\"Status\", palette=\"ch:.25\", data=aus_all_pdf);\n",
    "sns.set(rc={'figure.figsize':(20.7,8.27)})\n",
    "ax = sns.catplot(x=\"Case\", y=\"Count\", hue=\"Status\", kind=\"bar\", ci=None, height=8, aspect=2, data=aus_all_pdf);\n",
    "ax.set_xticklabels(rotation=65, horizontalalignment='right');"
   ]
  },
  {
   "cell_type": "code",
   "execution_count": null,
   "metadata": {},
   "outputs": [],
   "source": []
  },
  {
   "cell_type": "code",
   "execution_count": null,
   "metadata": {},
   "outputs": [],
   "source": []
  },
  {
   "cell_type": "code",
   "execution_count": null,
   "metadata": {},
   "outputs": [],
   "source": []
  },
  {
   "cell_type": "code",
   "execution_count": null,
   "metadata": {},
   "outputs": [],
   "source": []
  }
 ],
 "metadata": {
  "kernelspec": {
   "display_name": "Python 3",
   "language": "python",
   "name": "python3"
  },
  "language_info": {
   "codemirror_mode": {
    "name": "ipython",
    "version": 3
   },
   "file_extension": ".py",
   "mimetype": "text/x-python",
   "name": "python",
   "nbconvert_exporter": "python",
   "pygments_lexer": "ipython3",
   "version": "3.7.5"
  }
 },
 "nbformat": 4,
 "nbformat_minor": 2
}

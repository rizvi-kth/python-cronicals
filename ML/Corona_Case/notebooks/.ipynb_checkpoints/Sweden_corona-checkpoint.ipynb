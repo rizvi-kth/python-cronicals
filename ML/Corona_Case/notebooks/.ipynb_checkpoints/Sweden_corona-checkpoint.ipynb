{
 "cells": [
  {
   "cell_type": "code",
   "execution_count": 1,
   "metadata": {},
   "outputs": [
    {
     "name": "stdout",
     "output_type": "stream",
     "text": [
      "0.9.0\n"
     ]
    }
   ],
   "source": [
    "import seaborn as sns\n",
    "print(sns.__version__)"
   ]
  },
  {
   "cell_type": "code",
   "execution_count": 2,
   "metadata": {},
   "outputs": [],
   "source": [
    "import pandas as pd\n",
    "import numpy as np"
   ]
  },
  {
   "cell_type": "code",
   "execution_count": 3,
   "metadata": {},
   "outputs": [
    {
     "name": "stdout",
     "output_type": "stream",
     "text": [
      "/Users/test/codegitriz/rizvi-kth/python-cronicals/ML/Corona_Case/notebooks\r\n"
     ]
    }
   ],
   "source": [
    "!pwd"
   ]
  },
  {
   "cell_type": "code",
   "execution_count": 4,
   "metadata": {},
   "outputs": [],
   "source": [
    "d1_pdf = pd.read_csv(\"../data/corona_01.csv\")\n",
    "d2_pdf = pd.read_csv(\"../data/corona_02.csv\")\n",
    "d3_pdf = pd.read_csv(\"../data/corona_03.csv\")\n",
    "d4_pdf = pd.read_csv(\"../data/corona_04.csv\")\n",
    "\n"
   ]
  },
  {
   "cell_type": "code",
   "execution_count": 5,
   "metadata": {},
   "outputs": [],
   "source": [
    "##cr_pdf = pd.concat([d1_pdf,d2_pdf,d3_pdf,d4_pdf], axis=1)\n"
   ]
  },
  {
   "cell_type": "code",
   "execution_count": 35,
   "metadata": {},
   "outputs": [
    {
     "data": {
      "text/html": [
       "<div>\n",
       "<style scoped>\n",
       "    .dataframe tbody tr th:only-of-type {\n",
       "        vertical-align: middle;\n",
       "    }\n",
       "\n",
       "    .dataframe tbody tr th {\n",
       "        vertical-align: top;\n",
       "    }\n",
       "\n",
       "    .dataframe thead th {\n",
       "        text-align: right;\n",
       "    }\n",
       "</style>\n",
       "<table border=\"1\" class=\"dataframe\">\n",
       "  <thead>\n",
       "    <tr style=\"text-align: right;\">\n",
       "      <th></th>\n",
       "      <th>Country</th>\n",
       "      <th>January 29 cases</th>\n",
       "      <th>February 9 2020 cases</th>\n",
       "      <th>February 11 cases</th>\n",
       "      <th>February 18 cases</th>\n",
       "      <th>Feb. 20 cases</th>\n",
       "      <th>Feb. 21 cases</th>\n",
       "      <th>Feb. 22 cases</th>\n",
       "      <th>Feb. 23 cases</th>\n",
       "      <th>Feb. 24 cases</th>\n",
       "      <th>Unnamed: 10</th>\n",
       "      <th>Total deaths (Feb 15)</th>\n",
       "      <th>Total deaths (Feb 18)</th>\n",
       "      <th>T.D. Feb 19</th>\n",
       "      <th>T.D. Feb 20</th>\n",
       "      <th>T.D. Feb 21</th>\n",
       "      <th>T.D. Feb 22</th>\n",
       "      <th>T.D. Feb 23</th>\n",
       "      <th>T.D. Feb 24</th>\n",
       "    </tr>\n",
       "  </thead>\n",
       "  <tbody>\n",
       "    <tr>\n",
       "      <th>1</th>\n",
       "      <td>Australia</td>\n",
       "      <td>NaN</td>\n",
       "      <td>NaN</td>\n",
       "      <td>NaN</td>\n",
       "      <td>15</td>\n",
       "      <td>15</td>\n",
       "      <td>15</td>\n",
       "      <td>21</td>\n",
       "      <td>22</td>\n",
       "      <td>22</td>\n",
       "      <td>NaN</td>\n",
       "      <td>0</td>\n",
       "      <td>0</td>\n",
       "      <td>0</td>\n",
       "      <td>0</td>\n",
       "      <td>0</td>\n",
       "      <td>0</td>\n",
       "      <td>0</td>\n",
       "      <td>0</td>\n",
       "    </tr>\n",
       "  </tbody>\n",
       "</table>\n",
       "</div>"
      ],
      "text/plain": [
       "     Country January 29 cases February 9 2020 cases February 11 cases   \\\n",
       "1  Australia              NaN                   NaN                NaN   \n",
       "\n",
       "  February 18 cases  Feb. 20 cases  Feb. 21 cases  Feb. 22 cases   \\\n",
       "1                 15             15             15             21   \n",
       "\n",
       "  Feb. 23 cases  Feb. 24 cases   Unnamed: 10  Total deaths (Feb 15)  \\\n",
       "1             22             22          NaN                      0   \n",
       "\n",
       "  Total deaths (Feb 18) T.D. Feb 19 T.D. Feb 20 T.D. Feb 21 T.D. Feb 22  \\\n",
       "1                     0           0           0           0           0   \n",
       "\n",
       "  T.D. Feb 23 T.D. Feb 24  \n",
       "1           0           0  "
      ]
     },
     "execution_count": 35,
     "metadata": {},
     "output_type": "execute_result"
    }
   ],
   "source": [
    "filtered1_pdf = d1_pdf.sort_values(by=\"Country\")[1:]\n",
    "aus01_pdf = d1_pdf.sort_values(by=\"Country\")[1:2]\n",
    "aus01_pdf"
   ]
  },
  {
   "cell_type": "markdown",
   "metadata": {},
   "source": []
  },
  {
   "cell_type": "code",
   "execution_count": 30,
   "metadata": {},
   "outputs": [],
   "source": [
    "def split_cases(aus03_pdf):\n",
    "    aus03_pdf = aus03_pdf.T\n",
    "\n",
    "    aus03_pdf = aus03_pdf.reset_index()\n",
    "\n",
    "    aus03_pdf = aus03_pdf.rename(columns=aus03_pdf.iloc[0])\n",
    "    # aus03_pdf = aus03_pdf.rename(columns={'Country':'Case'}) \n",
    "    aus03_pdf.columns = ['Case', 'Count']\n",
    "\n",
    "    aus03_pdf = aus03_pdf.dropna()\n",
    "\n",
    "    aus03_pdf = aus03_pdf[1:]\n",
    "\n",
    "    aus03_inf_pdf = aus03_pdf[aus03_pdf['Case'].str.contains(\"case\")]\n",
    "    aus03_dth_pdf = aus03_pdf[aus03_pdf['Case'].str.contains(\"T.D.\")]\n",
    "    aus03_rco_pdf = aus03_pdf[aus03_pdf['Case'].str.contains(\"Recov\")]\n",
    "    \n",
    "    return (aus03_inf_pdf, aus03_dth_pdf, aus03_rco_pdf)"
   ]
  },
  {
   "cell_type": "code",
   "execution_count": 31,
   "metadata": {},
   "outputs": [
    {
     "name": "stdout",
     "output_type": "stream",
     "text": [
      "Total case 19 with 6 infected, 6 dead and 0 recovered.\n"
     ]
    }
   ],
   "source": [
    "filtered1_pdf = d1_pdf.sort_values(by=\"Country\")[1:]\n",
    "aus01_pdf = d1_pdf.sort_values(by=\"Country\")[1:2]\n",
    "(aus01_inf_pdf, aus01_dth_pdf, aus01_rco_pdf) = split_cases(aus01_pdf)\n",
    "print(f\"Total case {len(aus01_pdf.T)} with {len(aus01_inf_pdf)} infected, {len(aus01_dth_pdf)} dead and {len(aus01_rco_pdf)} recovered.\")\n"
   ]
  },
  {
   "cell_type": "code",
   "execution_count": 32,
   "metadata": {},
   "outputs": [
    {
     "name": "stdout",
     "output_type": "stream",
     "text": [
      "Total case 37 with 14 infected, 14 dead and 6 recovered.\n"
     ]
    }
   ],
   "source": [
    "filtered2_pdf = d2_pdf.sort_values(by=\"Country\")\n",
    "aus02_pdf = filtered2_pdf[6:7] ## \n",
    "(aus02_inf_pdf, aus02_dth_pdf, aus02_rco_pdf) = split_cases(aus02_pdf)\n",
    "print(f\"Total case {len(aus02_pdf.T)} with {len(aus02_inf_pdf)} infected, {len(aus02_dth_pdf)} dead and {len(aus02_rco_pdf)} recovered.\")\n"
   ]
  },
  {
   "cell_type": "code",
   "execution_count": 33,
   "metadata": {},
   "outputs": [
    {
     "name": "stdout",
     "output_type": "stream",
     "text": [
      "Total case 62 with 21 infected, 20 dead and 18 recovered.\n"
     ]
    }
   ],
   "source": [
    "filtered3_pdf = d3_pdf.sort_values(by=\"Country\")\n",
    "aus03_pdf = filtered3_pdf[10:11]\n",
    "(aus03_inf_pdf, aus03_dth_pdf, aus03_rco_pdf) = split_cases(aus03_pdf)\n",
    "print(f\"Total case {len(aus03_pdf.T)} with {len(aus03_inf_pdf)} infected, {len(aus03_dth_pdf)} dead and {len(aus03_rco_pdf)} recovered.\")"
   ]
  },
  {
   "cell_type": "code",
   "execution_count": 34,
   "metadata": {},
   "outputs": [
    {
     "name": "stdout",
     "output_type": "stream",
     "text": [
      "Total case 9 with 2 infected, 2 dead and 2 recovered.\n"
     ]
    }
   ],
   "source": [
    "filtered4_pdf = d4_pdf.sort_values(by=\"Country\")\n",
    "aus04_pdf = filtered4_pdf[10:11]\n",
    "(aus04_inf_pdf, aus04_dth_pdf, aus04_rco_pdf) = split_cases(aus04_pdf)\n",
    "print(f\"Total case {len(aus04_pdf.T)} with {len(aus04_inf_pdf)} infected, {len(aus04_dth_pdf)} dead and {len(aus04_rco_pdf)} recovered.\")"
   ]
  },
  {
   "cell_type": "code",
   "execution_count": null,
   "metadata": {},
   "outputs": [],
   "source": []
  },
  {
   "cell_type": "code",
   "execution_count": null,
   "metadata": {},
   "outputs": [],
   "source": []
  },
  {
   "cell_type": "code",
   "execution_count": null,
   "metadata": {},
   "outputs": [],
   "source": []
  },
  {
   "cell_type": "markdown",
   "metadata": {},
   "source": [
    "### Process infected"
   ]
  },
  {
   "cell_type": "code",
   "execution_count": 114,
   "metadata": {},
   "outputs": [
    {
     "data": {
      "image/png": "[encoded data removed]",
      "text/plain": [
       "<Figure size 1440x360 with 1 Axes>"
      ]
     },
     "metadata": {},
     "output_type": "display_data"
    }
   ],
   "source": [
    "aus_inf_pdf = pd.concat([aus01_inf_pdf,aus02_inf_pdf,aus03_inf_pdf,aus04_inf_pdf], axis=0)\n",
    "aus_inf_pdf = aus_inf_pdf.reset_index(drop=True)\n",
    "aus_inf_pdf.dtypes\n",
    "\n",
    "aus_inf_pdf[\"Count\"] = aus_inf_pdf[\"Count\"].str.replace(\",\", \"\")\n",
    "aus_inf_pdf[\"Count\"] = pd.to_numeric(aus_inf_pdf[\"Count\"])\n",
    "\n",
    "aus_inf_pdf[\"Case\"] = aus_inf_pdf[\"Case\"].str.replace(\" \", \"\")\n",
    "aus_inf_pdf[\"Case\"] = aus_inf_pdf[\"Case\"].str.replace(\"cases\", \"\")\n",
    "aus_inf_pdf[\"Case\"] = aus_inf_pdf[\"Case\"].str.replace(\"February\", \"02\")\n",
    "aus_inf_pdf[\"Case\"] = aus_inf_pdf[\"Case\"].str.replace(\"Feb.\", \"02\")\n",
    "aus_inf_pdf[\"Case\"] = aus_inf_pdf[\"Case\"].str.replace(\"Mar.\", \"03\")\n",
    "aus_inf_pdf[\"Case\"] = aus_inf_pdf[\"Case\"].astype(str)\n",
    "aus_inf_pdf[\"Case\"] = \"2020\" + aus_inf_pdf[\"Case\"] + \" 00:00:00\"\n",
    "\n",
    "aus_inf_pdf[\"Case\"] = pd.to_datetime(aus_inf_pdf[\"Case\"], format='%Y%m%d %H:%M:%S')\n",
    "\n",
    "aus_inf_pdf\n",
    "\n",
    "sns.set(rc={'figure.figsize':(20.7,8.27)})\n",
    "ax = sns.relplot(x=\"Case\", y=\"Count\", ci=95, kind=\"line\", aspect=4, data=aus_inf_pdf);\n",
    "ax.set_xticklabels(rotation=65, horizontalalignment='right');\n"
   ]
  },
  {
   "cell_type": "code",
   "execution_count": null,
   "metadata": {},
   "outputs": [],
   "source": []
  },
  {
   "cell_type": "markdown",
   "metadata": {},
   "source": [
    "### Process death"
   ]
  },
  {
   "cell_type": "code",
   "execution_count": 113,
   "metadata": {},
   "outputs": [
    {
     "data": {
      "image/png": "[encoded data removed]",
      "text/plain": [
       "<Figure size 1440x360 with 1 Axes>"
      ]
     },
     "metadata": {},
     "output_type": "display_data"
    }
   ],
   "source": [
    "aus_dth_pdf = pd.concat([aus01_dth_pdf,aus02_dth_pdf,aus03_dth_pdf,aus04_dth_pdf], axis=0)\n",
    "aus_dth_pdf = aus_dth_pdf.reset_index(drop=True)\n",
    "aus_dth_pdf.dtypes\n",
    "\n",
    "aus_dth_pdf[\"Count\"] = aus_dth_pdf[\"Count\"].str.replace(\",\", \"\")\n",
    "aus_dth_pdf[\"Count\"] = pd.to_numeric(aus_dth_pdf[\"Count\"])\n",
    "aus_dth_pdf[\"Case\"] = aus_dth_pdf[\"Case\"].str.replace(\" \", \"\")\n",
    "aus_dth_pdf[\"Case\"] = aus_dth_pdf[\"Case\"].str.replace(\"T.D.\", \"\")\n",
    "\n",
    "aus_dth_pdf[\"Case\"] = aus_dth_pdf[\"Case\"].str.replace(\"Feb\", \"02\")\n",
    "aus_dth_pdf[\"Case\"] = aus_dth_pdf[\"Case\"].str.replace(\"Mar\", \"03\")\n",
    "aus_dth_pdf[\"Case\"] = aus_dth_pdf[\"Case\"].str.replace(\".\", \"\")\n",
    "aus_dth_pdf\n",
    "\n",
    "aus_dth_pdf[\"Case\"] = aus_dth_pdf[\"Case\"].astype(str)\n",
    "aus_dth_pdf[\"Case\"] = \"2020\" + aus_dth_pdf[\"Case\"] + \" 00:00:00\"\n",
    "#aus_dth_pdf\n",
    "\n",
    "aus_dth_pdf[\"Case\"] = pd.to_datetime(aus_dth_pdf[\"Case\"], format='%Y%m%d %H:%M:%S')\n",
    "\n",
    "sns.set(rc={'figure.figsize':(20.7,8.27)})\n",
    "ax = sns.relplot(x=\"Case\", y=\"Count\", ci=95, kind=\"line\", aspect=4, data=aus_dth_pdf);\n",
    "ax.set_xticklabels(rotation=65, horizontalalignment='right');\n",
    "\n"
   ]
  },
  {
   "cell_type": "markdown",
   "metadata": {},
   "source": [
    "### Process recovered"
   ]
  },
  {
   "cell_type": "code",
   "execution_count": 116,
   "metadata": {},
   "outputs": [
    {
     "data": {
      "image/png": "[encoded data removed]",
      "text/plain": [
       "<Figure size 1440x360 with 1 Axes>"
      ]
     },
     "metadata": {},
     "output_type": "display_data"
    }
   ],
   "source": [
    "aus_rco_pdf = pd.concat([aus01_rco_pdf,aus02_rco_pdf,aus03_rco_pdf,aus04_rco_pdf], axis=0)\n",
    "aus_rco_pdf = aus_rco_pdf.reset_index(drop=True)\n",
    "\n",
    "aus_rco_pdf.dtypes\n",
    "\n",
    "aus_rco_pdf[\"Count\"] = aus_rco_pdf[\"Count\"].str.replace(\",\", \"\")\n",
    "aus_rco_pdf[\"Count\"] = pd.to_numeric(aus_rco_pdf[\"Count\"])\n",
    "\n",
    "aus_rco_pdf[\"Case\"] = aus_rco_pdf[\"Case\"].str.replace(\" \", \"\")\n",
    "aus_rco_pdf[\"Case\"] = aus_rco_pdf[\"Case\"].str.replace(\"T.Recov.\", \"\")\n",
    "aus_rco_pdf[\"Case\"] = aus_rco_pdf[\"Case\"].str.replace(\"Feb\", \"02\")\n",
    "aus_rco_pdf[\"Case\"] = aus_rco_pdf[\"Case\"].str.replace(\"Mar\", \"03\")\n",
    "aus_rco_pdf[\"Case\"] = aus_rco_pdf[\"Case\"].str.replace(\".\", \"\")\n",
    "aus_rco_pdf[\"Case\"] = aus_rco_pdf[\"Case\"].str.replace(\"Feb\", \"02\")\n",
    "aus_rco_pdf[\"Case\"] = aus_rco_pdf[\"Case\"].str.replace(\"Mar\", \"03\")\n",
    "aus_rco_pdf[\"Case\"] = aus_rco_pdf[\"Case\"].str.replace(\".\", \"\")\n",
    "aus_rco_pdf[\"Case\"] = aus_rco_pdf[\"Case\"].astype(str)\n",
    "aus_rco_pdf[\"Case\"] = \"2020\" + aus_rco_pdf[\"Case\"] + \" 00:00:00\"\n",
    "#aus_rco_pdf\n",
    "\n",
    "aus_rco_pdf[\"Case\"] = pd.to_datetime(aus_rco_pdf[\"Case\"], format='%Y%m%d %H:%M:%S')\n",
    "\n",
    "sns.set(rc={'figure.figsize':(20.7,8.27)})\n",
    "ax = sns.relplot(x=\"Case\", y=\"Count\", ci=95, kind=\"line\", aspect=4, data=aus_rco_pdf);\n",
    "ax.set_xticklabels(rotation=65, horizontalalignment='right');"
   ]
  },
  {
   "cell_type": "code",
   "execution_count": null,
   "metadata": {},
   "outputs": [],
   "source": []
  },
  {
   "cell_type": "code",
   "execution_count": null,
   "metadata": {},
   "outputs": [],
   "source": []
  },
  {
   "cell_type": "code",
   "execution_count": null,
   "metadata": {},
   "outputs": [],
   "source": []
  },
  {
   "cell_type": "code",
   "execution_count": null,
   "metadata": {},
   "outputs": [],
   "source": []
  },
  {
   "cell_type": "code",
   "execution_count": null,
   "metadata": {},
   "outputs": [],
   "source": []
  },
  {
   "cell_type": "code",
   "execution_count": null,
   "metadata": {},
   "outputs": [],
   "source": []
  },
  {
   "cell_type": "code",
   "execution_count": null,
   "metadata": {},
   "outputs": [],
   "source": []
  },
  {
   "cell_type": "code",
   "execution_count": null,
   "metadata": {},
   "outputs": [],
   "source": []
  },
  {
   "cell_type": "code",
   "execution_count": null,
   "metadata": {},
   "outputs": [],
   "source": []
  }
 ],
 "metadata": {
  "kernelspec": {
   "display_name": "Python 3",
   "language": "python",
   "name": "python3"
  },
  "language_info": {
   "codemirror_mode": {
    "name": "ipython",
    "version": 3
   },
   "file_extension": ".py",
   "mimetype": "text/x-python",
   "name": "python",
   "nbconvert_exporter": "python",
   "pygments_lexer": "ipython3",
   "version": "3.7.5"
  }
 },
 "nbformat": 4,
 "nbformat_minor": 2
}

{
 "cells": [
  {
   "cell_type": "code",
   "execution_count": 1,
   "id": "egyptian-combat",
   "metadata": {},
   "outputs": [],
   "source": [
    "from IPython.core.interactiveshell import InteractiveShell\n",
    "InteractiveShell.ast_node_interactivity = \"all\"\n"
   ]
  },
  {
   "cell_type": "markdown",
   "id": "technical-dryer",
   "metadata": {},
   "source": []
  },
  {
   "cell_type": "code",
   "execution_count": 2,
   "id": "searching-listening",
   "metadata": {},
   "outputs": [],
   "source": [
    "# *** Didn't work so far.\n",
    "# https://github.com/siznax/wptools\n",
    "# !pip3 install wptools\n",
    "# import wptools"
   ]
  },
  {
   "cell_type": "code",
   "execution_count": 3,
   "id": "auburn-salon",
   "metadata": {},
   "outputs": [],
   "source": [
    "# !pip install qwikidata"
   ]
  },
  {
   "cell_type": "markdown",
   "id": "union-prompt",
   "metadata": {},
   "source": [
    "### Qwikidata for SPRQL query \n",
    "\n",
    "https://github.com/kensho-technologies/qwikidata/\n",
    "https://qwikidata.readthedocs.io/en/stable/readme.html"
   ]
  },
  {
   "cell_type": "code",
   "execution_count": 22,
   "id": "corrected-injury",
   "metadata": {},
   "outputs": [
    {
     "data": {
      "text/plain": [
       "{'head': {'vars': ['item', 'itemLabel', 'itemDescription']},\n",
       " 'results': {'bindings': [{'item': {'type': 'uri',\n",
       "     'value': 'http://www.wikidata.org/entity/Q1754'},\n",
       "    'itemLabel': {'xml:lang': 'en', 'type': 'literal', 'value': 'Stockholm'},\n",
       "    'itemDescription': {'xml:lang': 'en',\n",
       "     'type': 'literal',\n",
       "     'value': 'capital of Sweden'}},\n",
       "   {'item': {'type': 'uri', 'value': 'http://www.wikidata.org/entity/Q360947'},\n",
       "    'itemLabel': {'xml:lang': 'en', 'type': 'literal', 'value': 'Stockholm'},\n",
       "    'itemDescription': {'xml:lang': 'en',\n",
       "     'type': 'literal',\n",
       "     'value': 'Wikimedia disambiguation page'}},\n",
       "   {'item': {'type': 'uri', 'value': 'http://www.wikidata.org/entity/Q976601'},\n",
       "    'itemLabel': {'xml:lang': 'en', 'type': 'literal', 'value': 'Stockholm'},\n",
       "    'itemDescription': {'xml:lang': 'en',\n",
       "     'type': 'literal',\n",
       "     'value': 'village in Pepin County, Wisconsin, United States'}},\n",
       "   {'item': {'type': 'uri', 'value': 'http://www.wikidata.org/entity/Q104231'},\n",
       "    'itemLabel': {'xml:lang': 'en',\n",
       "     'type': 'literal',\n",
       "     'value': 'Stockholm County'},\n",
       "    'itemDescription': {'xml:lang': 'en',\n",
       "     'type': 'literal',\n",
       "     'value': 'county (län) In Sweden'}},\n",
       "   {'item': {'type': 'uri', 'value': 'http://www.wikidata.org/entity/Q94385'},\n",
       "    'itemLabel': {'xml:lang': 'en',\n",
       "     'type': 'literal',\n",
       "     'value': 'Stockholm urban area'},\n",
       "    'itemDescription': {'xml:lang': 'en',\n",
       "     'type': 'literal',\n",
       "     'value': 'urban area in Stockholm County, Sweden'}},\n",
       "   {'item': {'type': 'uri',\n",
       "     'value': 'http://www.wikidata.org/entity/Q3447382'},\n",
       "    'itemLabel': {'xml:lang': 'en', 'type': 'literal', 'value': 'Stockholm'},\n",
       "    'itemDescription': {'xml:lang': 'en',\n",
       "     'type': 'literal',\n",
       "     'value': 'town in Maine, USA'}},\n",
       "   {'item': {'type': 'uri',\n",
       "     'value': 'http://www.wikidata.org/entity/Q1787199'},\n",
       "    'itemLabel': {'xml:lang': 'en', 'type': 'literal', 'value': 'Stockholm'},\n",
       "    'itemDescription': {'xml:lang': 'en',\n",
       "     'type': 'literal',\n",
       "     'value': 'town in South Dakota, United States of America'}},\n",
       "   {'item': {'type': 'uri',\n",
       "     'value': 'http://www.wikidata.org/entity/Q2204842'},\n",
       "    'itemLabel': {'xml:lang': 'en', 'type': 'literal', 'value': 'Stockholm'},\n",
       "    'itemDescription': {'xml:lang': 'en',\n",
       "     'type': 'literal',\n",
       "     'value': 'village in Saskatchewan, Canada'}},\n",
       "   {'item': {'type': 'uri',\n",
       "     'value': 'http://www.wikidata.org/entity/Q1915819'},\n",
       "    'itemLabel': {'xml:lang': 'en',\n",
       "     'type': 'literal',\n",
       "     'value': 'Stockholm Township'},\n",
       "    'itemDescription': {'xml:lang': 'en',\n",
       "     'type': 'literal',\n",
       "     'value': 'township in Wright County, Minnesota, USA'}},\n",
       "   {'item': {'type': 'uri',\n",
       "     'value': 'http://www.wikidata.org/entity/Q1894234'},\n",
       "    'itemLabel': {'xml:lang': 'en',\n",
       "     'type': 'literal',\n",
       "     'value': 'Stockholm Township'},\n",
       "    'itemDescription': {'xml:lang': 'en',\n",
       "     'type': 'literal',\n",
       "     'value': 'township in Iowa, USA'}},\n",
       "   {'item': {'type': 'uri',\n",
       "     'value': 'http://www.wikidata.org/entity/Q2839702'},\n",
       "    'itemLabel': {'xml:lang': 'en', 'type': 'literal', 'value': 'Stockholm'},\n",
       "    'itemDescription': {'xml:lang': 'en',\n",
       "     'type': 'literal',\n",
       "     'value': 'town in New York, USA'}},\n",
       "   {'item': {'type': 'uri', 'value': 'http://www.wikidata.org/entity/Q506250'},\n",
       "    'itemLabel': {'xml:lang': 'en',\n",
       "     'type': 'literal',\n",
       "     'value': 'Stockholm Municipality'},\n",
       "    'itemDescription': {'xml:lang': 'en',\n",
       "     'type': 'literal',\n",
       "     'value': 'municipality in Stockholm County, Sweden'}},\n",
       "   {'item': {'type': 'uri',\n",
       "     'value': 'http://www.wikidata.org/entity/Q1129910'},\n",
       "    'itemLabel': {'xml:lang': 'en', 'type': 'literal', 'value': 'SS Potsdam'},\n",
       "    'itemDescription': {'xml:lang': 'en',\n",
       "     'type': 'literal',\n",
       "     'value': 'ocean liner'}},\n",
       "   {'item': {'type': 'uri',\n",
       "     'value': 'http://www.wikidata.org/entity/Q2117332'},\n",
       "    'itemLabel': {'xml:lang': 'en',\n",
       "     'type': 'literal',\n",
       "     'value': 'Stockholm class corvette'},\n",
       "    'itemDescription': {'xml:lang': 'en',\n",
       "     'type': 'literal',\n",
       "     'value': 'Swedish class of corvettes'}},\n",
       "   {'item': {'type': 'uri',\n",
       "     'value': 'http://www.wikidata.org/entity/Q1484620'},\n",
       "    'itemLabel': {'xml:lang': 'en',\n",
       "     'type': 'literal',\n",
       "     'value': '10552 Stockholm'},\n",
       "    'itemDescription': {'xml:lang': 'en',\n",
       "     'type': 'literal',\n",
       "     'value': 'asteroid'}},\n",
       "   {'item': {'type': 'uri',\n",
       "     'value': 'http://www.wikidata.org/entity/Q1287501'},\n",
       "    'itemLabel': {'xml:lang': 'en',\n",
       "     'type': 'literal',\n",
       "     'value': 'Edor Hjukström'},\n",
       "    'itemDescription': {'xml:lang': 'en',\n",
       "     'type': 'literal',\n",
       "     'value': 'Stockholm'}},\n",
       "   {'item': {'type': 'uri',\n",
       "     'value': 'http://www.wikidata.org/entity/Q17151279'},\n",
       "    'itemLabel': {'xml:lang': 'en', 'type': 'literal', 'value': 'Stockholm'},\n",
       "    'itemDescription': {'xml:lang': 'en',\n",
       "     'type': 'literal',\n",
       "     'value': 'album by Chrissie Hynde'}},\n",
       "   {'item': {'type': 'uri',\n",
       "     'value': 'http://www.wikidata.org/entity/Q10680443'},\n",
       "    'itemLabel': {'xml:lang': 'en', 'type': 'literal', 'value': 'Stockholm'},\n",
       "    'itemDescription': {'xml:lang': 'en',\n",
       "     'type': 'literal',\n",
       "     'value': '1992 Orup song'}},\n",
       "   {'item': {'type': 'uri',\n",
       "     'value': 'http://www.wikidata.org/entity/Q7617988'},\n",
       "    'itemLabel': {'xml:lang': 'en', 'type': 'literal', 'value': 'Stockholm'},\n",
       "    'itemDescription': {'xml:lang': 'en',\n",
       "     'type': 'literal',\n",
       "     'value': 'community in New Jersey, USA'}},\n",
       "   {'item': {'type': 'uri',\n",
       "     'value': 'http://www.wikidata.org/entity/Q10515155'},\n",
       "    'itemLabel': {'xml:lang': 'en',\n",
       "     'type': 'literal',\n",
       "     'value': 'HMS Stockholm'},\n",
       "    'itemDescription': {'xml:lang': 'en',\n",
       "     'type': 'literal',\n",
       "     'value': 'Swedish navy Stockholm class corvette'}},\n",
       "   {'item': {'type': 'uri',\n",
       "     'value': 'http://www.wikidata.org/entity/Q10680442'},\n",
       "    'itemLabel': {'xml:lang': 'en', 'type': 'literal', 'value': 'Stockholm'},\n",
       "    'itemDescription': {'xml:lang': 'en',\n",
       "     'type': 'literal',\n",
       "     'value': 'song from 1981 written by Pugh Rogefeldt'}},\n",
       "   {'item': {'type': 'uri',\n",
       "     'value': 'http://www.wikidata.org/entity/Q10587258'},\n",
       "    'itemLabel': {'xml:lang': 'en',\n",
       "     'type': 'literal',\n",
       "     'value': 'Moderna Dansteatern'},\n",
       "    'itemDescription': {'xml:lang': 'en',\n",
       "     'type': 'literal',\n",
       "     'value': 'Stockholm'}},\n",
       "   {'item': {'type': 'uri',\n",
       "     'value': 'http://www.wikidata.org/entity/Q10466683'},\n",
       "    'itemLabel': {'xml:lang': 'en', 'type': 'literal', 'value': 'Dansens hus'},\n",
       "    'itemDescription': {'xml:lang': 'en',\n",
       "     'type': 'literal',\n",
       "     'value': 'Stockholm'}},\n",
       "   {'item': {'type': 'uri',\n",
       "     'value': 'http://www.wikidata.org/entity/Q21975174'},\n",
       "    'itemLabel': {'xml:lang': 'en', 'type': 'literal', 'value': 'Stockholm'},\n",
       "    'itemDescription': {'xml:lang': 'en',\n",
       "     'type': 'literal',\n",
       "     'value': 'island in Finland'}},\n",
       "   {'item': {'type': 'uri',\n",
       "     'value': 'http://www.wikidata.org/entity/Q10515151'},\n",
       "    'itemLabel': {'type': 'literal', 'value': 'Q10515151'}},\n",
       "   {'item': {'type': 'uri',\n",
       "     'value': 'http://www.wikidata.org/entity/Q10515152'},\n",
       "    'itemLabel': {'xml:lang': 'en',\n",
       "     'type': 'literal',\n",
       "     'value': 'HMS Stockholm'},\n",
       "    'itemDescription': {'xml:lang': 'en',\n",
       "     'type': 'literal',\n",
       "     'value': 'Swedish Göteborg-class destroyer'}},\n",
       "   {'item': {'type': 'uri',\n",
       "     'value': 'http://www.wikidata.org/entity/Q24454832'},\n",
       "    'itemLabel': {'type': 'literal', 'value': 'Q24454832'},\n",
       "    'itemDescription': {'xml:lang': 'en',\n",
       "     'type': 'literal',\n",
       "     'value': 'island in Finland Proper, Finland'}},\n",
       "   {'item': {'type': 'uri',\n",
       "     'value': 'http://www.wikidata.org/entity/Q24455554'},\n",
       "    'itemLabel': {'type': 'literal', 'value': 'Q24455554'},\n",
       "    'itemDescription': {'xml:lang': 'en',\n",
       "     'type': 'literal',\n",
       "     'value': 'island in Finland Proper, Finland'}},\n",
       "   {'item': {'type': 'uri',\n",
       "     'value': 'http://www.wikidata.org/entity/Q18385622'},\n",
       "    'itemLabel': {'xml:lang': 'en', 'type': 'literal', 'value': 'Stockholm'},\n",
       "    'itemDescription': {'xml:lang': 'en',\n",
       "     'type': 'literal',\n",
       "     'value': 'human settlement in United States of America'}},\n",
       "   {'item': {'type': 'uri',\n",
       "     'value': 'http://www.wikidata.org/entity/Q28452386'},\n",
       "    'itemLabel': {'xml:lang': 'en', 'type': 'literal', 'value': 'Stockholm'},\n",
       "    'itemDescription': {'xml:lang': 'en',\n",
       "     'type': 'literal',\n",
       "     'value': '1964 song performed by Lawrence Welk'}},\n",
       "   {'item': {'type': 'uri',\n",
       "     'value': 'http://www.wikidata.org/entity/Q56276896'},\n",
       "    'itemLabel': {'xml:lang': 'en', 'type': 'literal', 'value': 'Stockholm'},\n",
       "    'itemDescription': {'xml:lang': 'en',\n",
       "     'type': 'literal',\n",
       "     'value': 'national area in Sweden'}},\n",
       "   {'item': {'type': 'uri',\n",
       "     'value': 'http://www.wikidata.org/entity/Q19364062'},\n",
       "    'itemLabel': {'xml:lang': 'en', 'type': 'literal', 'value': 'Stockholm'},\n",
       "    'itemDescription': {'xml:lang': 'en',\n",
       "     'type': 'literal',\n",
       "     'value': '2013 film by Rodrigo Sorogoyen'}},\n",
       "   {'item': {'type': 'uri',\n",
       "     'value': 'http://www.wikidata.org/entity/Q7617991'},\n",
       "    'itemLabel': {'xml:lang': 'en', 'type': 'literal', 'value': 'Stockholm'},\n",
       "    'itemDescription': {'xml:lang': 'en',\n",
       "     'type': 'literal',\n",
       "     'value': 'album by The Triffids'}},\n",
       "   {'item': {'type': 'uri',\n",
       "     'value': 'http://www.wikidata.org/entity/Q3499595'},\n",
       "    'itemLabel': {'xml:lang': 'en', 'type': 'literal', 'value': 'Stockholm'},\n",
       "    'itemDescription': {'xml:lang': 'en',\n",
       "     'type': 'literal',\n",
       "     'value': 'album by Jean-Louis Aubert'}},\n",
       "   {'item': {'type': 'uri',\n",
       "     'value': 'http://www.wikidata.org/entity/Q30599096'},\n",
       "    'itemLabel': {'xml:lang': 'en', 'type': 'literal', 'value': 'Stockholm'},\n",
       "    'itemDescription': {'xml:lang': 'en',\n",
       "     'type': 'literal',\n",
       "     'value': '2018 film'}}]}}"
      ]
     },
     "execution_count": 22,
     "metadata": {},
     "output_type": "execute_result"
    }
   ],
   "source": [
    "from qwikidata.sparql import (get_subclasses_of_item, return_sparql_query_results)\n",
    "\n",
    "# send any sparql query to the wikidata query service and get full result back\n",
    "# here we use an example that Searches Zlatan Ibrahimović / Stockholm\n",
    "sparql_query = \"\"\"\n",
    "SELECT distinct ?item ?itemLabel ?itemDescription \n",
    "WHERE{    \n",
    "  {?item ?label \"Stockholm\"@en .}\n",
    "  UNION\n",
    "  {?item ?label \"Stockholm\"@sv .}\n",
    "  ?article schema:about ?item .\n",
    "  {?article schema:inLanguage \"en\" .}\n",
    "  UNION\n",
    "  {?article schema:inLanguage \"sv\" .}\n",
    "  {?article schema:isPartOf <https://en.wikipedia.org/> . }\n",
    "  UNION\n",
    "  {?article schema:isPartOf <https://sv.wikipedia.org/> . }\t\n",
    "  SERVICE wikibase:label { bd:serviceParam wikibase:language \"en\". }\n",
    "}\n",
    "\"\"\"\n",
    "res = return_sparql_query_results(sparql_query)\n",
    "res"
   ]
  },
  {
   "cell_type": "code",
   "execution_count": null,
   "id": "constitutional-journalist",
   "metadata": {},
   "outputs": [],
   "source": []
  },
  {
   "cell_type": "code",
   "execution_count": 18,
   "id": "understood-rolling",
   "metadata": {},
   "outputs": [
    {
     "data": {
      "text/plain": [
       "['Q46896']"
      ]
     },
     "execution_count": 18,
     "metadata": {},
     "output_type": "execute_result"
    }
   ],
   "source": [
    "# use convenience function to get subclasses of an item as a list of item ids\n",
    "Q_RIVER = \"Q46896\"\n",
    "subclasses_of_river = get_subclasses_of_item(Q_RIVER)\n",
    "subclasses_of_river"
   ]
  },
  {
   "cell_type": "code",
   "execution_count": null,
   "id": "brazilian-decline",
   "metadata": {},
   "outputs": [],
   "source": []
  },
  {
   "cell_type": "code",
   "execution_count": null,
   "id": "driving-requirement",
   "metadata": {},
   "outputs": [],
   "source": []
  },
  {
   "cell_type": "code",
   "execution_count": null,
   "id": "effective-morris",
   "metadata": {},
   "outputs": [],
   "source": []
  },
  {
   "cell_type": "code",
   "execution_count": null,
   "id": "delayed-verse",
   "metadata": {},
   "outputs": [],
   "source": []
  },
  {
   "cell_type": "code",
   "execution_count": null,
   "id": "enormous-inventory",
   "metadata": {},
   "outputs": [],
   "source": []
  },
  {
   "cell_type": "markdown",
   "id": "painful-format",
   "metadata": {},
   "source": [
    "## Query wiki data with wptools\n",
    "\n",
    "### First need to fix the pycurl installation (for Mac)\n",
    "\n",
    "Get into pipenv\n",
    "`pipenv shell`\n",
    "\n",
    "`pip uninstall pycurl`\n",
    "\n",
    "Exporting two constants \n",
    "\n",
    "`export CPPFLAGS=-I/usr/local/opt/openssl/include`\n",
    "\n",
    "`export LDFLAGS=-L/usr/local/opt/openssl/lib`\n",
    "\n",
    "Optionally\n",
    "`export PYCURL_SSL_LIBRARY=openssl`\n",
    " \n",
    "\n",
    "Installing with pip\n",
    "\n",
    "`pip install pycurl --global-option=\"--with-openssl\"`\n",
    "\n",
    "### Install wptools\n",
    "\n",
    "`pip install wptools`\n",
    "\n",
    "\n"
   ]
  },
  {
   "cell_type": "code",
   "execution_count": 2,
   "id": "alike-trance",
   "metadata": {},
   "outputs": [],
   "source": [
    "import wptools"
   ]
  },
  {
   "cell_type": "code",
   "execution_count": 3,
   "id": "portable-sierra",
   "metadata": {},
   "outputs": [],
   "source": [
    "page = wptools.page('Gandhi')"
   ]
  },
  {
   "cell_type": "code",
   "execution_count": 4,
   "id": "natural-greene",
   "metadata": {},
   "outputs": [
    {
     "name": "stderr",
     "output_type": "stream",
     "text": [
      "en.wikipedia.org (query) Gandhi\n",
      "en.wikipedia.org (query) Mahatma Gandhi (&plcontinue=19379|0|Fran...\n",
      "en.wikipedia.org (query) Mahatma Gandhi (&plcontinue=19379|0|Maha...\n",
      "en.wikipedia.org (query) Mahatma Gandhi (&plcontinue=19379|0|Sidd...\n",
      "en.wikipedia.org (imageinfo) File:Mahatma-Gandhi, studio, 1931.jpg\n",
      "Mahatma Gandhi (en) data\n",
      "{\n",
      "  WARNINGS: <dict(1)> extracts\n",
      "  aliases: <list(12)> Mahatma Mohandas Karamchand Gandhi, M. K. Ga...\n",
      "  assessments: <dict(10)> Biography, Politics, Alternative Views, ...\n",
      "  description: <str(75)> pre-eminent leader of Indian nationalism ...\n",
      "  extext: <str(3464)> **Mohandas Karamchand Gandhi** (; 2 October ...\n",
      "  extract: <str(3617)> <p class=\"mw-empty-elt\"></p><p><b>Mohandas ...\n",
      "  image: <list(8)> {'kind': 'query-pageimage', 'file': 'File:Mahat...\n",
      "  label: Mahatma Gandhi\n",
      "  length: 291,612\n",
      "  links: <list(1870)> 10, Janpath, 120461 Gandhi, 14th Dalai Lama,...\n",
      "  modified: <dict(1)> page\n",
      "  pageid: 19379\n",
      "  random: Goczałków Górny\n",
      "  redirects: <list(52)> {'pageid': 55342, 'ns': 0, 'title': 'Mahat...\n",
      "  requests: <list(5)> query, query, query, query, imageinfo\n",
      "  title: Mahatma Gandhi\n",
      "  url: https://en.wikipedia.org/wiki/Mahatma_Gandhi\n",
      "  url_raw: https://en.wikipedia.org/wiki/Mahatma_Gandhi?action=raw\n",
      "  watchers: 2,265\n",
      "  wikibase: Q1001\n",
      "  wikidata_url: https://www.wikidata.org/wiki/Q1001\n",
      "}\n"
     ]
    },
    {
     "data": {
      "text/plain": [
       "<wptools.page.WPToolsPage at 0x105aa0e50>"
      ]
     },
     "execution_count": 4,
     "metadata": {},
     "output_type": "execute_result"
    }
   ],
   "source": [
    "page.get_query()"
   ]
  },
  {
   "cell_type": "code",
   "execution_count": 5,
   "id": "incorporate-manitoba",
   "metadata": {},
   "outputs": [
    {
     "name": "stderr",
     "output_type": "stream",
     "text": [
      "en.wikipedia.org (parse) 19379\n",
      "en.wikipedia.org (imageinfo) File:Mahatma-Gandhi, studio, 1931.jpg\n",
      "Mahatma Gandhi (en) data\n",
      "{\n",
      "  WARNINGS: <dict(1)> extracts\n",
      "  aliases: <list(12)> Mahatma Mohandas Karamchand Gandhi, M. K. Ga...\n",
      "  assessments: <dict(10)> Biography, Politics, Alternative Views, ...\n",
      "  description: <str(75)> pre-eminent leader of Indian nationalism ...\n",
      "  extext: <str(3464)> **Mohandas Karamchand Gandhi** (; 2 October ...\n",
      "  extract: <str(3617)> <p class=\"mw-empty-elt\"></p><p><b>Mohandas ...\n",
      "  image: <list(9)> {'kind': 'query-pageimage', 'file': 'File:Mahat...\n",
      "  infobox: <dict(26)> honorific_prefix, name, image, caption, citi...\n",
      "  iwlinks: <list(7)> https://commons.wikimedia.org/wiki/Mohandas_K...\n",
      "  label: Mahatma Gandhi\n",
      "  length: 291,612\n",
      "  links: <list(1870)> 10, Janpath, 120461 Gandhi, 14th Dalai Lama,...\n",
      "  modified: <dict(1)> page\n",
      "  pageid: 19379\n",
      "  parsetree: <str(365699)> <root><template><title>Short descriptio...\n",
      "  random: Goczałków Górny\n",
      "  redirects: <list(52)> {'pageid': 55342, 'ns': 0, 'title': 'Mahat...\n",
      "  requests: <list(7)> query, query, query, query, imageinfo, parse...\n",
      "  title: Mahatma Gandhi\n",
      "  url: https://en.wikipedia.org/wiki/Mahatma_Gandhi\n",
      "  url_raw: https://en.wikipedia.org/wiki/Mahatma_Gandhi?action=raw\n",
      "  watchers: 2,265\n",
      "  wikibase: Q1001\n",
      "  wikidata_url: https://www.wikidata.org/wiki/Q1001\n",
      "  wikitext: <str(290045)> {{Short description|20th-century Indian ...\n",
      "}\n"
     ]
    },
    {
     "data": {
      "text/plain": [
       "<wptools.page.WPToolsPage at 0x105aa0e50>"
      ]
     },
     "execution_count": 5,
     "metadata": {},
     "output_type": "execute_result"
    }
   ],
   "source": [
    "page.get_parse()"
   ]
  },
  {
   "cell_type": "code",
   "execution_count": 6,
   "id": "wicked-physics",
   "metadata": {},
   "outputs": [
    {
     "name": "stderr",
     "output_type": "stream",
     "text": [
      "www.wikidata.org (wikidata) Q1001\n",
      "www.wikidata.org (labels) P270|P2632|P1411|P863|P2959|P1741|P5905...\n",
      "www.wikidata.org (labels) Q1775277|P1670|P7829|P1430|P213|Q1568|P...\n",
      "www.wikidata.org (labels) P3847|P3065|P7827|Q100778893|P3909|P363...\n",
      "www.wikidata.org (labels) P4293|P7293|P7026|Q129286|P22|P1196|P39...\n",
      "www.wikidata.org (labels) P1006|P1375|P1213|P6404|Q312553|P866|Q9...\n",
      "www.wikidata.org (labels) P2607|Q194279|Q76611|P3219|P5739|P3192|...\n",
      "en.wikipedia.org (imageinfo) File:Mahatma-Gandhi, studio, 1931.jp...\n",
      "Mahatma Gandhi (en) data\n",
      "{\n",
      "  aliases: <list(12)> Mahatma Mohandas Karamchand Gandhi, M. K. Ga...\n",
      "  claims: <dict(215)> P27, P19, P20, P26, P157, P103, P69, P140, P...\n",
      "  description: <str(75)> pre-eminent leader of Indian nationalism ...\n",
      "  image: <list(3)> {'file': 'File:Portrait Gandhi.jpg', 'kind': 'w...\n",
      "  label: Mahatma Gandhi\n",
      "  labels: <dict(291)> P270, P2632, P1411, P863, P2959, P1741, P590...\n",
      "  modified: <dict(1)> wikidata\n",
      "  requests: <list(8)> wikidata, labels, labels, labels, labels, la...\n",
      "  title: Mahatma_Gandhi\n",
      "  what: human\n",
      "  wikibase: Q1001\n",
      "  wikidata: <dict(215)> country of citizenship (P27), place of bir...\n",
      "  wikidata_pageid: 1330\n",
      "  wikidata_url: https://www.wikidata.org/wiki/Q1001\n",
      "}\n"
     ]
    },
    {
     "data": {
      "text/plain": [
       "<wptools.page.WPToolsPage at 0x105c103d0>"
      ]
     },
     "execution_count": 6,
     "metadata": {},
     "output_type": "execute_result"
    }
   ],
   "source": [
    "page = wptools.page(wikibase='Q1001')\n",
    "page.get_wikidata()"
   ]
  },
  {
   "cell_type": "code",
   "execution_count": 7,
   "id": "improved-sword",
   "metadata": {},
   "outputs": [
    {
     "name": "stderr",
     "output_type": "stream",
     "text": [
      "en.wikipedia.org (restbase) /page/summary/Mahatma_Gandhi\n",
      "Mahatma Gandhi (en) data\n",
      "{\n",
      "  aliases: <list(12)> Mahatma Mohandas Karamchand Gandhi, M. K. Ga...\n",
      "  claims: <dict(215)> P27, P19, P20, P26, P157, P103, P69, P140, P...\n",
      "  description: 20th-century Indian nationalist leader\n",
      "  exhtml: <str(412)> <p><b>Mohandas Karamchand Gandhi</b> was an I...\n",
      "  exrest: <str(391)> Mohandas Karamchand Gandhi was an Indian lawy...\n",
      "  image: <list(5)> {'file': 'File:Portrait Gandhi.jpg', 'kind': 'w...\n",
      "  label: Mahatma Gandhi\n",
      "  labels: <dict(291)> P270, P2632, P1411, P863, P2959, P1741, P590...\n",
      "  modified: <dict(1)> wikidata\n",
      "  pageid: 19379\n",
      "  requests: <list(9)> wikidata, labels, labels, labels, labels, la...\n",
      "  title: Mahatma_Gandhi\n",
      "  url: https://en.wikipedia.org/wiki/Mahatma_Gandhi\n",
      "  url_raw: https://en.wikipedia.org/wiki/Mahatma_Gandhi?action=raw\n",
      "  what: human\n",
      "  wikibase: Q1001\n",
      "  wikidata: <dict(215)> country of citizenship (P27), place of bir...\n",
      "  wikidata_pageid: 1330\n",
      "  wikidata_url: https://www.wikidata.org/wiki/Q1001\n",
      "}\n"
     ]
    },
    {
     "data": {
      "text/plain": [
       "<wptools.page.WPToolsPage at 0x105c103d0>"
      ]
     },
     "execution_count": 7,
     "metadata": {},
     "output_type": "execute_result"
    }
   ],
   "source": [
    "page.get_restbase('/page/summary/')"
   ]
  },
  {
   "cell_type": "code",
   "execution_count": 8,
   "id": "decimal-import",
   "metadata": {},
   "outputs": [
    {
     "name": "stderr",
     "output_type": "stream",
     "text": [
      "+ wikidata results in cache\n",
      "en.wikipedia.org (query) Mahatma_Gandhi\n",
      "en.wikipedia.org (query) Mahatma Gandhi (&plcontinue=19379|0|Fran...\n",
      "en.wikipedia.org (query) Mahatma Gandhi (&plcontinue=19379|0|Maha...\n",
      "en.wikipedia.org (query) Mahatma Gandhi (&plcontinue=19379|0|Sidd...\n",
      "en.wikipedia.org (parse) 19379\n",
      "+ restbase results in cache\n",
      "Mahatma Gandhi (en) data\n",
      "{\n",
      "  WARNINGS: <dict(1)> extracts\n",
      "  aliases: <list(12)> Mahatma Mohandas Karamchand Gandhi, M. K. Ga...\n",
      "  assessments: <dict(10)> Biography, Politics, Alternative Views, ...\n",
      "  claims: <dict(215)> P27, P19, P20, P26, P157, P103, P69, P140, P...\n",
      "  description: <str(75)> pre-eminent leader of Indian nationalism ...\n",
      "  exhtml: <str(412)> <p><b>Mohandas Karamchand Gandhi</b> was an I...\n",
      "  exrest: <str(391)> Mohandas Karamchand Gandhi was an Indian lawy...\n",
      "  extext: <str(3464)> **Mohandas Karamchand Gandhi** (; 2 October ...\n",
      "  extract: <str(3617)> <p class=\"mw-empty-elt\"></p><p><b>Mohandas ...\n",
      "  image: <list(14)> {'file': 'File:Portrait Gandhi.jpg', 'kind': '...\n",
      "  infobox: <dict(26)> honorific_prefix, name, image, caption, citi...\n",
      "  iwlinks: <list(7)> https://commons.wikimedia.org/wiki/Mohandas_K...\n",
      "  label: Mahatma Gandhi\n",
      "  labels: <dict(291)> P270, P2632, P1411, P863, P2959, P1741, P590...\n",
      "  length: 291,612\n",
      "  links: <list(1870)> 10, Janpath, 120461 Gandhi, 14th Dalai Lama,...\n",
      "  modified: <dict(2)> wikidata, page\n",
      "  pageid: 19379\n",
      "  parsetree: <str(365699)> <root><template><title>Short descriptio...\n",
      "  random: Dayr Hafir\n",
      "  redirects: <list(52)> {'pageid': 55342, 'ns': 0, 'title': 'Mahat...\n",
      "  requests: <list(14)> wikidata, labels, labels, labels, labels, l...\n",
      "  title: Mahatma Gandhi\n",
      "  url: https://en.wikipedia.org/wiki/Mahatma_Gandhi\n",
      "  url_raw: https://en.wikipedia.org/wiki/Mahatma_Gandhi?action=raw\n",
      "  watchers: 2,265\n",
      "  what: human\n",
      "  wikibase: Q1001\n",
      "  wikidata: <dict(215)> country of citizenship (P27), place of bir...\n",
      "  wikidata_pageid: 1330\n",
      "  wikidata_url: https://www.wikidata.org/wiki/Q1001\n",
      "  wikitext: <str(290045)> {{Short description|20th-century Indian ...\n",
      "}\n"
     ]
    },
    {
     "data": {
      "text/plain": [
       "<wptools.page.WPToolsPage at 0x105c103d0>"
      ]
     },
     "execution_count": 8,
     "metadata": {},
     "output_type": "execute_result"
    }
   ],
   "source": [
    "page.get()"
   ]
  },
  {
   "cell_type": "code",
   "execution_count": null,
   "id": "numerous-stockholm",
   "metadata": {},
   "outputs": [],
   "source": []
  }
 ],
 "metadata": {
  "kernelspec": {
   "display_name": "Python 3",
   "language": "python",
   "name": "python3"
  },
  "language_info": {
   "codemirror_mode": {
    "name": "ipython",
    "version": 3
   },
   "file_extension": ".py",
   "mimetype": "text/x-python",
   "name": "python",
   "nbconvert_exporter": "python",
   "pygments_lexer": "ipython3",
   "version": "3.7.5"
  }
 },
 "nbformat": 4,
 "nbformat_minor": 5
}

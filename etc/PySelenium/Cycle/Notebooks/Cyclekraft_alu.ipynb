{
 "cells": [
  {
   "cell_type": "code",
   "execution_count": 2,
   "metadata": {},
   "outputs": [],
   "source": [
    "import pandas as pd"
   ]
  },
  {
   "cell_type": "code",
   "execution_count": 3,
   "metadata": {},
   "outputs": [
    {
     "name": "stdout",
     "output_type": "stream",
     "text": [
      "0    176\n",
      "1    176\n",
      "2    176\n",
      "3    176\n",
      "4    176\n",
      "dtype: int64\n"
     ]
    }
   ],
   "source": [
    "CSV_PATH = 'C:\\\\tmp\\\\cycle_alu.csv'\n",
    "\n",
    "df = pd.read_csv(CSV_PATH, sep=\",\", parse_dates=True, header=None, encoding = 'unicode_escape')  # index_col=0, # RamCheck/\n",
    "print(df.count())"
   ]
  },
  {
   "cell_type": "code",
   "execution_count": 4,
   "metadata": {},
   "outputs": [],
   "source": [
    "# sen = 'Vikt (enligt tillverkaren) 12.0 kg'\n",
    "\n",
    "# sentense = sen.split('kg')\n",
    "# words = sentense[0].strip().split(' ')\n",
    "# words[-1]\n"
   ]
  },
  {
   "cell_type": "code",
   "execution_count": 5,
   "metadata": {},
   "outputs": [],
   "source": [
    "def get_weights(sen):\n",
    "    sentense = sen.split('kg')\n",
    "    words = sentense[0].strip().split(' ')\n",
    "    return words[-1]\n",
    "    \n",
    "\n",
    "df['weight'] = df[3].map(get_weights)\n",
    "df['weight'] = df['weight'].map(lambda x: 0 if x == 'False' else x)\n",
    "df['weight'] = df['weight'].astype(float)"
   ]
  },
  {
   "cell_type": "code",
   "execution_count": 6,
   "metadata": {},
   "outputs": [
    {
     "data": {
      "text/html": [
       "<div>\n",
       "<style scoped>\n",
       "    .dataframe tbody tr th:only-of-type {\n",
       "        vertical-align: middle;\n",
       "    }\n",
       "\n",
       "    .dataframe tbody tr th {\n",
       "        vertical-align: top;\n",
       "    }\n",
       "\n",
       "    .dataframe thead th {\n",
       "        text-align: right;\n",
       "    }\n",
       "</style>\n",
       "<table border=\"1\" class=\"dataframe\">\n",
       "  <thead>\n",
       "    <tr style=\"text-align: right;\">\n",
       "      <th></th>\n",
       "      <th>0</th>\n",
       "      <th>1</th>\n",
       "      <th>2</th>\n",
       "      <th>3</th>\n",
       "      <th>4</th>\n",
       "      <th>weight</th>\n",
       "    </tr>\n",
       "  </thead>\n",
       "  <tbody>\n",
       "    <tr>\n",
       "      <th>0</th>\n",
       "      <td>2019-05-26 19:00:29</td>\n",
       "      <td>0</td>\n",
       "      <td>4 390 kr 3 779 kr</td>\n",
       "      <td>['Vikt (enligt tillverkaren) 13.8 kg']</td>\n",
       "      <td>Kross Lea 2.0 27.5 svart/röd/lila</td>\n",
       "      <td>13.8</td>\n",
       "    </tr>\n",
       "    <tr>\n",
       "      <th>1</th>\n",
       "      <td>2019-05-26 19:00:50</td>\n",
       "      <td>1</td>\n",
       "      <td>5 490 kr 4 649 kr</td>\n",
       "      <td>['Vikt (enligt tillverkaren) 13.2 kg']</td>\n",
       "      <td>Kross Lea 4.0 27.5 rosa/svart</td>\n",
       "      <td>13.2</td>\n",
       "    </tr>\n",
       "    <tr>\n",
       "      <th>2</th>\n",
       "      <td>2019-05-26 19:01:16</td>\n",
       "      <td>2</td>\n",
       "      <td>7 690 kr 6 729 kr</td>\n",
       "      <td>['Vikt (enligt tillverkaren) 13.7 kg']</td>\n",
       "      <td>Kross Level 4.0 27.5 svart/röd/vit</td>\n",
       "      <td>13.7</td>\n",
       "    </tr>\n",
       "    <tr>\n",
       "      <th>3</th>\n",
       "      <td>2019-05-26 19:01:40</td>\n",
       "      <td>3</td>\n",
       "      <td>4 390 kr 3 469 kr</td>\n",
       "      <td>['Vikt (enligt tillverkaren) 13.7 kg']</td>\n",
       "      <td>Kross Lea 1.0 svart/röd</td>\n",
       "      <td>13.7</td>\n",
       "    </tr>\n",
       "    <tr>\n",
       "      <th>4</th>\n",
       "      <td>2019-05-26 19:02:09</td>\n",
       "      <td>4</td>\n",
       "      <td>9 990 kr 8 991 kr</td>\n",
       "      <td>['Vikt (enligt tillverkaren) ca 14 kg']</td>\n",
       "      <td>Crescent Modig M20 29 matt svart</td>\n",
       "      <td>14.0</td>\n",
       "    </tr>\n",
       "  </tbody>\n",
       "</table>\n",
       "</div>"
      ],
      "text/plain": [
       "                     0  1                   2  \\\n",
       "0  2019-05-26 19:00:29  0   4 390 kr 3 779 kr   \n",
       "1  2019-05-26 19:00:50  1   5 490 kr 4 649 kr   \n",
       "2  2019-05-26 19:01:16  2   7 690 kr 6 729 kr   \n",
       "3  2019-05-26 19:01:40  3   4 390 kr 3 469 kr   \n",
       "4  2019-05-26 19:02:09  4   9 990 kr 8 991 kr   \n",
       "\n",
       "                                          3  \\\n",
       "0    ['Vikt (enligt tillverkaren) 13.8 kg']   \n",
       "1    ['Vikt (enligt tillverkaren) 13.2 kg']   \n",
       "2    ['Vikt (enligt tillverkaren) 13.7 kg']   \n",
       "3    ['Vikt (enligt tillverkaren) 13.7 kg']   \n",
       "4   ['Vikt (enligt tillverkaren) ca 14 kg']   \n",
       "\n",
       "                                     4  weight  \n",
       "0    Kross Lea 2.0 27.5 svart/röd/lila    13.8  \n",
       "1        Kross Lea 4.0 27.5 rosa/svart    13.2  \n",
       "2   Kross Level 4.0 27.5 svart/röd/vit    13.7  \n",
       "3              Kross Lea 1.0 svart/röd    13.7  \n",
       "4     Crescent Modig M20 29 matt svart    14.0  "
      ]
     },
     "execution_count": 6,
     "metadata": {},
     "output_type": "execute_result"
    }
   ],
   "source": [
    "df.head()"
   ]
  },
  {
   "cell_type": "code",
   "execution_count": 7,
   "metadata": {},
   "outputs": [
    {
     "data": {
      "text/plain": [
       "0     4 390 kr 3 779 kr\n",
       "1     5 490 kr 4 649 kr\n",
       "2     7 690 kr 6 729 kr\n",
       "3     4 390 kr 3 469 kr\n",
       "4     9 990 kr 8 991 kr\n",
       "Name: 2, dtype: object"
      ]
     },
     "execution_count": 7,
     "metadata": {},
     "output_type": "execute_result"
    }
   ],
   "source": [
    "df[2].head()"
   ]
  },
  {
   "cell_type": "code",
   "execution_count": 8,
   "metadata": {},
   "outputs": [
    {
     "data": {
      "text/plain": [
       "4491.0"
      ]
     },
     "execution_count": 8,
     "metadata": {},
     "output_type": "execute_result"
    }
   ],
   "source": [
    "sen = '4 990 kr 4 491 kr'\n",
    "# sen = '2 990 kr'\n",
    "\n",
    "def process_price(sen):\n",
    "    words = sen.strip().split('kr')\n",
    "    return float(words[-2].replace(' ', ''))\n",
    "\n",
    "process_price(sen)"
   ]
  },
  {
   "cell_type": "code",
   "execution_count": 9,
   "metadata": {},
   "outputs": [],
   "source": [
    "df['price']=df[2].map(process_price)"
   ]
  },
  {
   "cell_type": "code",
   "execution_count": 10,
   "metadata": {},
   "outputs": [
    {
     "data": {
      "text/plain": [
       "0          object\n",
       "1           int64\n",
       "2          object\n",
       "3          object\n",
       "4          object\n",
       "weight    float64\n",
       "price     float64\n",
       "dtype: object"
      ]
     },
     "execution_count": 10,
     "metadata": {},
     "output_type": "execute_result"
    }
   ],
   "source": [
    "df.dtypes"
   ]
  },
  {
   "cell_type": "code",
   "execution_count": 12,
   "metadata": {},
   "outputs": [
    {
     "data": {
      "image/png": "[encoded data removed]",
      "text/plain": [
       "<Figure size 432x288 with 1 Axes>"
      ]
     },
     "metadata": {
      "needs_background": "light"
     },
     "output_type": "display_data"
    },
    {
     "data": {
      "text/plain": [
       "<Figure size 720x360 with 0 Axes>"
      ]
     },
     "metadata": {},
     "output_type": "display_data"
    }
   ],
   "source": [
    "import matplotlib.pyplot as plt\n",
    "\n",
    "plt.scatter(df['price'], df['weight']) \n",
    "# df.plot(x=\"price\", y=[\"weight\"])\n",
    "plt.figure(figsize=(10,5))\n",
    "plt.show()"
   ]
  },
  {
   "cell_type": "code",
   "execution_count": 14,
   "metadata": {},
   "outputs": [
    {
     "data": {
      "text/html": [
       "<div>\n",
       "<style scoped>\n",
       "    .dataframe tbody tr th:only-of-type {\n",
       "        vertical-align: middle;\n",
       "    }\n",
       "\n",
       "    .dataframe tbody tr th {\n",
       "        vertical-align: top;\n",
       "    }\n",
       "\n",
       "    .dataframe thead th {\n",
       "        text-align: right;\n",
       "    }\n",
       "</style>\n",
       "<table border=\"1\" class=\"dataframe\">\n",
       "  <thead>\n",
       "    <tr style=\"text-align: right;\">\n",
       "      <th></th>\n",
       "      <th>0</th>\n",
       "      <th>1</th>\n",
       "      <th>2</th>\n",
       "      <th>3</th>\n",
       "      <th>4</th>\n",
       "      <th>weight</th>\n",
       "      <th>price</th>\n",
       "    </tr>\n",
       "  </thead>\n",
       "  <tbody>\n",
       "    <tr>\n",
       "      <th>81</th>\n",
       "      <td>2019-05-26 19:34:28</td>\n",
       "      <td>81</td>\n",
       "      <td>3 990 kr</td>\n",
       "      <td>['Vikt (enligt tillverkaren) 10.5 kg']</td>\n",
       "      <td>Rock Machine Blizz 24 matt grå/gul/svart</td>\n",
       "      <td>10.50</td>\n",
       "      <td>3990.0</td>\n",
       "    </tr>\n",
       "    <tr>\n",
       "      <th>168</th>\n",
       "      <td>2019-05-26 20:10:33</td>\n",
       "      <td>168</td>\n",
       "      <td>4 590 kr</td>\n",
       "      <td>['Vikt (enligt tillverkaren) 10.65 kg']</td>\n",
       "      <td>Merida Matts J24 Race silver/grön</td>\n",
       "      <td>10.65</td>\n",
       "      <td>4590.0</td>\n",
       "    </tr>\n",
       "    <tr>\n",
       "      <th>94</th>\n",
       "      <td>2019-05-26 19:39:35</td>\n",
       "      <td>94</td>\n",
       "      <td>4 590 kr</td>\n",
       "      <td>['Vikt (enligt tillverkaren) 11.3 kg']</td>\n",
       "      <td>Merida Matts J24 Race vit/teal</td>\n",
       "      <td>11.30</td>\n",
       "      <td>4590.0</td>\n",
       "    </tr>\n",
       "  </tbody>\n",
       "</table>\n",
       "</div>"
      ],
      "text/plain": [
       "                       0    1          2  \\\n",
       "81   2019-05-26 19:34:28   81   3 990 kr   \n",
       "168  2019-05-26 20:10:33  168   4 590 kr   \n",
       "94   2019-05-26 19:39:35   94   4 590 kr   \n",
       "\n",
       "                                            3  \\\n",
       "81     ['Vikt (enligt tillverkaren) 10.5 kg']   \n",
       "168   ['Vikt (enligt tillverkaren) 10.65 kg']   \n",
       "94     ['Vikt (enligt tillverkaren) 11.3 kg']   \n",
       "\n",
       "                                             4  weight   price  \n",
       "81    Rock Machine Blizz 24 matt grå/gul/svart   10.50  3990.0  \n",
       "168          Merida Matts J24 Race silver/grön   10.65  4590.0  \n",
       "94              Merida Matts J24 Race vit/teal   11.30  4590.0  "
      ]
     },
     "execution_count": 14,
     "metadata": {},
     "output_type": "execute_result"
    }
   ],
   "source": [
    "df.loc[( df['price']<5000) & (df['weight']<12), :].sort_values(['weight', 'price'], ascending=[1, 0])"
   ]
  },
  {
   "cell_type": "code",
   "execution_count": null,
   "metadata": {},
   "outputs": [],
   "source": []
  }
 ],
 "metadata": {
  "kernelspec": {
   "display_name": "Python 3",
   "language": "python",
   "name": "python3"
  },
  "language_info": {
   "codemirror_mode": {
    "name": "ipython",
    "version": 3
   },
   "file_extension": ".py",
   "mimetype": "text/x-python",
   "name": "python",
   "nbconvert_exporter": "python",
   "pygments_lexer": "ipython3",
   "version": "3.6.8"
  }
 },
 "nbformat": 4,
 "nbformat_minor": 2
}

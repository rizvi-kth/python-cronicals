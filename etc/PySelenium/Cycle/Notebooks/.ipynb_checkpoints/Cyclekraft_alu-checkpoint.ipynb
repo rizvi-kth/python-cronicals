{
 "cells": [
  {
   "cell_type": "code",
   "execution_count": 1,
   "metadata": {},
   "outputs": [],
   "source": [
    "import pandas as pd"
   ]
  },
  {
   "cell_type": "code",
   "execution_count": 93,
   "metadata": {},
   "outputs": [
    {
     "name": "stdout",
     "output_type": "stream",
     "text": [
      "0    219\n",
      "1    219\n",
      "2    219\n",
      "3    219\n",
      "4    219\n",
      "dtype: int64\n"
     ]
    }
   ],
   "source": [
    "CSV_PATH = 'C:\\\\tmp\\\\cycle3.csv'\n",
    "\n",
    "df = pd.read_csv(CSV_PATH, sep=\",\", parse_dates=True, header=None, encoding = 'unicode_escape')  # index_col=0, # RamCheck/\n",
    "print(df.count())"
   ]
  },
  {
   "cell_type": "code",
   "execution_count": 94,
   "metadata": {},
   "outputs": [],
   "source": [
    "# sen = 'Vikt (enligt tillverkaren) 12.0 kg'\n",
    "\n",
    "# sentense = sen.split('kg')\n",
    "# words = sentense[0].strip().split(' ')\n",
    "# words[-1]\n"
   ]
  },
  {
   "cell_type": "code",
   "execution_count": 95,
   "metadata": {},
   "outputs": [],
   "source": [
    "def get_weights(sen):\n",
    "    sentense = sen.split('kg')\n",
    "    words = sentense[0].strip().split(' ')\n",
    "    return words[-1]\n",
    "    \n",
    "\n",
    "df['weight'] = df[3].map(get_weights)\n",
    "df['weight'] = df['weight'].map(lambda x: 0 if x == 'False' else x)\n",
    "df['weight'] = df['weight'].astype(float)"
   ]
  },
  {
   "cell_type": "code",
   "execution_count": 96,
   "metadata": {},
   "outputs": [
    {
     "data": {
      "text/html": [
       "<div>\n",
       "<style scoped>\n",
       "    .dataframe tbody tr th:only-of-type {\n",
       "        vertical-align: middle;\n",
       "    }\n",
       "\n",
       "    .dataframe tbody tr th {\n",
       "        vertical-align: top;\n",
       "    }\n",
       "\n",
       "    .dataframe thead th {\n",
       "        text-align: right;\n",
       "    }\n",
       "</style>\n",
       "<table border=\"1\" class=\"dataframe\">\n",
       "  <thead>\n",
       "    <tr style=\"text-align: right;\">\n",
       "      <th></th>\n",
       "      <th>0</th>\n",
       "      <th>1</th>\n",
       "      <th>2</th>\n",
       "      <th>3</th>\n",
       "      <th>4</th>\n",
       "      <th>weight</th>\n",
       "    </tr>\n",
       "  </thead>\n",
       "  <tbody>\n",
       "    <tr>\n",
       "      <th>0</th>\n",
       "      <td>2019-05-25 21:31:56</td>\n",
       "      <td>0</td>\n",
       "      <td>2 990 kr</td>\n",
       "      <td>['Vikt (enligt tillverkaren) 12.0 kg']</td>\n",
       "      <td>Rock Machine Storm 24 grå/gul/blå</td>\n",
       "      <td>12.0</td>\n",
       "    </tr>\n",
       "    <tr>\n",
       "      <th>1</th>\n",
       "      <td>2019-05-25 21:32:15</td>\n",
       "      <td>1</td>\n",
       "      <td>3 990 kr</td>\n",
       "      <td>['Vikt (enligt tillverkaren) 10.5 kg']</td>\n",
       "      <td>Rock Machine Blizz 24 matt grå/gul/svart</td>\n",
       "      <td>10.5</td>\n",
       "    </tr>\n",
       "    <tr>\n",
       "      <th>2</th>\n",
       "      <td>2019-05-25 21:32:34</td>\n",
       "      <td>2</td>\n",
       "      <td>3 990 kr</td>\n",
       "      <td>['Vikt (enligt tillverkaren) 14.5 kg (small)']</td>\n",
       "      <td>Rock Machine Catherine 40-27 grå/rosa/lila</td>\n",
       "      <td>14.5</td>\n",
       "    </tr>\n",
       "    <tr>\n",
       "      <th>3</th>\n",
       "      <td>2019-05-25 21:32:59</td>\n",
       "      <td>3</td>\n",
       "      <td>3 990 kr</td>\n",
       "      <td>['Vikt (enligt tillverkaren) 13.8 kg (medium)']</td>\n",
       "      <td>Rock Machine Manhattan 40-27 matt svart/blå/m...</td>\n",
       "      <td>13.8</td>\n",
       "    </tr>\n",
       "    <tr>\n",
       "      <th>4</th>\n",
       "      <td>2019-05-25 21:33:19</td>\n",
       "      <td>4</td>\n",
       "      <td>3 990 kr</td>\n",
       "      <td>['Vikt (enligt tillverkaren) 14.0 kg (medium)']</td>\n",
       "      <td>Rock Machine Manhattan 40-29 matt svart/grön/...</td>\n",
       "      <td>14.0</td>\n",
       "    </tr>\n",
       "  </tbody>\n",
       "</table>\n",
       "</div>"
      ],
      "text/plain": [
       "                     0  1          2  \\\n",
       "0  2019-05-25 21:31:56  0   2 990 kr   \n",
       "1  2019-05-25 21:32:15  1   3 990 kr   \n",
       "2  2019-05-25 21:32:34  2   3 990 kr   \n",
       "3  2019-05-25 21:32:59  3   3 990 kr   \n",
       "4  2019-05-25 21:33:19  4   3 990 kr   \n",
       "\n",
       "                                                  3  \\\n",
       "0            ['Vikt (enligt tillverkaren) 12.0 kg']   \n",
       "1            ['Vikt (enligt tillverkaren) 10.5 kg']   \n",
       "2    ['Vikt (enligt tillverkaren) 14.5 kg (small)']   \n",
       "3   ['Vikt (enligt tillverkaren) 13.8 kg (medium)']   \n",
       "4   ['Vikt (enligt tillverkaren) 14.0 kg (medium)']   \n",
       "\n",
       "                                                   4  weight  \n",
       "0                  Rock Machine Storm 24 grå/gul/blå    12.0  \n",
       "1           Rock Machine Blizz 24 matt grå/gul/svart    10.5  \n",
       "2         Rock Machine Catherine 40-27 grå/rosa/lila    14.5  \n",
       "3   Rock Machine Manhattan 40-27 matt svart/blå/m...    13.8  \n",
       "4   Rock Machine Manhattan 40-29 matt svart/grön/...    14.0  "
      ]
     },
     "execution_count": 96,
     "metadata": {},
     "output_type": "execute_result"
    }
   ],
   "source": [
    "df.head()"
   ]
  },
  {
   "cell_type": "code",
   "execution_count": 97,
   "metadata": {},
   "outputs": [
    {
     "data": {
      "text/plain": [
       "0     2 990 kr\n",
       "1     3 990 kr\n",
       "2     3 990 kr\n",
       "3     3 990 kr\n",
       "4     3 990 kr\n",
       "Name: 2, dtype: object"
      ]
     },
     "execution_count": 97,
     "metadata": {},
     "output_type": "execute_result"
    }
   ],
   "source": [
    "df[2].head()"
   ]
  },
  {
   "cell_type": "code",
   "execution_count": 98,
   "metadata": {},
   "outputs": [
    {
     "data": {
      "text/plain": [
       "4491.0"
      ]
     },
     "execution_count": 98,
     "metadata": {},
     "output_type": "execute_result"
    }
   ],
   "source": [
    "sen = '4 990 kr 4 491 kr'\n",
    "# sen = '2 990 kr'\n",
    "\n",
    "def process_price(sen):\n",
    "    words = sen.strip().split('kr')\n",
    "    return float(words[-2].replace(' ', ''))\n",
    "\n",
    "process_price(sen)"
   ]
  },
  {
   "cell_type": "code",
   "execution_count": 99,
   "metadata": {},
   "outputs": [],
   "source": [
    "df['price']=df[2].map(process_price)"
   ]
  },
  {
   "cell_type": "code",
   "execution_count": 100,
   "metadata": {},
   "outputs": [
    {
     "data": {
      "text/plain": [
       "0          object\n",
       "1           int64\n",
       "2          object\n",
       "3          object\n",
       "4          object\n",
       "weight    float64\n",
       "price     float64\n",
       "dtype: object"
      ]
     },
     "execution_count": 100,
     "metadata": {},
     "output_type": "execute_result"
    }
   ],
   "source": [
    "df.dtypes"
   ]
  },
  {
   "cell_type": "code",
   "execution_count": 101,
   "metadata": {},
   "outputs": [
    {
     "data": {
      "image/png": "[encoded data removed]",
      "text/plain": [
       "<Figure size 432x288 with 1 Axes>"
      ]
     },
     "metadata": {
      "needs_background": "light"
     },
     "output_type": "display_data"
    },
    {
     "data": {
      "text/plain": [
       "<Figure size 720x360 with 0 Axes>"
      ]
     },
     "metadata": {},
     "output_type": "display_data"
    }
   ],
   "source": [
    "import matplotlib.pyplot as plt\n",
    "\n",
    "plt.scatter(df['price'], df['weight']) \n",
    "# df.plot(x=\"price\", y=[\"weight\"])\n",
    "plt.figure(figsize=(10,5))\n",
    "plt.show()"
   ]
  },
  {
   "cell_type": "code",
   "execution_count": 102,
   "metadata": {},
   "outputs": [
    {
     "data": {
      "text/html": [
       "<div>\n",
       "<style scoped>\n",
       "    .dataframe tbody tr th:only-of-type {\n",
       "        vertical-align: middle;\n",
       "    }\n",
       "\n",
       "    .dataframe tbody tr th {\n",
       "        vertical-align: top;\n",
       "    }\n",
       "\n",
       "    .dataframe thead th {\n",
       "        text-align: right;\n",
       "    }\n",
       "</style>\n",
       "<table border=\"1\" class=\"dataframe\">\n",
       "  <thead>\n",
       "    <tr style=\"text-align: right;\">\n",
       "      <th></th>\n",
       "      <th>0</th>\n",
       "      <th>1</th>\n",
       "      <th>2</th>\n",
       "      <th>3</th>\n",
       "      <th>4</th>\n",
       "      <th>weight</th>\n",
       "      <th>price</th>\n",
       "    </tr>\n",
       "  </thead>\n",
       "  <tbody>\n",
       "    <tr>\n",
       "      <th>1</th>\n",
       "      <td>2019-05-25 21:32:15</td>\n",
       "      <td>1</td>\n",
       "      <td>3 990 kr</td>\n",
       "      <td>['Vikt (enligt tillverkaren) 10.5 kg']</td>\n",
       "      <td>Rock Machine Blizz 24 matt grå/gul/svart</td>\n",
       "      <td>10.50</td>\n",
       "      <td>3990.0</td>\n",
       "    </tr>\n",
       "    <tr>\n",
       "      <th>7</th>\n",
       "      <td>2019-05-25 21:34:23</td>\n",
       "      <td>7</td>\n",
       "      <td>4 590 kr</td>\n",
       "      <td>['Vikt (enligt tillverkaren) 10.65 kg']</td>\n",
       "      <td>Merida Matts J24 Race silver/grön</td>\n",
       "      <td>10.65</td>\n",
       "      <td>4590.0</td>\n",
       "    </tr>\n",
       "    <tr>\n",
       "      <th>8</th>\n",
       "      <td>2019-05-25 21:34:46</td>\n",
       "      <td>8</td>\n",
       "      <td>4 590 kr</td>\n",
       "      <td>['Vikt (enligt tillverkaren) 11.3 kg']</td>\n",
       "      <td>Merida Matts J24 Race vit/teal</td>\n",
       "      <td>11.30</td>\n",
       "      <td>4590.0</td>\n",
       "    </tr>\n",
       "    <tr>\n",
       "      <th>0</th>\n",
       "      <td>2019-05-25 21:31:56</td>\n",
       "      <td>0</td>\n",
       "      <td>2 990 kr</td>\n",
       "      <td>['Vikt (enligt tillverkaren) 12.0 kg']</td>\n",
       "      <td>Rock Machine Storm 24 grå/gul/blå</td>\n",
       "      <td>12.00</td>\n",
       "      <td>2990.0</td>\n",
       "    </tr>\n",
       "    <tr>\n",
       "      <th>9</th>\n",
       "      <td>2019-05-25 21:35:11</td>\n",
       "      <td>9</td>\n",
       "      <td>4 590 kr</td>\n",
       "      <td>['Vikt (enligt tillverkaren) 12.98 kg']</td>\n",
       "      <td>Merida Matts J24 silver/grön</td>\n",
       "      <td>12.98</td>\n",
       "      <td>4590.0</td>\n",
       "    </tr>\n",
       "    <tr>\n",
       "      <th>6</th>\n",
       "      <td>2019-05-25 21:34:02</td>\n",
       "      <td>6</td>\n",
       "      <td>4 990 kr 4 491 kr</td>\n",
       "      <td>['Vikt (enligt tillverkaren) 13.5 kg']</td>\n",
       "      <td>Scott Roxter 620</td>\n",
       "      <td>13.50</td>\n",
       "      <td>4491.0</td>\n",
       "    </tr>\n",
       "    <tr>\n",
       "      <th>3</th>\n",
       "      <td>2019-05-25 21:32:59</td>\n",
       "      <td>3</td>\n",
       "      <td>3 990 kr</td>\n",
       "      <td>['Vikt (enligt tillverkaren) 13.8 kg (medium)']</td>\n",
       "      <td>Rock Machine Manhattan 40-27 matt svart/blå/m...</td>\n",
       "      <td>13.80</td>\n",
       "      <td>3990.0</td>\n",
       "    </tr>\n",
       "    <tr>\n",
       "      <th>5</th>\n",
       "      <td>2019-05-25 21:33:42</td>\n",
       "      <td>5</td>\n",
       "      <td>4 990 kr 4 491 kr</td>\n",
       "      <td>['Vikt (enligt tillverkaren) 13.85 kg']</td>\n",
       "      <td>Scott Aspect 780 blå/gul</td>\n",
       "      <td>13.85</td>\n",
       "      <td>4491.0</td>\n",
       "    </tr>\n",
       "    <tr>\n",
       "      <th>13</th>\n",
       "      <td>2019-05-25 21:36:50</td>\n",
       "      <td>13</td>\n",
       "      <td>4 990 kr</td>\n",
       "      <td>['Vikt (enligt tillverkaren) 13.9 kg']</td>\n",
       "      <td>Crescent Vale 24\" 21-växlad matt limegrön</td>\n",
       "      <td>13.90</td>\n",
       "      <td>4990.0</td>\n",
       "    </tr>\n",
       "    <tr>\n",
       "      <th>21</th>\n",
       "      <td>2019-05-25 21:39:58</td>\n",
       "      <td>21</td>\n",
       "      <td>4 990 kr</td>\n",
       "      <td>['Vikt (enligt tillverkaren) 13.9 kg']</td>\n",
       "      <td>Crescent Vale 24\" 21-växlad mörkgrå</td>\n",
       "      <td>13.90</td>\n",
       "      <td>4990.0</td>\n",
       "    </tr>\n",
       "  </tbody>\n",
       "</table>\n",
       "</div>"
      ],
      "text/plain": [
       "                      0   1                   2  \\\n",
       "1   2019-05-25 21:32:15   1            3 990 kr   \n",
       "7   2019-05-25 21:34:23   7            4 590 kr   \n",
       "8   2019-05-25 21:34:46   8            4 590 kr   \n",
       "0   2019-05-25 21:31:56   0            2 990 kr   \n",
       "9   2019-05-25 21:35:11   9            4 590 kr   \n",
       "6   2019-05-25 21:34:02   6   4 990 kr 4 491 kr   \n",
       "3   2019-05-25 21:32:59   3            3 990 kr   \n",
       "5   2019-05-25 21:33:42   5   4 990 kr 4 491 kr   \n",
       "13  2019-05-25 21:36:50  13            4 990 kr   \n",
       "21  2019-05-25 21:39:58  21            4 990 kr   \n",
       "\n",
       "                                                   3  \\\n",
       "1             ['Vikt (enligt tillverkaren) 10.5 kg']   \n",
       "7            ['Vikt (enligt tillverkaren) 10.65 kg']   \n",
       "8             ['Vikt (enligt tillverkaren) 11.3 kg']   \n",
       "0             ['Vikt (enligt tillverkaren) 12.0 kg']   \n",
       "9            ['Vikt (enligt tillverkaren) 12.98 kg']   \n",
       "6             ['Vikt (enligt tillverkaren) 13.5 kg']   \n",
       "3    ['Vikt (enligt tillverkaren) 13.8 kg (medium)']   \n",
       "5            ['Vikt (enligt tillverkaren) 13.85 kg']   \n",
       "13            ['Vikt (enligt tillverkaren) 13.9 kg']   \n",
       "21            ['Vikt (enligt tillverkaren) 13.9 kg']   \n",
       "\n",
       "                                                    4  weight   price  \n",
       "1            Rock Machine Blizz 24 matt grå/gul/svart   10.50  3990.0  \n",
       "7                   Merida Matts J24 Race silver/grön   10.65  4590.0  \n",
       "8                      Merida Matts J24 Race vit/teal   11.30  4590.0  \n",
       "0                   Rock Machine Storm 24 grå/gul/blå   12.00  2990.0  \n",
       "9                        Merida Matts J24 silver/grön   12.98  4590.0  \n",
       "6                                    Scott Roxter 620   13.50  4491.0  \n",
       "3    Rock Machine Manhattan 40-27 matt svart/blå/m...   13.80  3990.0  \n",
       "5                            Scott Aspect 780 blå/gul   13.85  4491.0  \n",
       "13          Crescent Vale 24\" 21-växlad matt limegrön   13.90  4990.0  \n",
       "21                Crescent Vale 24\" 21-växlad mörkgrå   13.90  4990.0  "
      ]
     },
     "execution_count": 102,
     "metadata": {},
     "output_type": "execute_result"
    }
   ],
   "source": [
    "df.loc[( df['price']<5000) & (df['weight']<14), :].sort_values(['weight', 'price'], ascending=[1, 0])"
   ]
  },
  {
   "cell_type": "code",
   "execution_count": null,
   "metadata": {},
   "outputs": [],
   "source": []
  }
 ],
 "metadata": {
  "kernelspec": {
   "display_name": "Python 3",
   "language": "python",
   "name": "python3"
  },
  "language_info": {
   "codemirror_mode": {
    "name": "ipython",
    "version": 3
   },
   "file_extension": ".py",
   "mimetype": "text/x-python",
   "name": "python",
   "nbconvert_exporter": "python",
   "pygments_lexer": "ipython3",
   "version": "3.6.8"
  }
 },
 "nbformat": 4,
 "nbformat_minor": 2
}
